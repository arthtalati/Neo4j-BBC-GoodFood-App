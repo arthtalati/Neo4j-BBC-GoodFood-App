{
  "nbformat": 4,
  "nbformat_minor": 0,
  "metadata": {
    "colab": {
      "name": "BBC_goodfood_scraper.ipynb",
      "provenance": [],
      "authorship_tag": "ABX9TyMNuJ/pGHO0T1Q0qm0cXU34",
      "include_colab_link": true
    },
    "kernelspec": {
      "name": "python3",
      "display_name": "Python 3"
    }
  },
  "cells": [
    {
      "cell_type": "markdown",
      "metadata": {
        "id": "view-in-github",
        "colab_type": "text"
      },
      "source": [
        "<a href=\"https://colab.research.google.com/github/arthtalati/Neo4j-BBC-GoodFood-App/blob/master/BBC_goodfood_scraper.ipynb\" target=\"_parent\"><img src=\"https://colab.research.google.com/assets/colab-badge.svg\" alt=\"Open In Colab\"/></a>"
      ]
    },
    {
      "cell_type": "markdown",
      "metadata": {
        "id": "414Yy3WRdsBN",
        "colab_type": "text"
      },
      "source": [
        "# GET ALL URLS"
      ]
    },
    {
      "cell_type": "code",
      "metadata": {
        "id": "wiWJSap7d5Di",
        "colab_type": "code",
        "colab": {}
      },
      "source": [
        "# Pushed to Future when I have the demo APP/ Graph model working with satisfatory results, rn working with 360 urls scrapped by OpenLink Software"
      ],
      "execution_count": null,
      "outputs": []
    },
    {
      "cell_type": "markdown",
      "metadata": {
        "id": "I4t7SMfxIaYA",
        "colab_type": "text"
      },
      "source": [
        "# INITIAL WORK \n",
        "Source - https://github.com/wel-shy/recipes/blob/master/_getrecipe.py"
      ]
    },
    {
      "cell_type": "code",
      "metadata": {
        "id": "nyQhgnB2K0If",
        "colab_type": "code",
        "colab": {}
      },
      "source": [
        "import unicodedata\n",
        "from bs4 import BeautifulSoup\n",
        "from urllib.request import Request, urlopen\n",
        "\n",
        "site= \"https://www.bbcgoodfood.com/recipes/cinnamon-porridge-banana-berries\"\n",
        "hdr = {'User-Agent': 'Mozilla/5.0'}\n",
        "req = Request(site,headers=hdr)\n",
        "page = urlopen(req)\n",
        "soup = BeautifulSoup(page)\n",
        "# print(soup)"
      ],
      "execution_count": null,
      "outputs": []
    },
    {
      "cell_type": "code",
      "metadata": {
        "id": "LMsGo1FqlwPJ",
        "colab_type": "code",
        "colab": {}
      },
      "source": [
        "# Get title\n",
        "title = soup.find(\"h1\", class_=\"recipe-header__title\")\n",
        "file_name = title.text + \".txt\"\n",
        "file = open(file_name, \"w\")\n",
        "print(title.text)\n",
        "file.write(str(file_name) + '\\n')\n",
        "# file.write(unicodedata.normalize('NFKD', title.get_text()).encode('ascii', 'ignore') + \"\\n\")"
      ],
      "execution_count": null,
      "outputs": []
    },
    {
      "cell_type": "code",
      "metadata": {
        "id": "gUnUrqEVmWsp",
        "colab_type": "code",
        "colab": {
          "base_uri": "https://localhost:8080/",
          "height": 51
        },
        "outputId": "2dd8acba-143a-4943-fac8-9a235e468946"
      },
      "source": [
        "\n",
        "# Get meta-data\n",
        "# rating\n",
        "stars = soup.findAll(\"span\", class_=\"rate-fivestar-btn-filled\")\n",
        "temp = \"Rating: \" + str(len(stars))\n",
        "rating = temp.replace(\"\\n\", \"\")\n",
        "print(rating)\n",
        "file.write(rating + \"\\n\")"
      ],
      "execution_count": null,
      "outputs": [
        {
          "output_type": "stream",
          "text": [
            "Rating: 5\n"
          ],
          "name": "stdout"
        },
        {
          "output_type": "execute_result",
          "data": {
            "text/plain": [
              "10"
            ]
          },
          "metadata": {
            "tags": []
          },
          "execution_count": 30
        }
      ]
    },
    {
      "cell_type": "code",
      "metadata": {
        "id": "sIVtn0X4Be0N",
        "colab_type": "code",
        "colab": {
          "base_uri": "https://localhost:8080/",
          "height": 51
        },
        "outputId": "f802daf9-cad4-4d7d-b1fb-cd0c73c5cc42"
      },
      "source": [
        "\n",
        "# Get chef(Author of recipie)\n",
        "# CHEF\n",
        "stars = soup.find(\"span\", class_=\"author\")\n",
        "temp = \"Author: \" + str(stars.get_text())\n",
        "author = temp.replace(\"\\n\", \"\")\n",
        "print(author)\n",
        "file.write(author + \"\\n\")"
      ],
      "execution_count": null,
      "outputs": [
        {
          "output_type": "stream",
          "text": [
            "Author: Good Food\n"
          ],
          "name": "stdout"
        },
        {
          "output_type": "execute_result",
          "data": {
            "text/plain": [
              "18"
            ]
          },
          "metadata": {
            "tags": []
          },
          "execution_count": 31
        }
      ]
    },
    {
      "cell_type": "code",
      "metadata": {
        "id": "CZjWQNlIKZzw",
        "colab_type": "code",
        "colab": {}
      },
      "source": [
        "\n",
        "\n",
        "# Skill level\n",
        "skill = soup.find(\"section\", class_=\"recipe-details__item--skill-level\")\n",
        "temp = skill.get_text()\n",
        "level = temp.replace(\"\\n\", \"\").replace(\" \", \"\")\n",
        "print(level)\n",
        "file.write(\"Difficulty: \" + level + \"\\n\")\n",
        "\n",
        "# Serves\n",
        "serve = soup.find(\"section\", class_=\"recipe-details__item--servings\")\n",
        "temp = serve.get_text()\n",
        "serving = temp.replace(\"\\n\", \"\").replace(\" \", \"\").replace(\"Serves\", \"\")\n",
        "print(serving)\n",
        "file.write(\"Serves: \" + serving + \"\\n\")\n",
        "\n",
        "# prep time\n",
        "prep = soup.find(\"span\", class_=\"recipe-details__cooking-time-prep\")\n",
        "temp = prep.get_text()\n",
        "prep_time = temp.replace(\"\\n\", \"\").replace(\" \", \"\")\n",
        "print(prep_time)\n",
        "file.write(prep_time + \"\\n\")\n",
        "\n",
        "# cooking time\n",
        "cook = soup.find(\"span\", class_=\"recipe-details__cooking-time-cook\")\n",
        "temp = cook.get_text()\n",
        "cook_time = temp.replace(\"\\n\", \"\").replace(\" \", \"\")\n",
        "print(cook_time)\n",
        "file.write(cook_time + \"\\n\")\n",
        "\n",
        "# ingredients\n",
        "print(\"\\n\")\n",
        "print(\"Ingredients\")\n",
        "file.write(\"\\n\" + \"Ingredients:\" + \"\\n\")\n",
        "for li in soup.findAll(\"li\", class_=\"ingredients-list__item\"):\n",
        "    a = li.find('a', class_=\"ingredients-list__glossary-link\")\n",
        "    if a:\n",
        "        item = li.get_text()\n",
        "        lines = item.split(\"\\n\")\n",
        "        print(lines[0])\n",
        "        file.write(str(lines[0]) + '\\n')\n",
        "        # file.write(unicodedata.normalize('NFKD', lines[0]).encode('ascii', 'ignore') + \"\\n\")\n",
        "    else:\n",
        "        item = li.get_text()\n",
        "        print(li.get_text())\n",
        "        # file.write(str(file_name) + '\\n')\n",
        "        file.write(str(item) + '\\n')\n",
        "        # file.write(unicodedata.normalize('NFKD', li.get_text()).encode('ascii', 'ignore') + \"\\n\")\n",
        "print(\"\\n\")\n",
        "\n"
      ],
      "execution_count": null,
      "outputs": []
    },
    {
      "cell_type": "code",
      "metadata": {
        "id": "fBl96aYvnN-p",
        "colab_type": "code",
        "colab": {
          "base_uri": "https://localhost:8080/",
          "height": 224
        },
        "outputId": "5de271de-da61-471f-e3fa-7f030b2bc9b5"
      },
      "source": [
        "# method\n",
        "print(\"Method\")\n",
        "file.write(\"\\n\" + \"Method: \")\n",
        "method_counter = 0\n",
        "for li in soup.findAll(\"li\", class_=\"method__item\"):\n",
        "    method_counter += 1\n",
        "    method_item = li.get_text().replace(\"\\n\", \"\")\n",
        "    print(method_item)\n",
        "    file.write(str(method_item) + '\\n')\n",
        "    # file.write(unicodedata.normalize('NFKD', method_item).encode('ascii', 'ignore') + \"\\n\" + \"\\n\")\n",
        "\n",
        "# Nutrition\n",
        "file.write(\"\\n\")\n",
        "file.write(\"Nutrition: \\n\")\n",
        "nutrition = soup.find(\"ul\", class_=\"nutrition\")\n",
        "for li in nutrition.findAll(\"li\"):\n",
        "    label = li.find(\"span\", class_=\"nutrition__label\")\n",
        "    value = li.find(\"span\", class_=\"nutrition__value\")\n",
        "    print(label.get_text() + \": \" + value.get_text())\n",
        "    file.write(label.get_text() + \": \" + value.get_text() + \"\\n\")\n",
        "\n",
        "# write source\n",
        "file.write(\"\\nRecipe taken from site:\\n\")\n",
        "file.write(\"URL: \" + site)\n",
        "\n",
        "# close file\n",
        "file.close()"
      ],
      "execution_count": null,
      "outputs": [
        {
          "output_type": "stream",
          "text": [
            "Method\n",
            "In a medium-sized saucepan, mix the oats, cinnamon, sugar, milk and half the sliced bananas. Bring to the boil, stirring occasionally. Turn down the heat and cook for 4-5 mins, stirring all the time.\n",
            "Remove and divide between 4 bowls, top with the remaining banana, strawberries, a dollop of yogurt and a sprinkle of cinnamon.\n",
            "kcal: 266\n",
            "fat: 2g\n",
            "saturates: 1g\n",
            "carbs: 53g\n",
            "sugars: 34g\n",
            "fibre: 5g\n",
            "protein: 12g\n",
            "salt: 0.24g\n"
          ],
          "name": "stdout"
        }
      ]
    },
    {
      "cell_type": "markdown",
      "metadata": {
        "id": "387482TzdyCd",
        "colab_type": "text"
      },
      "source": [
        "# URL  SCRAPPER"
      ]
    },
    {
      "cell_type": "code",
      "metadata": {
        "id": "cGFvjQAZ2Mo-",
        "colab_type": "code",
        "colab": {
          "base_uri": "https://localhost:8080/",
          "height": 442
        },
        "outputId": "de79970d-fc28-4aef-aa7a-3519e007d063"
      },
      "source": [
        "!pip install selenium\n",
        "!apt-get update # to update ubuntu to correctly run apt install\n",
        "!apt install chromium-chromedriver\n",
        "!cp /usr/lib/chromium-browser/chromedriver /usr/bin\n",
        "import sys\n",
        "sys.path.insert(0,'/usr/lib/chromium-browser/chromedriver')\n",
        "from selenium import webdriver\n",
        "chrome_options = webdriver.ChromeOptions()\n",
        "chrome_options.add_argument('--headless')\n",
        "chrome_options.add_argument('--no-sandbox')\n",
        "chrome_options.add_argument('--disable-dev-shm-usage')\n",
        "driver = webdriver.Chrome('chromedriver',chrome_options=chrome_options)"
      ],
      "execution_count": 17,
      "outputs": [
        {
          "output_type": "stream",
          "text": [
            "Requirement already satisfied: selenium in /usr/local/lib/python3.6/dist-packages (3.141.0)\n",
            "Requirement already satisfied: urllib3 in /usr/local/lib/python3.6/dist-packages (from selenium) (1.24.3)\n",
            "Hit:1 https://cloud.r-project.org/bin/linux/ubuntu bionic-cran35/ InRelease\n",
            "Ign:2 https://developer.download.nvidia.com/compute/cuda/repos/ubuntu1804/x86_64  InRelease\n",
            "Ign:3 https://developer.download.nvidia.com/compute/machine-learning/repos/ubuntu1804/x86_64  InRelease\n",
            "Hit:4 https://developer.download.nvidia.com/compute/cuda/repos/ubuntu1804/x86_64  Release\n",
            "Hit:5 https://developer.download.nvidia.com/compute/machine-learning/repos/ubuntu1804/x86_64  Release\n",
            "Hit:6 http://security.ubuntu.com/ubuntu bionic-security InRelease\n",
            "Hit:7 http://archive.ubuntu.com/ubuntu bionic InRelease\n",
            "Hit:8 http://ppa.launchpad.net/graphics-drivers/ppa/ubuntu bionic InRelease\n",
            "Hit:10 http://archive.ubuntu.com/ubuntu bionic-updates InRelease\n",
            "Hit:12 http://archive.ubuntu.com/ubuntu bionic-backports InRelease\n",
            "Hit:13 http://ppa.launchpad.net/marutter/c2d4u3.5/ubuntu bionic InRelease\n",
            "Reading package lists... Done\n",
            "Reading package lists... Done\n",
            "Building dependency tree       \n",
            "Reading state information... Done\n",
            "chromium-chromedriver is already the newest version (83.0.4103.61-0ubuntu0.18.04.1).\n",
            "The following package was automatically installed and is no longer required:\n",
            "  libnvidia-common-440\n",
            "Use 'apt autoremove' to remove it.\n",
            "0 upgraded, 0 newly installed, 0 to remove and 48 not upgraded.\n",
            "cp: '/usr/lib/chromium-browser/chromedriver' and '/usr/bin/chromedriver' are the same file\n"
          ],
          "name": "stdout"
        },
        {
          "output_type": "stream",
          "text": [
            "/usr/local/lib/python3.6/dist-packages/ipykernel_launcher.py:12: DeprecationWarning: use options instead of chrome_options\n",
            "  if sys.path[0] == '':\n"
          ],
          "name": "stderr"
        }
      ]
    },
    {
      "cell_type": "code",
      "metadata": {
        "id": "EvVOcJzuTr_g",
        "colab_type": "code",
        "colab": {
          "base_uri": "https://localhost:8080/",
          "height": 459
        },
        "outputId": "32c94281-95cf-4578-9be2-2eb024eba0e5"
      },
      "source": [
        "!pip install scrapy\n",
        "import scrapy"
      ],
      "execution_count": 18,
      "outputs": [
        {
          "output_type": "stream",
          "text": [
            "Requirement already satisfied: scrapy in /usr/local/lib/python3.6/dist-packages (2.1.0)\n",
            "Requirement already satisfied: parsel>=1.5.0 in /usr/local/lib/python3.6/dist-packages (from scrapy) (1.6.0)\n",
            "Requirement already satisfied: lxml>=3.5.0 in /usr/local/lib/python3.6/dist-packages (from scrapy) (4.2.6)\n",
            "Requirement already satisfied: service-identity>=16.0.0 in /usr/local/lib/python3.6/dist-packages (from scrapy) (18.1.0)\n",
            "Requirement already satisfied: cryptography>=2.0 in /usr/local/lib/python3.6/dist-packages (from scrapy) (2.9.2)\n",
            "Requirement already satisfied: w3lib>=1.17.0 in /usr/local/lib/python3.6/dist-packages (from scrapy) (1.22.0)\n",
            "Requirement already satisfied: PyDispatcher>=2.0.5 in /usr/local/lib/python3.6/dist-packages (from scrapy) (2.0.5)\n",
            "Requirement already satisfied: zope.interface>=4.1.3 in /usr/local/lib/python3.6/dist-packages (from scrapy) (5.1.0)\n",
            "Requirement already satisfied: Twisted>=17.9.0 in /usr/local/lib/python3.6/dist-packages (from scrapy) (20.3.0)\n",
            "Requirement already satisfied: pyOpenSSL>=16.2.0 in /usr/local/lib/python3.6/dist-packages (from scrapy) (19.1.0)\n",
            "Requirement already satisfied: protego>=0.1.15 in /usr/local/lib/python3.6/dist-packages (from scrapy) (0.1.16)\n",
            "Requirement already satisfied: cssselect>=0.9.1 in /usr/local/lib/python3.6/dist-packages (from scrapy) (1.1.0)\n",
            "Requirement already satisfied: queuelib>=1.4.2 in /usr/local/lib/python3.6/dist-packages (from scrapy) (1.5.0)\n",
            "Requirement already satisfied: six>=1.6.0 in /usr/local/lib/python3.6/dist-packages (from parsel>=1.5.0->scrapy) (1.12.0)\n",
            "Requirement already satisfied: pyasn1 in /usr/local/lib/python3.6/dist-packages (from service-identity>=16.0.0->scrapy) (0.4.8)\n",
            "Requirement already satisfied: pyasn1-modules in /usr/local/lib/python3.6/dist-packages (from service-identity>=16.0.0->scrapy) (0.2.8)\n",
            "Requirement already satisfied: attrs>=16.0.0 in /usr/local/lib/python3.6/dist-packages (from service-identity>=16.0.0->scrapy) (19.3.0)\n",
            "Requirement already satisfied: cffi!=1.11.3,>=1.8 in /usr/local/lib/python3.6/dist-packages (from cryptography>=2.0->scrapy) (1.14.0)\n",
            "Requirement already satisfied: setuptools in /usr/local/lib/python3.6/dist-packages (from zope.interface>=4.1.3->scrapy) (47.3.1)\n",
            "Requirement already satisfied: PyHamcrest!=1.10.0,>=1.9.0 in /usr/local/lib/python3.6/dist-packages (from Twisted>=17.9.0->scrapy) (2.0.2)\n",
            "Requirement already satisfied: constantly>=15.1 in /usr/local/lib/python3.6/dist-packages (from Twisted>=17.9.0->scrapy) (15.1.0)\n",
            "Requirement already satisfied: Automat>=0.3.0 in /usr/local/lib/python3.6/dist-packages (from Twisted>=17.9.0->scrapy) (20.2.0)\n",
            "Requirement already satisfied: hyperlink>=17.1.1 in /usr/local/lib/python3.6/dist-packages (from Twisted>=17.9.0->scrapy) (19.0.0)\n",
            "Requirement already satisfied: incremental>=16.10.1 in /usr/local/lib/python3.6/dist-packages (from Twisted>=17.9.0->scrapy) (17.5.0)\n",
            "Requirement already satisfied: pycparser in /usr/local/lib/python3.6/dist-packages (from cffi!=1.11.3,>=1.8->cryptography>=2.0->scrapy) (2.20)\n",
            "Requirement already satisfied: idna>=2.5 in /usr/local/lib/python3.6/dist-packages (from hyperlink>=17.1.1->Twisted>=17.9.0->scrapy) (2.9)\n"
          ],
          "name": "stdout"
        }
      ]
    },
    {
      "cell_type": "code",
      "metadata": {
        "id": "k0vrm7lQJYTs",
        "colab_type": "code",
        "colab": {
          "base_uri": "https://localhost:8080/",
          "height": 153
        },
        "outputId": "d17b2db8-a936-416d-8910-8c7ee396665e"
      },
      "source": [
        "from lxml import html\n",
        "from lxml import etree\n",
        "from bs4 import BeautifulSoup\n",
        "from scrapy.selector import Selector\n",
        "from scrapy.http import HtmlResponse\n",
        "\n",
        "useful_info = []\n",
        "url_list = [\"https://www.bbcgoodfood.com/recipes/decadent-chocolate-truffle-torte\", \"https://www.bbcgoodfood.com/recipes/spider-biscuits\",\n",
        "            \"https://www.bbcgoodfood.com/recipes/chocolate-spider-cookies\", \"https://www.bbcgoodfood.com/recipes/chocolate-orange-spider-jellies\"]\n",
        "for url in url_list:\n",
        "  driver = webdriver.Chrome('chromedriver',chrome_options=chrome_options)\n",
        "  driver.get(url)\n",
        "  soup = BeautifulSoup(driver.page_source, 'html.parser')\n",
        "  page = soup.prettify()\n",
        "\n",
        "  json_data = Selector(text = page).xpath('//script/text()')[41].extract()\n",
        "  useful_info.append(json_data)\n",
        "  driver.quit()"
      ],
      "execution_count": 28,
      "outputs": [
        {
          "output_type": "stream",
          "text": [
            "/usr/local/lib/python3.6/dist-packages/ipykernel_launcher.py:11: DeprecationWarning: use options instead of chrome_options\n",
            "  # This is added back by InteractiveShellApp.init_path()\n",
            "/usr/local/lib/python3.6/dist-packages/ipykernel_launcher.py:11: DeprecationWarning: use options instead of chrome_options\n",
            "  # This is added back by InteractiveShellApp.init_path()\n",
            "/usr/local/lib/python3.6/dist-packages/ipykernel_launcher.py:11: DeprecationWarning: use options instead of chrome_options\n",
            "  # This is added back by InteractiveShellApp.init_path()\n",
            "/usr/local/lib/python3.6/dist-packages/ipykernel_launcher.py:11: DeprecationWarning: use options instead of chrome_options\n",
            "  # This is added back by InteractiveShellApp.init_path()\n"
          ],
          "name": "stderr"
        }
      ]
    },
    {
      "cell_type": "code",
      "metadata": {
        "id": "rvBUzIKKTxXq",
        "colab_type": "code",
        "colab": {
          "base_uri": "https://localhost:8080/",
          "height": 785
        },
        "outputId": "c11d0cd9-e6f0-4fa1-f6dd-86632749138c"
      },
      "source": [
        "for i in range(4):\n",
        "  print(\"{} \\n\",i)\n",
        "  print(useful_info[i])\n",
        "  print(\"\\n\")\n",
        "  print(\"\\n\")"
      ],
      "execution_count": 29,
      "outputs": [
        {
          "output_type": "stream",
          "text": [
            "{} \n",
            " 0\n",
            "\n",
            "   <!--//--><![CDATA[//><!--\n",
            "!function(n,e,o,r,i){if(!e){e=e||{},window.permutive=e,e.q=[],e.config=i||{},e.config.projectId=o,e.config.apiKey=r,e.config.environment=e.config.environment||\"production\";for(var t=[\"addon\",\"identify\",\"track\",\"trigger\",\"query\",\"segment\",\"segments\",\"ready\",\"on\",\"once\",\"user\",\"consent\"],c=0;c<t.length;c++){var f=t[c];e[f]=function(n){return function(){var o=Array.prototype.slice.call(arguments,0);e.q.push({functionName:n,arguments:o})}}(f)}}}(document,window.permutive,\"99db7a95-b06a-4ea9-857c-f73ba0a25c19\",\"db07e0f0-8bb8-46c8-b714-291f2768d746\",{});permutive.addon(\"web\",{page:{article:{author:\"Orlando Murrin\",description:\"Create a mouthwatering chocolate truffle torte - and there&#39;s no cooking necessary!\",id:\"101379\",},recipe:{collections:[\"Dinner party dessert\",\"Dark chocolate\",\"Orlando Murrin\",\"Challenging cake\",\"Valentine's chocolate\",\"Chocolate torte\"],prep_time:3600,serves:12,makes:\"Serves 12 in small slices (it's very rich!)\",keywords:[\"Chocolate\",\"Sweet\",\"Dessert\",\"Cakes\",\"Orlando murrin\",\"BBC GOOD FOOD\",\"CAKE\",\"Pudding\",\"Dark chocolate\",\"Double cream\",\"Ground cinnamon\",\"Instant coffee\"],ratings:93,nutrition_info:[\"Added sugar 15g\",\"Carbohydrate 17g\",\"Kcal 331 calories\",\"Protein 2g\",\"Salt 0.09g\",\"Saturated fat 18g\",\"Fat 29g\"],ingredients:[\"dark chocolate\",\"golden syrup\",\"double cream\",\"instant coffee\",\"ground cinnamon\",\"cocoa powder\"],courses:[\"Afternoon tea\",\"Buffet\",\"Dessert\",\"Dinner\",\"Lunch\",\"Treat\"],cusine:\"British\",diet_types:[\"Low-salt\"],skill_level:\"More effort\",post_dates:\"1044057600\"},channel:\"Recipe\",title:\"Decadent chocolate truffle torte\",user:{loggedIn:false}}});\n",
            "//--><!]]>\n",
            "  \n",
            "\n",
            "\n",
            "\n",
            "\n",
            "{} \n",
            " 1\n",
            "\n",
            "   <!--//--><![CDATA[//><!--\n",
            "!function(n,e,o,r,i){if(!e){e=e||{},window.permutive=e,e.q=[],e.config=i||{},e.config.projectId=o,e.config.apiKey=r,e.config.environment=e.config.environment||\"production\";for(var t=[\"addon\",\"identify\",\"track\",\"trigger\",\"query\",\"segment\",\"segments\",\"ready\",\"on\",\"once\",\"user\",\"consent\"],c=0;c<t.length;c++){var f=t[c];e[f]=function(n){return function(){var o=Array.prototype.slice.call(arguments,0);e.q.push({functionName:n,arguments:o})}}(f)}}}(document,window.permutive,\"99db7a95-b06a-4ea9-857c-f73ba0a25c19\",\"db07e0f0-8bb8-46c8-b714-291f2768d746\",{});permutive.addon(\"web\",{page:{article:{author:\"Lulu Grimes\",description:\"Create these cute spider biscuits with kids as part of a Halloween party feast. Children will love adding the spooky chocolate spider legs and icing eyes\",id:\"8645651\",},recipe:{collections:[\"Halloween\",\"Halloween kids'\",\"Kids' biscuit\",\"Halloween baking\",\"Easy Halloween\",\"Halloween biscuit\"],cooking_time:720,prep_time:1500,makes:\"Makes 20 \",keywords:[\"Halloween\",\"Biscuits\",\"Cookies\",\"spiders\",\"Vegetarian\",\"Children\",\"Kids cooking\",\"Baking\"],ratings:92,nutrition_info:[\"Added sugar 13g\",\"Carbohydrate 21g\",\"Kcal 161 calories\",\"Protein 2g\",\"Salt 0.2g\",\"Saturated fat 4g\",\"Fat 7g\"],ingredients:[\"butter\",\"peanut butter\",\"golden caster sugar\",\"egg\",\"vanilla extract\",\"plain flour\",\"bicarbonate of soda\",\"peanut butter cups\",\"milk chocolate\",\"icing eyes\"],courses:[\"Afternoon tea\",\"Treat\"],diet_types:[\"Vegetarian\"],skill_level:\"Easy\",post_dates:\"1538348400\"},channel:\"Recipe\",title:\"Spider biscuits\",user:{loggedIn:false}}});\n",
            "//--><!]]>\n",
            "  \n",
            "\n",
            "\n",
            "\n",
            "\n",
            "{} \n",
            " 2\n",
            "\n",
            "   <!--//--><![CDATA[//><!--\n",
            "!function(n,e,o,r,i){if(!e){e=e||{},window.permutive=e,e.q=[],e.config=i||{},e.config.projectId=o,e.config.apiKey=r,e.config.environment=e.config.environment||\"production\";for(var t=[\"addon\",\"identify\",\"track\",\"trigger\",\"query\",\"segment\",\"segments\",\"ready\",\"on\",\"once\",\"user\",\"consent\"],c=0;c<t.length;c++){var f=t[c];e[f]=function(n){return function(){var o=Array.prototype.slice.call(arguments,0);e.q.push({functionName:n,arguments:o})}}(f)}}}(document,window.permutive,\"99db7a95-b06a-4ea9-857c-f73ba0a25c19\",\"db07e0f0-8bb8-46c8-b714-291f2768d746\",{});permutive.addon(\"web\",{page:{article:{author:\"Good Food\",description:\"Create some magic in the kitchen this Halloween with these spooky chocolate spiders\",id:\"101284\",},recipe:{collections:[\"Halloween\",\"Easy cookie\",\"Halloween kids'\",\"Kids' biscuit\",\"Easy Halloween\"],cooking_time:300,prep_time:1800,makes:\"Makes 14\",keywords:[\"Halloween\",\"Cupcakes\",\"Cookies\",\"Treat\",\"Chocolate cookie\",\"Kids\",\"Party\",\"Haloween\",\"Liquorice\",\"Milk chocolate\"],ratings:96,nutrition_info:[\"Added sugar 23g\",\"Carbohydrate 30g\",\"Kcal 201 calories\",\"Protein 2g\",\"Salt 0.23g\",\"Saturated fat 5g\",\"Fat 9g\"],ingredients:[\"milk chocolate\",\"liquorice\",\"cookie\",\"icing\"],courses:[\"Treat\"],cusine:\"British\",diet_types:[\"Low-salt\"],skill_level:\"Easy\",post_dates:\"1317423600\"},channel:\"Recipe\",title:\"Chocolate spider cookies\",user:{loggedIn:false}}});\n",
            "//--><!]]>\n",
            "  \n",
            "\n",
            "\n",
            "\n",
            "\n",
            "{} \n",
            " 3\n",
            "\n",
            "   <!--//--><![CDATA[//><!--\n",
            "!function(n,e,o,r,i){if(!e){e=e||{},window.permutive=e,e.q=[],e.config=i||{},e.config.projectId=o,e.config.apiKey=r,e.config.environment=e.config.environment||\"production\";for(var t=[\"addon\",\"identify\",\"track\",\"trigger\",\"query\",\"segment\",\"segments\",\"ready\",\"on\",\"once\",\"user\",\"consent\"],c=0;c<t.length;c++){var f=t[c];e[f]=function(n){return function(){var o=Array.prototype.slice.call(arguments,0);e.q.push({functionName:n,arguments:o})}}(f)}}}(document,window.permutive,\"99db7a95-b06a-4ea9-857c-f73ba0a25c19\",\"db07e0f0-8bb8-46c8-b714-291f2768d746\",{});permutive.addon(\"web\",{page:{article:{author:\"Good Food\",description:\"These jellies are bound to be a hit at kids&#39; parties - the webs add a spooky touch and taste great with the jelly\",id:\"98613\",},recipe:{collections:[\"Halloween\",\"Jelly\"],prep_time:600,serves:10,keywords:[\"Halloween\",\"Treats\",\"Party food\",\"Dessert food\",\"Kids food\",\"Celebration food\",\"Halloween party\",\"Homemade jelly\",\"Chocolate\",\"Gelatine\",\"Orange juice\"],ratings:100,nutrition_info:[\"Added sugar 10g\",\"Carbohydrate 10g\",\"Kcal 61 calories\",\"Protein 4g\",\"Salt 0.06g\",\"Fat 1g\"],ingredients:[\"orange juice\",\"gelatine\",\"chocolate\"],courses:[\"Dessert\",\"Treat\"],cusine:\"British\",diet_types:[\"Low-salt\"],skill_level:\"More effort\",post_dates:\"1254351600\"},channel:\"Recipe\",title:\"Chocolate orange spider jellies\",user:{loggedIn:false}}});\n",
            "//--><!]]>\n",
            "  \n",
            "\n",
            "\n",
            "\n",
            "\n"
          ],
          "name": "stdout"
        }
      ]
    },
    {
      "cell_type": "code",
      "metadata": {
        "id": "HO8f5zlvT9TS",
        "colab_type": "code",
        "colab": {}
      },
      "source": [
        ""
      ],
      "execution_count": null,
      "outputs": []
    }
  ]
}