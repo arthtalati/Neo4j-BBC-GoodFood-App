{
  "nbformat": 4,
  "nbformat_minor": 0,
  "metadata": {
    "colab": {
      "name": "BBC_goodfood_scraper.ipynb",
      "provenance": [],
      "authorship_tag": "ABX9TyOcozW5yJpLrDoMkn1E163m",
      "include_colab_link": true
    },
    "kernelspec": {
      "name": "python3",
      "display_name": "Python 3"
    }
  },
  "cells": [
    {
      "cell_type": "markdown",
      "metadata": {
        "id": "view-in-github",
        "colab_type": "text"
      },
      "source": [
        "<a href=\"https://colab.research.google.com/github/arthtalati/Neo4j-BBC-GoodFood-App/blob/master/BBC_goodfood_scraper.ipynb\" target=\"_parent\"><img src=\"https://colab.research.google.com/assets/colab-badge.svg\" alt=\"Open In Colab\"/></a>"
      ]
    },
    {
      "cell_type": "markdown",
      "metadata": {
        "id": "414Yy3WRdsBN",
        "colab_type": "text"
      },
      "source": [
        "# GET ALL URLS"
      ]
    },
    {
      "cell_type": "code",
      "metadata": {
        "id": "wiWJSap7d5Di",
        "colab_type": "code",
        "colab": {}
      },
      "source": [
        "# Pushed to Future when I have the demo APP/ Graph model working with satisfatory results, rn working with 360 urls scrapped by OpenLink Software"
      ],
      "execution_count": null,
      "outputs": []
    },
    {
      "cell_type": "markdown",
      "metadata": {
        "id": "I4t7SMfxIaYA",
        "colab_type": "text"
      },
      "source": [
        "# INITIAL WORK \n",
        "Source - https://github.com/wel-shy/recipes/blob/master/_getrecipe.py"
      ]
    },
    {
      "cell_type": "markdown",
      "metadata": {
        "id": "TMLjTzitWQyQ",
        "colab_type": "text"
      },
      "source": [
        "# Imports and random stuff"
      ]
    },
    {
      "cell_type": "code",
      "metadata": {
        "id": "qE4d9tXjWWTv",
        "colab_type": "code",
        "colab": {
          "base_uri": "https://localhost:8080/",
          "height": 1000
        },
        "outputId": "e0f9ace5-86ad-463f-9841-3a851da5084d"
      },
      "source": [
        "!pip install selenium\n",
        "!apt-get update # to update ubuntu to correctly run apt install\n",
        "!apt install chromium-chromedriver\n",
        "!cp /usr/lib/chromium-browser/chromedriver /usr/bin\n",
        "import sys\n",
        "sys.path.insert(0,'/usr/lib/chromium-browser/chromedriver')\n",
        "from selenium import webdriver\n",
        "chrome_options = webdriver.ChromeOptions()\n",
        "chrome_options.add_argument('--headless')\n",
        "chrome_options.add_argument('--no-sandbox')\n",
        "chrome_options.add_argument('--disable-dev-shm-usage')\n",
        "driver = webdriver.Chrome('chromedriver',chrome_options=chrome_options)"
      ],
      "execution_count": 1,
      "outputs": [
        {
          "output_type": "stream",
          "text": [
            "Collecting selenium\n",
            "\u001b[?25l  Downloading https://files.pythonhosted.org/packages/80/d6/4294f0b4bce4de0abf13e17190289f9d0613b0a44e5dd6a7f5ca98459853/selenium-3.141.0-py2.py3-none-any.whl (904kB)\n",
            "\u001b[K     |████████████████████████████████| 911kB 2.8MB/s \n",
            "\u001b[?25hRequirement already satisfied: urllib3 in /usr/local/lib/python3.6/dist-packages (from selenium) (1.24.3)\n",
            "Installing collected packages: selenium\n",
            "Successfully installed selenium-3.141.0\n",
            "Get:1 http://security.ubuntu.com/ubuntu bionic-security InRelease [88.7 kB]\n",
            "Ign:2 https://developer.download.nvidia.com/compute/cuda/repos/ubuntu1804/x86_64  InRelease\n",
            "Hit:3 http://archive.ubuntu.com/ubuntu bionic InRelease\n",
            "Get:4 http://ppa.launchpad.net/graphics-drivers/ppa/ubuntu bionic InRelease [21.3 kB]\n",
            "Ign:5 https://developer.download.nvidia.com/compute/machine-learning/repos/ubuntu1804/x86_64  InRelease\n",
            "Get:6 https://developer.download.nvidia.com/compute/cuda/repos/ubuntu1804/x86_64  Release [697 B]\n",
            "Get:7 https://developer.download.nvidia.com/compute/machine-learning/repos/ubuntu1804/x86_64  Release [564 B]\n",
            "Get:8 https://developer.download.nvidia.com/compute/cuda/repos/ubuntu1804/x86_64  Release.gpg [836 B]\n",
            "Get:9 https://developer.download.nvidia.com/compute/machine-learning/repos/ubuntu1804/x86_64  Release.gpg [833 B]\n",
            "Get:10 http://archive.ubuntu.com/ubuntu bionic-updates InRelease [88.7 kB]\n",
            "Get:11 http://security.ubuntu.com/ubuntu bionic-security/multiverse amd64 Packages [9,012 B]\n",
            "Get:12 http://security.ubuntu.com/ubuntu bionic-security/universe amd64 Packages [862 kB]\n",
            "Get:13 http://ppa.launchpad.net/marutter/c2d4u3.5/ubuntu bionic InRelease [15.4 kB]\n",
            "Get:14 http://security.ubuntu.com/ubuntu bionic-security/main amd64 Packages [977 kB]\n",
            "Get:15 http://security.ubuntu.com/ubuntu bionic-security/restricted amd64 Packages [82.2 kB]\n",
            "Get:16 http://archive.ubuntu.com/ubuntu bionic-backports InRelease [74.6 kB]\n",
            "Ign:17 https://developer.download.nvidia.com/compute/cuda/repos/ubuntu1804/x86_64  Packages\n",
            "Get:17 https://developer.download.nvidia.com/compute/cuda/repos/ubuntu1804/x86_64  Packages [185 kB]\n",
            "Get:18 https://developer.download.nvidia.com/compute/machine-learning/repos/ubuntu1804/x86_64  Packages [40.0 kB]\n",
            "Get:19 http://ppa.launchpad.net/graphics-drivers/ppa/ubuntu bionic/main amd64 Packages [37.6 kB]\n",
            "Get:20 http://archive.ubuntu.com/ubuntu bionic-updates/restricted amd64 Packages [93.8 kB]\n",
            "Get:21 http://ppa.launchpad.net/marutter/c2d4u3.5/ubuntu bionic/main Sources [1,841 kB]\n",
            "Get:22 http://archive.ubuntu.com/ubuntu bionic-updates/main amd64 Packages [1,270 kB]\n",
            "Get:23 http://archive.ubuntu.com/ubuntu bionic-updates/multiverse amd64 Packages [13.4 kB]\n",
            "Get:24 http://archive.ubuntu.com/ubuntu bionic-updates/universe amd64 Packages [1,398 kB]\n",
            "Get:25 http://ppa.launchpad.net/marutter/c2d4u3.5/ubuntu bionic/main amd64 Packages [888 kB]\n",
            "Get:26 https://cloud.r-project.org/bin/linux/ubuntu bionic-cran35/ InRelease [3,626 B]\n",
            "Fetched 7,992 kB in 3s (2,561 kB/s)\n",
            "Reading package lists... Done\n",
            "Reading package lists... Done\n",
            "Building dependency tree       \n",
            "Reading state information... Done\n",
            "The following package was automatically installed and is no longer required:\n",
            "  libnvidia-common-440\n",
            "Use 'apt autoremove' to remove it.\n",
            "The following additional packages will be installed:\n",
            "  chromium-browser chromium-browser-l10n chromium-codecs-ffmpeg-extra\n",
            "Suggested packages:\n",
            "  webaccounts-chromium-extension unity-chromium-extension adobe-flashplugin\n",
            "The following NEW packages will be installed:\n",
            "  chromium-browser chromium-browser-l10n chromium-chromedriver\n",
            "  chromium-codecs-ffmpeg-extra\n",
            "0 upgraded, 4 newly installed, 0 to remove and 63 not upgraded.\n",
            "Need to get 75.5 MB of archives.\n",
            "After this operation, 256 MB of additional disk space will be used.\n",
            "Get:1 http://archive.ubuntu.com/ubuntu bionic-updates/universe amd64 chromium-codecs-ffmpeg-extra amd64 83.0.4103.61-0ubuntu0.18.04.1 [1,119 kB]\n",
            "Get:2 http://archive.ubuntu.com/ubuntu bionic-updates/universe amd64 chromium-browser amd64 83.0.4103.61-0ubuntu0.18.04.1 [66.7 MB]\n",
            "Get:3 http://archive.ubuntu.com/ubuntu bionic-updates/universe amd64 chromium-browser-l10n all 83.0.4103.61-0ubuntu0.18.04.1 [3,378 kB]\n",
            "Get:4 http://archive.ubuntu.com/ubuntu bionic-updates/universe amd64 chromium-chromedriver amd64 83.0.4103.61-0ubuntu0.18.04.1 [4,294 kB]\n",
            "Fetched 75.5 MB in 3s (24.0 MB/s)\n",
            "Selecting previously unselected package chromium-codecs-ffmpeg-extra.\n",
            "(Reading database ... 144328 files and directories currently installed.)\n",
            "Preparing to unpack .../chromium-codecs-ffmpeg-extra_83.0.4103.61-0ubuntu0.18.04.1_amd64.deb ...\n",
            "Unpacking chromium-codecs-ffmpeg-extra (83.0.4103.61-0ubuntu0.18.04.1) ...\n",
            "Selecting previously unselected package chromium-browser.\n",
            "Preparing to unpack .../chromium-browser_83.0.4103.61-0ubuntu0.18.04.1_amd64.deb ...\n",
            "Unpacking chromium-browser (83.0.4103.61-0ubuntu0.18.04.1) ...\n",
            "Selecting previously unselected package chromium-browser-l10n.\n",
            "Preparing to unpack .../chromium-browser-l10n_83.0.4103.61-0ubuntu0.18.04.1_all.deb ...\n",
            "Unpacking chromium-browser-l10n (83.0.4103.61-0ubuntu0.18.04.1) ...\n",
            "Selecting previously unselected package chromium-chromedriver.\n",
            "Preparing to unpack .../chromium-chromedriver_83.0.4103.61-0ubuntu0.18.04.1_amd64.deb ...\n",
            "Unpacking chromium-chromedriver (83.0.4103.61-0ubuntu0.18.04.1) ...\n",
            "Setting up chromium-codecs-ffmpeg-extra (83.0.4103.61-0ubuntu0.18.04.1) ...\n",
            "Setting up chromium-browser (83.0.4103.61-0ubuntu0.18.04.1) ...\n",
            "update-alternatives: using /usr/bin/chromium-browser to provide /usr/bin/x-www-browser (x-www-browser) in auto mode\n",
            "update-alternatives: using /usr/bin/chromium-browser to provide /usr/bin/gnome-www-browser (gnome-www-browser) in auto mode\n",
            "Setting up chromium-chromedriver (83.0.4103.61-0ubuntu0.18.04.1) ...\n",
            "Setting up chromium-browser-l10n (83.0.4103.61-0ubuntu0.18.04.1) ...\n",
            "Processing triggers for hicolor-icon-theme (0.17-2) ...\n",
            "Processing triggers for mime-support (3.60ubuntu1) ...\n",
            "Processing triggers for man-db (2.8.3-2ubuntu0.1) ...\n",
            "cp: '/usr/lib/chromium-browser/chromedriver' and '/usr/bin/chromedriver' are the same file\n"
          ],
          "name": "stdout"
        },
        {
          "output_type": "stream",
          "text": [
            "/usr/local/lib/python3.6/dist-packages/ipykernel_launcher.py:12: DeprecationWarning: use options instead of chrome_options\n",
            "  if sys.path[0] == '':\n"
          ],
          "name": "stderr"
        }
      ]
    },
    {
      "cell_type": "code",
      "metadata": {
        "id": "bi097VULWYsU",
        "colab_type": "code",
        "colab": {
          "base_uri": "https://localhost:8080/",
          "height": 1000
        },
        "outputId": "6b95f342-4697-4728-bbd4-68453fa0cee4"
      },
      "source": [
        "!pip install scrapy\n",
        "import scrapy\n",
        "!pip install js2xml\n",
        "\n",
        "from lxml import html\n",
        "from lxml import etree\n",
        "from bs4 import BeautifulSoup\n",
        "from scrapy.selector import Selector\n",
        "from scrapy.http import HtmlResponse\n",
        "from random import randint\n",
        "from time import sleep\n",
        "import re\n",
        "import json"
      ],
      "execution_count": 2,
      "outputs": [
        {
          "output_type": "stream",
          "text": [
            "Collecting scrapy\n",
            "\u001b[?25l  Downloading https://files.pythonhosted.org/packages/d2/b1/105fe9a289e5bb64ec104076546f72060296d9989a0fc31a8b608c810868/Scrapy-2.2.0-py2.py3-none-any.whl (241kB)\n",
            "\u001b[K     |████████████████████████████████| 245kB 2.8MB/s \n",
            "\u001b[?25hCollecting w3lib>=1.17.0\n",
            "  Downloading https://files.pythonhosted.org/packages/a3/59/b6b14521090e7f42669cafdb84b0ab89301a42f1f1a82fcf5856661ea3a7/w3lib-1.22.0-py2.py3-none-any.whl\n",
            "Collecting parsel>=1.5.0\n",
            "  Downloading https://files.pythonhosted.org/packages/23/1e/9b39d64cbab79d4362cdd7be7f5e9623d45c4a53b3f7522cd8210df52d8e/parsel-1.6.0-py2.py3-none-any.whl\n",
            "Collecting itemadapter>=0.1.0\n",
            "  Downloading https://files.pythonhosted.org/packages/7d/fb/92f848fcfa85dc9f95370eaecb5c99b5230dd4fc5c6bae684f4ca59df973/itemadapter-0.1.0-py3-none-any.whl\n",
            "Collecting pyOpenSSL>=16.2.0\n",
            "\u001b[?25l  Downloading https://files.pythonhosted.org/packages/9e/de/f8342b68fa9e981d348039954657bdf681b2ab93de27443be51865ffa310/pyOpenSSL-19.1.0-py2.py3-none-any.whl (53kB)\n",
            "\u001b[K     |████████████████████████████████| 61kB 6.5MB/s \n",
            "\u001b[?25hCollecting protego>=0.1.15\n",
            "\u001b[?25l  Downloading https://files.pythonhosted.org/packages/db/6e/bf6d5e4d7cf233b785719aaec2c38f027b9c2ed980a0015ec1a1cced4893/Protego-0.1.16.tar.gz (3.2MB)\n",
            "\u001b[K     |████████████████████████████████| 3.2MB 8.9MB/s \n",
            "\u001b[?25hCollecting service-identity>=16.0.0\n",
            "  Downloading https://files.pythonhosted.org/packages/e9/7c/2195b890023e098f9618d43ebc337d83c8b38d414326685339eb024db2f6/service_identity-18.1.0-py2.py3-none-any.whl\n",
            "Collecting zope.interface>=4.1.3\n",
            "\u001b[?25l  Downloading https://files.pythonhosted.org/packages/57/33/565274c28a11af60b7cfc0519d46bde4125fcd7d32ebc0a81b480d0e8da6/zope.interface-5.1.0-cp36-cp36m-manylinux2010_x86_64.whl (234kB)\n",
            "\u001b[K     |████████████████████████████████| 235kB 31.2MB/s \n",
            "\u001b[?25hCollecting queuelib>=1.4.2\n",
            "  Downloading https://files.pythonhosted.org/packages/4c/85/ae64e9145f39dd6d14f8af3fa809a270ef3729f3b90b3c0cf5aa242ab0d4/queuelib-1.5.0-py2.py3-none-any.whl\n",
            "Collecting cssselect>=0.9.1\n",
            "  Downloading https://files.pythonhosted.org/packages/3b/d4/3b5c17f00cce85b9a1e6f91096e1cc8e8ede2e1be8e96b87ce1ed09e92c5/cssselect-1.1.0-py2.py3-none-any.whl\n",
            "Collecting cryptography>=2.0\n",
            "\u001b[?25l  Downloading https://files.pythonhosted.org/packages/3c/04/686efee2dcdd25aecf357992e7d9362f443eb182ecd623f882bc9f7a6bba/cryptography-2.9.2-cp35-abi3-manylinux2010_x86_64.whl (2.7MB)\n",
            "\u001b[K     |████████████████████████████████| 2.7MB 29.4MB/s \n",
            "\u001b[?25hCollecting Twisted>=17.9.0\n",
            "\u001b[?25l  Downloading https://files.pythonhosted.org/packages/b7/04/1a664c9e5ec0224a1c1a154ddecaa4dc7b8967521bba225efcc41a03d5f3/Twisted-20.3.0-cp36-cp36m-manylinux1_x86_64.whl (3.1MB)\n",
            "\u001b[K     |████████████████████████████████| 3.1MB 37.7MB/s \n",
            "\u001b[?25hRequirement already satisfied: lxml>=3.5.0 in /usr/local/lib/python3.6/dist-packages (from scrapy) (4.2.6)\n",
            "Collecting PyDispatcher>=2.0.5\n",
            "  Downloading https://files.pythonhosted.org/packages/cd/37/39aca520918ce1935bea9c356bcbb7ed7e52ad4e31bff9b943dfc8e7115b/PyDispatcher-2.0.5.tar.gz\n",
            "Requirement already satisfied: six>=1.4.1 in /usr/local/lib/python3.6/dist-packages (from w3lib>=1.17.0->scrapy) (1.12.0)\n",
            "Requirement already satisfied: attrs>=16.0.0 in /usr/local/lib/python3.6/dist-packages (from service-identity>=16.0.0->scrapy) (19.3.0)\n",
            "Requirement already satisfied: pyasn1-modules in /usr/local/lib/python3.6/dist-packages (from service-identity>=16.0.0->scrapy) (0.2.8)\n",
            "Requirement already satisfied: pyasn1 in /usr/local/lib/python3.6/dist-packages (from service-identity>=16.0.0->scrapy) (0.4.8)\n",
            "Requirement already satisfied: setuptools in /usr/local/lib/python3.6/dist-packages (from zope.interface>=4.1.3->scrapy) (47.3.1)\n",
            "Requirement already satisfied: cffi!=1.11.3,>=1.8 in /usr/local/lib/python3.6/dist-packages (from cryptography>=2.0->scrapy) (1.14.0)\n",
            "Collecting incremental>=16.10.1\n",
            "  Downloading https://files.pythonhosted.org/packages/f5/1d/c98a587dc06e107115cf4a58b49de20b19222c83d75335a192052af4c4b7/incremental-17.5.0-py2.py3-none-any.whl\n",
            "Collecting hyperlink>=17.1.1\n",
            "  Downloading https://files.pythonhosted.org/packages/7f/91/e916ca10a2de1cb7101a9b24da546fb90ee14629e23160086cf3361c4fb8/hyperlink-19.0.0-py2.py3-none-any.whl\n",
            "Collecting PyHamcrest!=1.10.0,>=1.9.0\n",
            "\u001b[?25l  Downloading https://files.pythonhosted.org/packages/40/16/e54cc65891f01cb62893540f44ffd3e8dab0a22443e1b438f1a9f5574bee/PyHamcrest-2.0.2-py3-none-any.whl (52kB)\n",
            "\u001b[K     |████████████████████████████████| 61kB 8.0MB/s \n",
            "\u001b[?25hCollecting Automat>=0.3.0\n",
            "  Downloading https://files.pythonhosted.org/packages/dd/83/5f6f3c1a562674d65efc320257bdc0873ec53147835aeef7762fe7585273/Automat-20.2.0-py2.py3-none-any.whl\n",
            "Collecting constantly>=15.1\n",
            "  Downloading https://files.pythonhosted.org/packages/b9/65/48c1909d0c0aeae6c10213340ce682db01b48ea900a7d9fce7a7910ff318/constantly-15.1.0-py2.py3-none-any.whl\n",
            "Requirement already satisfied: pycparser in /usr/local/lib/python3.6/dist-packages (from cffi!=1.11.3,>=1.8->cryptography>=2.0->scrapy) (2.20)\n",
            "Requirement already satisfied: idna>=2.5 in /usr/local/lib/python3.6/dist-packages (from hyperlink>=17.1.1->Twisted>=17.9.0->scrapy) (2.9)\n",
            "Building wheels for collected packages: protego, PyDispatcher\n",
            "  Building wheel for protego (setup.py) ... \u001b[?25l\u001b[?25hdone\n",
            "  Created wheel for protego: filename=Protego-0.1.16-cp36-none-any.whl size=7765 sha256=ba83fcb3e4765d9a174bc1c63b54dca1791994ef1781872c4d9335f5c3569135\n",
            "  Stored in directory: /root/.cache/pip/wheels/51/01/d1/4a2286a976dccd025ba679acacfe37320540df0f2283ecab12\n",
            "  Building wheel for PyDispatcher (setup.py) ... \u001b[?25l\u001b[?25hdone\n",
            "  Created wheel for PyDispatcher: filename=PyDispatcher-2.0.5-cp36-none-any.whl size=11515 sha256=3679da09423b7b1d09b747d6bd4b74ad0f3d53e4fb25b8baa28fe8f6ba217986\n",
            "  Stored in directory: /root/.cache/pip/wheels/88/99/96/cfef6665f9cb1522ee6757ae5955feedf2fe25f1737f91fa7f\n",
            "Successfully built protego PyDispatcher\n",
            "Installing collected packages: w3lib, cssselect, parsel, itemadapter, cryptography, pyOpenSSL, protego, service-identity, zope.interface, queuelib, incremental, hyperlink, PyHamcrest, Automat, constantly, Twisted, PyDispatcher, scrapy\n",
            "Successfully installed Automat-20.2.0 PyDispatcher-2.0.5 PyHamcrest-2.0.2 Twisted-20.3.0 constantly-15.1.0 cryptography-2.9.2 cssselect-1.1.0 hyperlink-19.0.0 incremental-17.5.0 itemadapter-0.1.0 parsel-1.6.0 protego-0.1.16 pyOpenSSL-19.1.0 queuelib-1.5.0 scrapy-2.2.0 service-identity-18.1.0 w3lib-1.22.0 zope.interface-5.1.0\n",
            "Collecting js2xml\n",
            "  Downloading https://files.pythonhosted.org/packages/25/96/3b9554731cd4d6c369c84ce310d9703bdf6983a88b5a7dcb08ad9b5bba92/js2xml-0.3.1-py2.py3-none-any.whl\n",
            "Collecting slimit\n",
            "\u001b[?25l  Downloading https://files.pythonhosted.org/packages/61/cf/0d6598b1ceb463a46b75a716fbb23d2d5ccc5738aba8ddceeec3fa59997f/slimit-0.8.1.zip (88kB)\n",
            "\u001b[K     |████████████████████████████████| 92kB 3.0MB/s \n",
            "\u001b[?25hRequirement already satisfied: six in /usr/local/lib/python3.6/dist-packages (from js2xml) (1.12.0)\n",
            "Requirement already satisfied: lxml in /usr/local/lib/python3.6/dist-packages (from js2xml) (4.2.6)\n",
            "Collecting ply>=3.4\n",
            "\u001b[?25l  Downloading https://files.pythonhosted.org/packages/a3/58/35da89ee790598a0700ea49b2a66594140f44dec458c07e8e3d4979137fc/ply-3.11-py2.py3-none-any.whl (49kB)\n",
            "\u001b[K     |████████████████████████████████| 51kB 4.1MB/s \n",
            "\u001b[?25hBuilding wheels for collected packages: slimit\n",
            "  Building wheel for slimit (setup.py) ... \u001b[?25l\u001b[?25hdone\n",
            "  Created wheel for slimit: filename=slimit-0.8.1-cp36-none-any.whl size=79459 sha256=f06e89fc99694e4744f6565bcdc0afd283eb8041c07364813701b15ac4aa5892\n",
            "  Stored in directory: /root/.cache/pip/wheels/95/1b/fc/053f945a3d786a599d75094983e4f87a44cceedbec3ef654d9\n",
            "Successfully built slimit\n",
            "Installing collected packages: ply, slimit, js2xml\n",
            "Successfully installed js2xml-0.3.1 ply-3.11 slimit-0.8.1\n"
          ],
          "name": "stdout"
        }
      ]
    },
    {
      "cell_type": "markdown",
      "metadata": {
        "id": "C3bBnJzoWRMa",
        "colab_type": "text"
      },
      "source": [
        "# Real code"
      ]
    },
    {
      "cell_type": "code",
      "metadata": {
        "id": "VH3zE7fzYraf",
        "colab_type": "code",
        "colab": {}
      },
      "source": [
        "url = 'https://www.bbcgoodfood.com/recipes/5137/moroccan-spiced-carrots'\n",
        "site = 'https://www.bbcgoodfood.com/recipes/5137/moroccan-spiced-carrots'\n",
        "from ast import literal_eval\n"
      ],
      "execution_count": 34,
      "outputs": []
    },
    {
      "cell_type": "code",
      "metadata": {
        "id": "nyQhgnB2K0If",
        "colab_type": "code",
        "colab": {}
      },
      "source": [
        "import unicodedata\n",
        "from bs4 import BeautifulSoup\n",
        "from urllib.request import Request, urlopen\n",
        "\n",
        "# site= \"https://www.bbcgoodfood.com/recipes/8088/moroccan-spiced-fish-with-ginger-mash\"\n",
        "hdr = {'User-Agent': 'Mozilla/5.0'}\n",
        "req = Request(url,headers=hdr)\n",
        "page = urlopen(req)\n",
        "soup = BeautifulSoup(page)\n",
        "# print(soup)"
      ],
      "execution_count": 4,
      "outputs": []
    },
    {
      "cell_type": "code",
      "metadata": {
        "id": "vxni2cgSWn8L",
        "colab_type": "code",
        "colab": {
          "base_uri": "https://localhost:8080/",
          "height": 88
        },
        "outputId": "a6410591-59a5-4416-b4a6-59a12e79f3f2"
      },
      "source": [
        "useful_info = []\n",
        "\n",
        "# for i, url in enumerate(url_list):\n",
        "# url = \"https://www.bbcgoodfood.com/recipes/8088/moroccan-spiced-fish-with-ginger-mash\"\n",
        "driver = webdriver.Chrome('chromedriver',chrome_options=chrome_options)\n",
        "driver.get(url)\n",
        "# may be give delay here!!!\n",
        "sleep(randint(1, 3))\n",
        "soup2 = BeautifulSoup(driver.page_source, 'html.parser')\n",
        "page2 = soup2.prettify()\n",
        "\n",
        "json_data = Selector(text = page2, type=\"html\").xpath('//script/text()')[41].extract()\n",
        "# js = selector.xpath('//script/text()').extract_first()\n",
        "useful_info.append(json_data)\n",
        "# print(i, \"--->\", \"\\n\")\n",
        "print(useful_info)\n",
        "# print(\"\\n\")\n",
        "# print(\"\\n\")\n",
        "driver.quit()\n",
        "\n",
        "s = json_data\n",
        "result = re.search('\"web\",(.*),user', s)\n",
        "use_this = result.group(1)+'}}'"
      ],
      "execution_count": 5,
      "outputs": [
        {
          "output_type": "stream",
          "text": [
            "/usr/local/lib/python3.6/dist-packages/ipykernel_launcher.py:5: DeprecationWarning: use options instead of chrome_options\n",
            "  \"\"\"\n"
          ],
          "name": "stderr"
        },
        {
          "output_type": "stream",
          "text": [
            "['\\n   <!--//--><![CDATA[//><!--\\n!function(n,e,o,r,i){if(!e){e=e||{},window.permutive=e,e.q=[],e.config=i||{},e.config.projectId=o,e.config.apiKey=r,e.config.environment=e.config.environment||\"production\";for(var t=[\"addon\",\"identify\",\"track\",\"trigger\",\"query\",\"segment\",\"segments\",\"ready\",\"on\",\"once\",\"user\",\"consent\"],c=0;c<t.length;c++){var f=t[c];e[f]=function(n){return function(){var o=Array.prototype.slice.call(arguments,0);e.q.push({functionName:n,arguments:o})}}(f)}}}(document,window.permutive,\"99db7a95-b06a-4ea9-857c-f73ba0a25c19\",\"db07e0f0-8bb8-46c8-b714-291f2768d746\",{});permutive.addon(\"web\",{page:{article:{author:\"Good Food\",description:\"Create a carrot sensation with this simple idea for a dressing and experiment with your favourite veg\",id:\"101609\",},recipe:{collections:[\"Moroccan\"],cooking_time:600,prep_time:300,serves:4,keywords:[\"Carrot\",\"Carrots\",\"Harissa paste\",\"Harrissa\",\"Carrot\",\"Veg dish\",\"Root veg\",\"Side dish\"],ratings:72,nutrition_info:[\"Added sugar 9g\",\"Carbohydrate 10g\",\"Kcal 95 calories\",\"Protein 1g\",\"Salt 0.1g\",\"Saturated fat 1g\",\"Fat 6g\"],ingredients:[\"carrot\",\"extra-virgin olive oil\",\"harissa paste\",\"lemon juice\",\"coriander\"],courses:[\"Side dish\",\"Buffet\",\"Dinner\",\"Supper\"],cusine:\"Moroccan\",diet_types:[\"Vegetarian\",\"Low-salt\"],skill_level:\"Easy\",post_dates:\"1201824000\"},channel:\"Recipe\",title:\"Moroccan spiced carrots\",user:{loggedIn:false}}});\\n//--><!]]>\\n  ']\n"
          ],
          "name": "stdout"
        }
      ]
    },
    {
      "cell_type": "code",
      "metadata": {
        "id": "z-8uGQzYXBSu",
        "colab_type": "code",
        "colab": {
          "base_uri": "https://localhost:8080/",
          "height": 71
        },
        "outputId": "f6325c14-0b4f-481a-bced-70eb14b2a173"
      },
      "source": [
        "try:\n",
        "  print('try')\n",
        "  response_here = give_me_all(soup,use_this)\n",
        "  print(response_here)\n",
        "except:\n",
        "  print('except')\n",
        "  or_here = give_me_all(soup,use_this)\n",
        "  print(or_here)"
      ],
      "execution_count": 44,
      "outputs": [
        {
          "output_type": "stream",
          "text": [
            "try\n",
            "{'title': 'Moroccan spiced carrots', 'url': 'https://www.bbcgoodfood.com/recipes/5137/moroccan-spiced-carrots', 'author': 'Good Food', 'rating': 1, 'difficulty': 'Easy', 'serves': 4, 'prep_time': 300, 'cook_time': 600, 'nutrition': {'kcal': '95', 'fat': '6g', 'saturates': '1g', 'carbs': '10g', 'sugars': '9g', 'fibre': '3g', 'protein': '1g', 'salt': '0.1g'}, 'method': 'Place the carrots in a steamer set over a pan of boiling water and cook for 7-10 mins until just soft. Mix together the remaining ingredients, then toss the warm carrots through the dressing. Sprinkle with extra chopped coriander to serve.', 'ingredients': ['500g carrot, halved and cut into thin rounds Carrot ka-rotThe carrot, with its distinctive bright orange colour, is one of the most versatile root… ', '2 tbsp extra-virgin olive oil', 'harissa paste', '1 tbsp lemon juice', 'handful chopped coriander, plus extra'], 'id': 101609, 'post_dates': 1201824000, 'diet_types': ['Vegetarian', 'Low-salt'], 'courses': ['Side dish', 'Buffet', 'Dinner', 'Supper'], 'compact_ingredients': ['carrot', 'extra-virgin olive oil', 'harissa paste', 'lemon juice', 'coriander'], 'rating_of_100': 72, 'collections': ['Moroccan']}\n"
          ],
          "name": "stdout"
        }
      ]
    },
    {
      "cell_type": "code",
      "metadata": {
        "id": "LMsGo1FqlwPJ",
        "colab_type": "code",
        "colab": {}
      },
      "source": [
        "def find_number(text, c):\n",
        "    return re.findall(r'%s(\\d+)' % c, text)\n",
        "\n",
        "def universal_func(use_this, start_str, end_str):\n",
        "  s = use_this\n",
        "  str_to_search = start_str + \"(.*)\" + end_str\n",
        "  ret_result = re.search(str_to_search, s)\n",
        "  return ret_result.group(1) \n",
        "\n",
        "def give_me_all(soup, use_this):\n",
        "  # Get title\n",
        "  title = soup.find(\"h1\", class_=\"recipe-header__title\")\n",
        "  file_name = title.text + \".txt\"\n",
        "  file = open(file_name, \"w\")\n",
        "  # print(title.text)\n",
        "  file.write(str(file_name) + '\\n')\n",
        "  # file.write(unicodedata.normalize('NFKD', title.get_text()).encode('ascii', 'ignore') + \"\\n\")\n",
        "\n",
        "\n",
        "  # Get meta-data\n",
        "  # rating\n",
        "  stars = soup.findAll(\"span\", class_=\"rate-fivestar-btn-filled\")\n",
        "  temp = \"Rating: \" + str(len(stars))\n",
        "  rating = temp.replace(\"\\n\", \"\")\n",
        "  # print(rating)\n",
        "  file.write(rating + \"\\n\")\n",
        "\n",
        "\n",
        "\n",
        "  # Get chef(Author of recipie)\n",
        "  # CHEF\n",
        "  stars = soup.find(\"span\", class_=\"author\")\n",
        "  temp = \"Author: \" + str(stars.get_text())\n",
        "  author = temp.replace(\"\\n\", \"\")\n",
        "  # print(author)\n",
        "  file.write(author + \"\\n\")\n",
        "\n",
        "  # Skill level\n",
        "  skill = soup.find(\"section\", class_=\"recipe-details__item--skill-level\")\n",
        "  temp = skill.get_text()\n",
        "  level = temp.replace(\"\\n\", \"\").replace(\" \", \"\")\n",
        "  # print(level)\n",
        "  file.write(\"Difficulty: \" + level + \"\\n\")\n",
        "\n",
        "  # Serves\n",
        "  serve = soup.find(\"section\", class_=\"recipe-details__item--servings\")\n",
        "  temp = serve.get_text()\n",
        "  serving = temp.replace(\"\\n\", \"\").replace(\" \", \"\").replace(\"Serves\", \"\")\n",
        "  # print(serving)\n",
        "  file.write(\"Serves: \" + serving + \"\\n\")\n",
        "\n",
        "  # prep time\n",
        "  prep = soup.find(\"span\", class_=\"recipe-details__cooking-time-prep\")\n",
        "  temp = prep.get_text()\n",
        "  prep_time = temp.replace(\"\\n\", \"\").replace(\" \", \"\")\n",
        "  # print(prep_time)\n",
        "  file.write(prep_time + \"\\n\")\n",
        "\n",
        "  # cooking time\n",
        "  cook = soup.find(\"span\", class_=\"recipe-details__cooking-time-cook\")\n",
        "  temp = cook.get_text()\n",
        "  cook_time = temp.replace(\"\\n\", \"\").replace(\" \", \"\")\n",
        "  # print(cook_time)\n",
        "  file.write(cook_time + \"\\n\")\n",
        "\n",
        "  # ingredients\n",
        "  ingre_list = []\n",
        "  # print(\"\\n\")\n",
        "  # print(\"Ingredients\")\n",
        "  file.write(\"\\n\" + \"Ingredients:\" + \"\\n\")\n",
        "  for li in soup.findAll(\"li\", class_=\"ingredients-list__item\"):\n",
        "      a = li.find('a', class_=\"ingredients-list__glossary-link\")\n",
        "      if a:\n",
        "          item = li.get_text()\n",
        "          lines = item.split(\"\\n\")\n",
        "          # print(lines[0])\n",
        "          file.write(str(lines[0]) + '\\n')\n",
        "          ingre_list.append(str(lines[0]))\n",
        "          # file.write(unicodedata.normalize('NFKD', lines[0]).encode('ascii', 'ignore') + \"\\n\")\n",
        "      else:\n",
        "          item = li.get_text()\n",
        "          # print(li.get_text())\n",
        "          file.write(str(item) + '\\n')\n",
        "          ingre_list.append(str(item))\n",
        "          # file.write(unicodedata.normalize('NFKD', li.get_text()).encode('ascii', 'ignore') + \"\\n\")\n",
        "  # print(\"\\n\")\n",
        "\n",
        "\n",
        "  # method\n",
        "  # print(\"Method\")\n",
        "  file.write(\"\\n\" + \"Method: \")\n",
        "  method_counter = 0\n",
        "  all_method = []\n",
        "  for li in soup.findAll(\"li\", class_=\"method__item\"):\n",
        "      method_counter += 1\n",
        "      method_item = li.get_text().replace(\"\\n\", \"\")\n",
        "      # print(method_item)\n",
        "      file.write(str(method_item) + '\\n')\n",
        "      # file.write(unicodedata.normalize('NFKD', method_item).encode('ascii', 'ignore') + \"\\n\" + \"\\n\")\n",
        "      all_method.append(str(method_item))\n",
        "\n",
        "  entire_method = ' '.join(all_method)\n",
        "\n",
        "  # Nutrition\n",
        "  nutri_dict = {}\n",
        "  file.write(\"\\n\")\n",
        "  file.write(\"Nutrition: \\n\")\n",
        "  nutrition = soup.find(\"ul\", class_=\"nutrition\")\n",
        "  for li in nutrition.findAll(\"li\"):\n",
        "      label = li.find(\"span\", class_=\"nutrition__label\")\n",
        "      value = li.find(\"span\", class_=\"nutrition__value\")\n",
        "      # print(label.get_text() + \": \" + value.get_text())\n",
        "      nutri_dict.update( {str(label.get_text()) : str(value.get_text())} )\n",
        "      file.write(label.get_text() + \": \" + value.get_text() + \"\\n\")\n",
        "  nutri_list = [(k,v) for k,v in nutri_dict.items()]\n",
        "\n",
        "\n",
        "  # write source\n",
        "  file.write(\"\\nRecipe taken from site:\\n\")\n",
        "  file.write(\"URL: \" + site)\n",
        "\n",
        "  # close file\n",
        "  file.close()\n",
        "\n",
        "  record = {\n",
        "          'title':str(title.text),\n",
        "          'url':site,\n",
        "          'author':str(stars.get_text()),\n",
        "          'rating':int(len(stars)),\n",
        "          'difficulty':level,\n",
        "          'serves':int(serving),\n",
        "          'prep_time':int(find_number(use_this, 'prep_time:')[0]),\n",
        "          'cook_time':int(find_number(use_this, 'cooking_time:')[0]),\n",
        "          'nutrition': nutri_dict,\n",
        "          'method':entire_method,\n",
        "          'ingredients': ingre_list,\n",
        "          'id':int(find_number(use_this, 'id:\"')[0]),\n",
        "          # 'cusine':,\n",
        "          'post_dates':int(find_number(use_this, 'post_dates:\"')[0]),\n",
        "          'diet_types':literal_eval(universal_func(use_this, \"diet_types:\"\"\", \"\"\",skill_level\"\"\")),\n",
        "          'courses':literal_eval(universal_func(use_this, \"courses:\"\"\", \"\"\",cusine\"\"\")),\n",
        "          \"compact_ingredients\":literal_eval(universal_func(use_this, \"ingredients:\"\"\", \"\"\",courses\"\"\")),\n",
        "          \"rating_of_100\":int(find_number(use_this, 'ratings:')[0]),\n",
        "          \"collections\": literal_eval(universal_func(use_this, \"\"\"collections:\"\"\", \"\"\",cooking_time\"\"\"))\n",
        "          }\n",
        "  return record"
      ],
      "execution_count": 43,
      "outputs": []
    },
    {
      "cell_type": "code",
      "metadata": {
        "id": "irKPSjwBVQ8Y",
        "colab_type": "code",
        "colab": {}
      },
      "source": [
        ""
      ],
      "execution_count": null,
      "outputs": []
    },
    {
      "cell_type": "markdown",
      "metadata": {
        "id": "MHT1ypO7StBy",
        "colab_type": "text"
      },
      "source": [
        "# to remove, temp"
      ]
    },
    {
      "cell_type": "code",
      "metadata": {
        "id": "axpv7YR3Sswy",
        "colab_type": "code",
        "colab": {}
      },
      "source": [
        ""
      ],
      "execution_count": null,
      "outputs": []
    },
    {
      "cell_type": "code",
      "metadata": {
        "id": "kxpmLl71O1ix",
        "colab_type": "code",
        "colab": {}
      },
      "source": [
        ""
      ],
      "execution_count": null,
      "outputs": []
    },
    {
      "cell_type": "code",
      "metadata": {
        "id": "iUzkx7lvJGvE",
        "colab_type": "code",
        "colab": {}
      },
      "source": [
        "record"
      ],
      "execution_count": null,
      "outputs": []
    },
    {
      "cell_type": "markdown",
      "metadata": {
        "id": "BrqDE1BqOUPc",
        "colab_type": "text"
      },
      "source": [
        "# Real Play"
      ]
    },
    {
      "cell_type": "code",
      "metadata": {
        "id": "jiEgWwBlOUcP",
        "colab_type": "code",
        "colab": {}
      },
      "source": [
        "url_list = [\"https://www.bbcgoodfood.com/recipes/2853680/moroccan-turkey-salad\", \"https://www.bbcgoodfood.com/recipes/5065/aromatic-lamb-with-dates\", \"https://www.bbcgoodfood.com/recipes/8088/moroccan-spiced-fish-with-ginger-mash\", \"https://www.bbcgoodfood.com/recipes/2998/speedy-moroccan-meatballs\", \"https://www.bbcgoodfood.com/recipes/5967/easy-chicken-tagine\", \"https://www.bbcgoodfood.com/recipes/3095/tabbouleh\", \"https://www.bbcgoodfood.com/recipes/2296/spiced-bulghar-wheat-with-roasted-peppers\", \"https://www.bbcgoodfood.com/recipes/1499/moroccan-chickpea-soup\", \"https://www.bbcgoodfood.com/recipes/5137/moroccan-spiced-carrots\", \"https://www.bbcgoodfood.com/recipes/2041/tangy-couscous-salad\", \"https://www.bbcgoodfood.com/recipes/2640/moroccan-chard-and-lamb-panfry\", \"https://www.bbcgoodfood.com/recipes/1820/versatile-dip\", \"https://www.bbcgoodfood.com/recipes/3148686/moroccan-roast-chicken-with-apricots\", \"https://www.bbcgoodfood.com/recipes/2875669/guinea-fowl-tagine-with-chickpeas-squash-and-apric\", \"https://www.bbcgoodfood.com/recipes/2865693/moroccan-chicken-couscous-with-dates\", \"https://www.bbcgoodfood.com/recipes/2837670/minty-carrot-pistachio-and-feta-salad\", \"https://www.bbcgoodfood.com/recipes/2837666/butternut-and-harissa-houmous\", \"https://www.bbcgoodfood.com/recipes/2468641/moroccan-chicken-onepot\", \"https://www.bbcgoodfood.com/recipes/6664/spiced-tortilla\", \"https://www.bbcgoodfood.com/recipes/2138651/roast-cod-with-paella-and-saffron-olive-oil\", \"https://www.bbcgoodfood.com/recipes/2459641/churros-with-chocolate-dipping-sauce\", \"https://www.bbcgoodfood.com/recipes/2534659/panfried-hake-white-bean-and-chorizo-broth\", \"https://www.bbcgoodfood.com/recipes/1415676/clam-chorizo-and-white-bean-stew\", \"https://www.bbcgoodfood.com/recipes/9974/spanish-chicken-pie\", \"https://www.bbcgoodfood.com/recipes/1508648/chorizo-and-softboiled-egg-salad\", \"https://www.bbcgoodfood.com/recipes/2040646/chorizo-potato-and-cheese-omelette\", \"https://www.bbcgoodfood.com/recipes/1396636/gazpacho\", \"https://www.bbcgoodfood.com/recipes/8271/spanish-fig-and-almond-balls\", \"https://www.bbcgoodfood.com/recipes/10775/chickpea-chorizo-and-spinach-stew\", \"https://www.bbcgoodfood.com/recipes/4021/easiest-ever-paella\", \"https://www.bbcgoodfood.com/recipes/2628/chorizo-and-chickpea-soup\", \"https://www.bbcgoodfood.com/recipes/4501/quick-gazpacho-\", \"https://www.bbcgoodfood.com/recipes/1182/prawns-with-romesco-sauce\", \"https://www.bbcgoodfood.com/recipes/1147/spaghetti-with-spanish-flavours\", \"https://www.bbcgoodfood.com/recipes/5393/crispy-squid-with-capers\", \"https://www.bbcgoodfood.com/recipes/5322/garlicky-prawns-with-sherry\", \"https://www.bbcgoodfood.com/recipes/420625/spanish-beans-with-chicken-and-chorizo\", \"https://www.bbcgoodfood.com/recipes/1916646/tom-yum-hot-and-sour-soup-with-prawns\", \"https://www.bbcgoodfood.com/recipes/next-level-pad-thai\", \"https://www.bbcgoodfood.com/recipes/2838670/thai-pork-and-peanut-curry\", \"https://www.bbcgoodfood.com/recipes/2865686/thai-fried-rice-with-prawns-and-peas\", \"https://www.bbcgoodfood.com/recipes/468653/thai-prawn-ginger-and-spring-onion-stirfry\", \"https://www.bbcgoodfood.com/recipes/559630/thai-shredded-chicken-and-runner-bean-salad\", \"https://www.bbcgoodfood.com/recipes/1424/ken-homs-stirfried-chicken-with-chillies-and-basil\", \"https://www.bbcgoodfood.com/recipes/4753/thai-minced-chicken-salad\", \"https://www.bbcgoodfood.com/recipes/1286/fragrant-thai-prawns\", \"https://www.bbcgoodfood.com/recipes/1541/thai-rice-noodle-salad\", \"https://www.bbcgoodfood.com/recipes/4498/red-curry-chicken-kebabs-\", \"https://www.bbcgoodfood.com/recipes/7418/easy-thai-prawn-curry\", \"https://www.bbcgoodfood.com/recipes/1883/thai-chicken-cakes-with-sweet-chilli-sauce\", \"https://www.bbcgoodfood.com/recipes/1166637/thai-spinach-bites\", \"https://www.bbcgoodfood.com/recipes/1120676/thai-coconut-and-veg-broth\", \"https://www.bbcgoodfood.com/recipes/1112636/spicy-thai-prawn-noodles\", \"https://www.bbcgoodfood.com/recipes/775669/thai-pumpkin-soup\", \"https://www.bbcgoodfood.com/recipes/764635/superfast-pad-thai\", \"https://www.bbcgoodfood.com/recipes/291607/phat-thai\", \"https://www.bbcgoodfood.com/recipes/3158681/spiced-lamb-and-feta-gozleme-with-special-tomato-s\", \"https://www.bbcgoodfood.com/recipes/681666/imam-bayildi-with-bbq-lamb-and-tzatziki\", \"https://www.bbcgoodfood.com/recipes/7736/diy-kofta-burgers\", \"https://www.bbcgoodfood.com/recipes/2320650/hot-cumin-lamb-wrap-with-crunchy-slaw-and-spicy-ma\", \"https://www.bbcgoodfood.com/recipes/634633/chicken-wings-with-cumin-lemon-and-garlic\", \"https://www.bbcgoodfood.com/recipes/2837674/rose-cream-and-raspberry-jellies\", \"https://www.bbcgoodfood.com/recipes/2138653/smoky-chicken-skewers\", \"https://www.bbcgoodfood.com/recipes/2360649/chilli-ginger-lamb-chops\", \"https://www.bbcgoodfood.com/recipes/1108650/almond-and-honey-pastries-with-orange-cream\", \"https://www.bbcgoodfood.com/recipes/5993/aubergine-couscous-salad\", \"https://www.bbcgoodfood.com/recipes/144606/minty-lamb-flatbreads\", \"https://www.bbcgoodfood.com/recipes/164606/roasted-chicken-with-creamy-walnut-sauce\", \"https://www.bbcgoodfood.com/recipes/13096/baked-aubergine-stuffed-with-roast-pumpkin-feta-an\", \"https://www.bbcgoodfood.com/recipes/4410/turkishstyle-lamb\", \"https://www.bbcgoodfood.com/recipes/1323/walnut-date-and-honey-cake\", \"https://www.bbcgoodfood.com/recipes/13147/grilled-lamb-with-wintry-rice-salad\", \"https://www.bbcgoodfood.com/recipes/1758649/hot-and-sour-fish-soup\", \"https://www.bbcgoodfood.com/recipes/vietnamese-chicken-baguettes-bhan-mi\", \"https://www.bbcgoodfood.com/recipes/67613/vietnamese-lamb-shanks-with-sweet-potatoes\", \"https://www.bbcgoodfood.com/recipes/2411641/vietnamese-chicken-salad\", \"https://www.bbcgoodfood.com/recipes/1162659/oriental-duck-salad\", \"https://www.bbcgoodfood.com/recipes/1572650/salmon-noodle-soup\", \"https://www.bbcgoodfood.com/recipes/8823/vietnamese-veggie-hotpot\", \"https://www.bbcgoodfood.com/recipes/1413640/vietnamese-seafood-salad\", \"https://www.bbcgoodfood.com/recipes/3161707/vietnamese-prawn-summer-rolls\", \"https://www.bbcgoodfood.com/recipes/vietnamese-caramel-trout\", \"https://www.bbcgoodfood.com/recipes/1167650/bang-bang-prawn-salad\", \"https://www.bbcgoodfood.com/recipes/531630/vietnamese-prawn-salad\", \"https://www.bbcgoodfood.com/recipes/12142/tofu-greens-and-cashew-stirfry\", \"https://www.bbcgoodfood.com/recipes/8049/prawn-spring-roll-wraps\", \"https://www.bbcgoodfood.com/recipes/1623/vietnamese-veg-parcels\", \"https://www.bbcgoodfood.com/recipes/3362/barbecue-pork-buns\", \"https://www.bbcgoodfood.com/recipes/1553638/vietnamese-prawn-and-noodle-salad-with-crispy-shal\", \"https://www.bbcgoodfood.com/recipes/5095/asian-noodle-and-turkey-soup\", \"https://www.bbcgoodfood.com/recipes/7748/crunchy-prawn-noodle-salad\", \"https://www.bbcgoodfood.com/recipes/2271/noodle-bowl-salad\", \"https://www.bbcgoodfood.com/recipes/12753/asian-prawn-and-pineapple-salad\", \"https://www.bbcgoodfood.com/recipes/11261/asian-chicken-salad\", \"https://www.bbcgoodfood.com/recipes/237611/crunchy-asian-cabbage-and-prawn-salad\", \"https://www.bbcgoodfood.com/recipes/buffalo-chicken\", \"https://www.bbcgoodfood.com/recipes/texas-bbq-medley\", \"https://www.bbcgoodfood.com/recipes/smores-dip\", \"https://www.bbcgoodfood.com/recipes/tomato-avocado-corn-salad-migas-buttermilk-dressing\", \"https://www.bbcgoodfood.com/recipes/sticky-bourbon-bbq-wings-blue-cheese-dip\", \"https://www.bbcgoodfood.com/recipes/spicy-pies-sweet-potato-mash\", \"https://www.bbcgoodfood.com/recipes/cheesesteak-hotdogs\", \"https://www.bbcgoodfood.com/recipes/creamed-corn\", \"https://www.bbcgoodfood.com/recipes/american-pancakes\", \"https://www.bbcgoodfood.com/recipes/baby-back-ribs-carolina-baste\", \"https://www.bbcgoodfood.com/recipes/choc-chip-pecan-pie\", \"https://www.bbcgoodfood.com/recipes/american-burnt-onion-dip\", \"https://www.bbcgoodfood.com/recipes/smoky-braised-brisket\", \"https://www.bbcgoodfood.com/recipes/2248636/stickiestever-bbq-ribs-with-chive-dip\", \"https://www.bbcgoodfood.com/recipes/diner-sloppy-joes\", \"https://www.bbcgoodfood.com/recipes/safe-eat-uncooked-cookie-dough\", \"https://www.bbcgoodfood.com/recipes/all-american-t-bone\", \"https://www.bbcgoodfood.com/recipes/emmas-almost-famous-bourbon-black-cherry-bacon-brownies\", \"https://www.bbcgoodfood.com/recipes/smoky-pork-boston-beans-one-pot\", \"https://www.bbcgoodfood.com/recipes/1263663/john-torodes-big-burger\", \"https://www.bbcgoodfood.com/recipes/2869/new-york-cheesecake\", \"https://www.bbcgoodfood.com/recipes/bbq-pulled-pork\", \"https://www.bbcgoodfood.com/recipes/peanut-butter-jelly-cookies\", \"https://www.bbcgoodfood.com/recipes/2248635/mini-pork-pies-with-piccalilli-\", \"https://www.bbcgoodfood.com/recipes/1758645/herby-toad-in-the-hole\", \"https://www.bbcgoodfood.com/recipes/1958635/crispy-topped-cumberland-pie\", \"https://www.bbcgoodfood.com/recipes/2219676/cherry-and-almond-tarts\", \"https://www.bbcgoodfood.com/recipes/2198657/classic-summer-pudding\", \"https://www.bbcgoodfood.com/recipes/2138667/roast-beef-with-caramelised-onion-gravy\", \"https://www.bbcgoodfood.com/recipes/2063668/roast-lamb-with-spring-herb-crumbs\", \"https://www.bbcgoodfood.com/recipes/2138671/nofail-yorkies\", \"https://www.bbcgoodfood.com/recipes/2063673/st-clements-pie\", \"https://www.bbcgoodfood.com/recipes/2220651/scampi-with-tartare-sauce\", \"https://www.bbcgoodfood.com/recipes/1414645/scotch-eggs\", \"https://www.bbcgoodfood.com/recipes/2063654/rhubarb-pear-and-hazelnut-crumbles\", \"https://www.bbcgoodfood.com/recipes/1826707/marzipan-eccles-tarts\", \"https://www.bbcgoodfood.com/recipes/13015/the-ultimate-makeover-steak-and-kidney-pie\", \"https://www.bbcgoodfood.com/recipes/2848/british-pork-cassoulet\", \"https://www.bbcgoodfood.com/recipes/9644/nofuss-shepherds-pie\", \"https://www.bbcgoodfood.com/recipes/532634/grannys-victoria-sponge\", \"https://www.bbcgoodfood.com/recipes/3439/spiced-parsnip-shepherds-pies\", \"https://www.bbcgoodfood.com/recipes/rum-punch\", \"https://www.bbcgoodfood.com/recipes/caribbean-beef-patties\", \"https://www.bbcgoodfood.com/recipes/sticky-jerk-salmon-mango-slaw\", \"https://www.bbcgoodfood.com/recipes/2369635/jerk-chicken-with-rice-and-peas\", \"https://www.bbcgoodfood.com/recipes/1959654/jerk-beefburger-with-pineapple-relish-and-chips\", \"https://www.bbcgoodfood.com/recipes/235607/spiced-glazed-pineapple-with-cinnamon-fromage-frai\", \"https://www.bbcgoodfood.com/recipes/1413635/jerk-chicken-kebabs-with-mango-salsa\", \"https://www.bbcgoodfood.com/recipes/11745/reggae-reggae-nachos\", \"https://www.bbcgoodfood.com/recipes/11741/simple-coconut-and-bean-soup-\", \"https://www.bbcgoodfood.com/recipes/2022/natalies-trinidadian-fish-stew\", \"https://www.bbcgoodfood.com/recipes/1857/hot-and-spicy-sweet-potatoes\", \"https://www.bbcgoodfood.com/recipes/1856/pippas-perfect-plantains\", \"https://www.bbcgoodfood.com/recipes/1854/sizzling-spare-ribs-with-bbq-sauce\", \"https://www.bbcgoodfood.com/recipes/1855/exotic-avocado-salad\", \"https://www.bbcgoodfood.com/recipes/jerk-pulled-pork-banana-salsa\", \"https://www.bbcgoodfood.com/recipes/3161688/sticky-jerk-and-brown-sugar-ribs-with-pineapple-ri\", \"https://www.bbcgoodfood.com/recipes/3161679/jerk-spice-mix\", \"https://www.bbcgoodfood.com/recipes/2982679/mango-chicken-bean-and-rice-bake\", \"https://www.bbcgoodfood.com/recipes/chinese-beef-aubergine-hotpot\", \"https://www.bbcgoodfood.com/recipes/egg-fried-rice\", \"https://www.bbcgoodfood.com/recipes/sichuan-chicken-wings\", \"https://www.bbcgoodfood.com/recipes/steamed-sea-bass\", \"https://www.bbcgoodfood.com/recipes/asian-greens\", \"https://www.bbcgoodfood.com/recipes/spicy-sichuan-style-prawns\", \"https://www.bbcgoodfood.com/recipes/chow-mein\", \"https://www.bbcgoodfood.com/recipes/cashew-chicken\", \"https://www.bbcgoodfood.com/recipes/stir-fried-beef-oyster-sauce\", \"https://www.bbcgoodfood.com/recipes/2884665/gunpowder-chicken-with-dried-red-chillies-and-pean\", \"https://www.bbcgoodfood.com/recipes/3366/sea-bass-with-sizzled-ginger-chilli-and-spring-oni\", \"https://www.bbcgoodfood.com/recipes/2852672/crispy-chilli-beef\", \"https://www.bbcgoodfood.com/recipes/3207/sticky-chinese-wings-and-cucumber\", \"https://www.bbcgoodfood.com/recipes/5589/chinese-steamed-bass-with-cabbage\", \"https://www.bbcgoodfood.com/recipes/5138/chinesestyle-kale\", \"https://www.bbcgoodfood.com/recipes/2248/chinesestyle-wintery-rolls\", \"https://www.bbcgoodfood.com/recipes/2830/sweet-and-sour-chicken\", \"https://www.bbcgoodfood.com/recipes/3239/oriental-egg-fried-rice\", \"https://www.bbcgoodfood.com/recipes/2274/stirfried-greens-with-oyster-sauce\", \"https://www.bbcgoodfood.com/recipes/2118/steamed-pork-and-prawn-wontons\", \"https://www.bbcgoodfood.com/recipes/blood-orange-dark-chocolate-madeleines\", \"https://www.bbcgoodfood.com/recipes/steak-hache-pommes-frites-cheats-bearnaise-sauce\", \"https://www.bbcgoodfood.com/recipes/sauteed-potatoes-bacon-lardons-persillade\", \"https://www.bbcgoodfood.com/recipes/chinon-apple-tarts\", \"https://www.bbcgoodfood.com/recipes/summer-pistou\", \"https://www.bbcgoodfood.com/recipes/lighter-cassoulet\", \"https://www.bbcgoodfood.com/recipes/honey-roast-confit-duck\", \"https://www.bbcgoodfood.com/recipes/453622/apricot-french-toast\", \"https://www.bbcgoodfood.com/recipes/9079/the-ultimate-makeover-french-onion-soup\", \"https://www.bbcgoodfood.com/recipes/3028701/threecheese-souffls\", \"https://www.bbcgoodfood.com/recipes/518641/frenchstyle-chicken-with-peas-and-bacon\", \"https://www.bbcgoodfood.com/recipes/73609/cheesy-french-toast-with-ham-and-grilled-vine-toma\", \"https://www.bbcgoodfood.com/recipes/2338/chicken-liver-and-pineau-pt\", \"https://www.bbcgoodfood.com/recipes/4778/pear-tarte-tatin\", \"https://www.bbcgoodfood.com/recipes/2540/white-chocolate-crme-brle\", \"https://www.bbcgoodfood.com/recipes/2438/basic-hollandaise\", \"https://www.bbcgoodfood.com/recipes/532640/summer-fish-stew-with-rouille\", \"https://www.bbcgoodfood.com/recipes/fennel-dauphinoise\", \"https://www.bbcgoodfood.com/recipes/lamb-kleftiko\", \"https://www.bbcgoodfood.com/recipes/artichoke-aubergine-lamb-moussaka\", \"https://www.bbcgoodfood.com/recipes/greek-style-roast-fish\", \"https://www.bbcgoodfood.com/recipes/749727/greek-lamb-with-potatoes-and-olives\", \"https://www.bbcgoodfood.com/recipes/3145676/lamb-burgers-with-tzatziki\", \"https://www.bbcgoodfood.com/recipes/2196639/griddled-chicken-with-quinoa-greek-salad\", \"https://www.bbcgoodfood.com/recipes/2196639/griddled-chicken-with-quinoa-greek-salad\", \"https://www.bbcgoodfood.com/recipes/2852670/greek-lamb-and-macaroni-bake\", \"https://www.bbcgoodfood.com/recipes/2536649/greek-beans-with-seared-lamb\", \"https://www.bbcgoodfood.com/recipes/2358665/marinated-feta-in-thyme-and-chilli-oil\", \"https://www.bbcgoodfood.com/recipes/2220672/barbecued-greek-lamb-with-tzatziki\", \"https://www.bbcgoodfood.com/recipes/2220665/lamb-kebabs-and-greek-salad\", \"https://www.bbcgoodfood.com/recipes/12229/gigantes-plaki\", \"https://www.bbcgoodfood.com/recipes/5892/greek-roast-lamb\", \"https://www.bbcgoodfood.com/recipes/2317/greek-pasta-salad\", \"https://www.bbcgoodfood.com/recipes/3301/greek-island-salad-with-chicken-and-avocado\", \"https://www.bbcgoodfood.com/recipes/1120675/greek-lamb-tray-bake\", \"https://www.bbcgoodfood.com/recipes/1938/greek-salad-omelette-\", \"https://www.bbcgoodfood.com/recipes/711651/honey-yogurt-cheesecake\", \"https://www.bbcgoodfood.com/recipes/3027/mustmake-moussaka\", \"https://www.bbcgoodfood.com/recipes/644645/greekstyle-lamb-with-lemon-and-thyme\", \"https://www.bbcgoodfood.com/recipes/12228/stuffed-tomatoes-with-lamb-mince-dill-and-rice\", \"https://www.bbcgoodfood.com/recipes/2610641/creamy-beetroot-curry\", \"https://www.bbcgoodfood.com/recipes/2252645/spiced-roast-side-of-salmon\", \"https://www.bbcgoodfood.com/recipes/2248668/coronation-chicken-naans-with-indian-slaw\", \"https://www.bbcgoodfood.com/recipes/2248651/fried-fish-and-tomato-curry\", \"https://www.bbcgoodfood.com/recipes/2252643/new-potato-and-tamarind-salad\", \"https://www.bbcgoodfood.com/recipes/2220652/cardamom-butter-chicken\", \"https://www.bbcgoodfood.com/recipes/2534661/goan-prawn-and-coconut-curry-with-cumin-rice\", \"https://www.bbcgoodfood.com/recipes/2141640/chicken-tikka-with-spiced-rice\", \"https://www.bbcgoodfood.com/recipes/2360681/curry-coconut-fish-parcels\", \"https://www.bbcgoodfood.com/recipes/2491649/proper-chicken-curry\", \"https://www.bbcgoodfood.com/recipes/2150645/fishermans-curry\", \"https://www.bbcgoodfood.com/recipes/2150644/sambar\", \"https://www.bbcgoodfood.com/recipes/2150647/baked-country-chicken\", \"https://www.bbcgoodfood.com/recipes/2150642/keralan-vegetable-curry\", \"https://www.bbcgoodfood.com/recipes/1993658/homestyle-chicken-curry\", \"https://www.bbcgoodfood.com/recipes/1884/creamy-masala-chicken\", \"https://www.bbcgoodfood.com/recipes/cannoli\", \"https://www.bbcgoodfood.com/recipes/2534648/braised-rabbit-pappardelle\", \"https://www.bbcgoodfood.com/recipes/2534656/affogato-al-caff-vanilla-ice-cream-and-coffee\", \"https://www.bbcgoodfood.com/recipes/2411657/fig-and-prosciutto-pizzettas\", \"https://www.bbcgoodfood.com/recipes/2248649/aubergine-rolls-with-spinach-and-ricotta\", \"https://www.bbcgoodfood.com/recipes/gnocchi-parsley-butter-samphire\", \"https://www.bbcgoodfood.com/recipes/2141638/apricot-and-ratafia-sponge-cake\", \"https://www.bbcgoodfood.com/recipes/2053651/chocolate-pistachio-and-nougat-semifreddo\", \"https://www.bbcgoodfood.com/recipes/3494/roast-red-wine-lamb-with-italian-beans\", \"https://www.bbcgoodfood.com/recipes/taleggio-tart-walnut-pastry\", \"https://www.bbcgoodfood.com/recipes/2411658/plum-and-amaretti-semifreddo\", \"https://www.bbcgoodfood.com/recipes/nettle-gnudi-wild-pesto\", \"https://www.bbcgoodfood.com/recipes/wild-garlic-butter-music-paper-bread\", \"https://www.bbcgoodfood.com/recipes/2196649/lamb-tagliata-with-watercress-and-tomatoes\", \"https://www.bbcgoodfood.com/recipes/new-potato-rosemary-focaccia\", \"https://www.bbcgoodfood.com/recipes/artichoke-olive-calzones\", \"https://www.bbcgoodfood.com/recipes/12235/blackberry-zabaglione\", \"https://www.bbcgoodfood.com/recipes/pappardelle-rabbit-chestnut-ragu\", \"https://www.bbcgoodfood.com/recipes/torta-del-nonna\", \"https://www.bbcgoodfood.com/recipes/acquacotta\", \"https://www.bbcgoodfood.com/recipes/1094667/italian-vegetable-soup\", \"https://www.bbcgoodfood.com/recipes/japanese-style-bento-box\", \"https://www.bbcgoodfood.com/recipes/japanese-rice-gohan\", \"https://www.bbcgoodfood.com/recipes/tonkatsu-pork\", \"https://www.bbcgoodfood.com/recipes/chuka-fu-shredded-cabbage\", \"https://www.bbcgoodfood.com/recipes/quick-sushi-bowl\", \"https://www.bbcgoodfood.com/recipes/japanese-katsudon\", \"https://www.bbcgoodfood.com/recipes/yakitori-chicken\", \"https://www.bbcgoodfood.com/recipes/goma-ae-japanese-greens\", \"https://www.bbcgoodfood.com/recipes/644644/miso-steak\", \"https://www.bbcgoodfood.com/recipes/rice-quinoa-prawn-sushi-bowl\", \"https://www.bbcgoodfood.com/recipes/fluffy-japanese-pancakes\", \"https://www.bbcgoodfood.com/recipes/2875679/katsu-pork-with-sticky-rice\", \"https://www.bbcgoodfood.com/recipes/japanese-okonomiyaki\", \"https://www.bbcgoodfood.com/recipes/miso-caramel-chicken-wings\", \"https://www.bbcgoodfood.com/recipes/sushi-burrito\", \"https://www.bbcgoodfood.com/recipes/chicken-katsu-curry-burger\", \"https://www.bbcgoodfood.com/recipes/japanese-style-brown-rice\", \"https://www.bbcgoodfood.com/recipes/spice-crusted-tofu-kumquat-radish-salad\", \"https://www.bbcgoodfood.com/recipes/seared-sirloin-japanese-dips\", \"https://www.bbcgoodfood.com/recipes/cheats-chicken-ramen\", \"https://www.bbcgoodfood.com/recipes/cheats-katsu-curry\", \"https://www.bbcgoodfood.com/recipes/crispy-japanese-style-chicken-burgers\", \"https://www.bbcgoodfood.com/recipes/2249640/mediterranean-potato-salad\", \"https://www.bbcgoodfood.com/recipes/2248640/courgette-and-quinoastuffed-peppers\", \"https://www.bbcgoodfood.com/recipes/2196641/bacon-and-brie-omelette-wedges-with-summer-salad\", \"https://www.bbcgoodfood.com/recipes/2195654/chorizo-pilaf\", \"https://www.bbcgoodfood.com/recipes/2220656/broad-bean-and-feta-cheese-toasts\", \"https://www.bbcgoodfood.com/recipes/2195651/pancettawrapped-fish-with-lemony-potatoes\", \"https://www.bbcgoodfood.com/recipes/2303678/polenta-roasted-vegetables-and-peppered-parmesan-c\", \"https://www.bbcgoodfood.com/recipes/2040649/spinach-with-chilli-and-lemon-crumbs\", \"https://www.bbcgoodfood.com/recipes/1585636/mussels-with-tomatoes-and-chilli\", \"https://www.bbcgoodfood.com/recipes/12355/roasted-peppers-with-tomatoes-and-anchovies\", \"https://www.bbcgoodfood.com/recipes/7415/mediterranean-slices\", \"https://www.bbcgoodfood.com/recipes/4404/easy-stuffed-peppers\", \"https://www.bbcgoodfood.com/recipes/4551/crunchy-baked-mussels\", \"https://www.bbcgoodfood.com/recipes/aioli\", \"https://www.bbcgoodfood.com/recipes/11600/watermelon-and-feta-salad-with-crispbread\", \"https://www.bbcgoodfood.com/recipes/11025/crispy-squid-with-caponata\", \"https://www.bbcgoodfood.com/recipes/1867/mediterranean-scones\", \"https://www.bbcgoodfood.com/recipes/7996/mediterranean-feta-salad-with-pomegranate-dressing\", \"https://www.bbcgoodfood.com/recipes/huevos-rancheros\", \"https://www.bbcgoodfood.com/recipes/mexican-penne-avocado\", \"https://www.bbcgoodfood.com/recipes/easy-chicken-fajitas\", \"https://www.bbcgoodfood.com/recipes/mexican-tomato-rice\", \"https://www.bbcgoodfood.com/recipes/black-eye-bean-mole-salsa\", \"https://www.bbcgoodfood.com/recipes/2121655/smoky-pork-and-black-bean-tacos\", \"https://www.bbcgoodfood.com/recipes/chargrilled-vegetable-tacos-smoky-salsa\", \"https://www.bbcgoodfood.com/recipes/mexican-corn-salsa\", \"https://www.bbcgoodfood.com/recipes/breakfast-burrito\", \"https://www.bbcgoodfood.com/recipes/725645/refried-bean-quesadillas\", \"https://www.bbcgoodfood.com/recipes/fish-tacos-baja-sauce\", \"https://www.bbcgoodfood.com/recipes/curtido\", \"https://www.bbcgoodfood.com/recipes/burrito-bowl-chipotle-black-beans\", \"https://www.bbcgoodfood.com/recipes/belly-pork-pineapple-burritos\", \"https://www.bbcgoodfood.com/recipes/1940686/mexican-chicken-stew-with-quinoa-and-beans\", \"https://www.bbcgoodfood.com/recipes/brazil-nut-burritos\", \"https://www.bbcgoodfood.com/recipes/mexican-egg-roll\", \"https://www.bbcgoodfood.com/recipes/236609/black-bean-chilli\", \"https://www.bbcgoodfood.com/recipes/tomatillo-salsa\", \"https://www.bbcgoodfood.com/recipes/michelada\", \"https://www.bbcgoodfood.com/recipes/johns-chicken-one-pot\", \"https://www.bbcgoodfood.com/recipes/1841635/cobb-salad-with-buttermilk-ranch-dressing\", \"https://www.bbcgoodfood.com/recipes/fully-loaded-cajun-chicken-burgers\", \"https://www.bbcgoodfood.com/recipes/beef-ale-parsnip-pudding\", \"https://www.bbcgoodfood.com/recipes/easy-treacle-sponge\", \"https://www.bbcgoodfood.com/recipes/lemon-thyme-butter-basted-roast-chicken-gravy\", \"https://www.bbcgoodfood.com/recipes/split-pea-green-pea-smoked-ham-soup\", \"https://www.bbcgoodfood.com/recipes/chicken-mushroom-puff-pie\", \"https://www.bbcgoodfood.com/recipes/fish-pie-four-steps\", \"https://www.bbcgoodfood.com/recipes/beef-wellington\", \"https://www.bbcgoodfood.com/recipes/jerk-sweet-potato-black-bean-curry\", \"https://www.bbcgoodfood.com/recipes/goat-curry\", \"https://www.bbcgoodfood.com/recipes/tropical-breakfast-smoothie\", \"https://www.bbcgoodfood.com/recipes/jerk-pork-rice-beans\", \"https://www.bbcgoodfood.com/recipes/salt-pepper-prawns\", \"https://www.bbcgoodfood.com/recipes/crisp-chinese-pork\", \"https://www.bbcgoodfood.com/recipes/hoisin-wraps\", \"https://www.bbcgoodfood.com/recipes/special-fried-rice-prawns-chorizo\", \"https://www.bbcgoodfood.com/recipes/boulangere-potatoes\", \"https://www.bbcgoodfood.com/recipes/ultimate-french-omelette\", \"https://www.bbcgoodfood.com/recipes/tomato-caramelised-onion-tart-tatin\", \"https://www.bbcgoodfood.com/recipes/raymond-blancs-cassoulet\", \"https://www.bbcgoodfood.com/recipes/hot-chocolate-souffles-chocolate-cream-sauce\", \"https://www.bbcgoodfood.com/recipes/greek-lamb-orzo\", \"https://www.bbcgoodfood.com/recipes/crispy-greek-style-pie\", \"https://www.bbcgoodfood.com/recipes/railway-lamb-curry\", \"https://www.bbcgoodfood.com/recipes/healthier-chicken-balti\", \"https://www.bbcgoodfood.com/recipes/bombay-potatoes\", \"https://www.bbcgoodfood.com/recipes/bengali-scotch-eggs\", \"https://www.bbcgoodfood.com/recipes/channa-bhatura\", \"https://www.bbcgoodfood.com/recipes/malabar-prawns\", \"https://www.bbcgoodfood.com/recipes/family-meals-mild-chicken-curry\", \"https://www.bbcgoodfood.com/recipes/squash-cabbage-sabzi\", \"https://www.bbcgoodfood.com/recipes/tandoori-roast-chicken\", \"https://www.bbcgoodfood.com/recipes/pizza-margherita-4-easy-steps\", \"https://www.bbcgoodfood.com/recipes/arancini-balls\", \"https://www.bbcgoodfood.com/recipes/italian-stuffed-chicken\", \"https://www.bbcgoodfood.com/recipes/italian-butter-beans\", \"https://www.bbcgoodfood.com/recipes/japanese-ramen-noodle-soup\", \"https://www.bbcgoodfood.com/recipes/veggie-okonomiyaki\", \"https://www.bbcgoodfood.com/recipes/smoked-salmon-avocado-sushi\", \"https://www.bbcgoodfood.com/recipes/herbed-lamb-cutlets-roasted-vegetables\", \"https://www.bbcgoodfood.com/recipes/caponata\", \"https://www.bbcgoodfood.com/recipes/mediterranean-fig-mozzarella-salad\", \"https://www.bbcgoodfood.com/recipes/mediterranean-chicken-tray-bake\", \"https://www.bbcgoodfood.com/recipes/mediterranean-chicken-roasted-vegetables\", \"https://www.bbcgoodfood.com/recipes/spiced-baked-figs-ginger-mascarpone\", \"https://www.bbcgoodfood.com/recipes/black-bean-tostadas-avocado-salsa\", \"https://www.bbcgoodfood.com/recipes/bean-enchiladas\", \"https://www.bbcgoodfood.com/recipes/mexican-bean-burgers-lime-yogurt-salsa\", \"https://www.bbcgoodfood.com/recipes/2253642/grilled-salmon-tacos-with-chipotle-lime-yogurt\", \"https://www.bbcgoodfood.com/recipes/moroccan-meatball-tagine-lemon-olives\", \"https://www.bbcgoodfood.com/recipes/pumpkin-cranberry-red-onion-tagine\", \"https://www.bbcgoodfood.com/recipes/moroccan-spiced-pie\", \"https://www.bbcgoodfood.com/recipes/moroccan-spiced-cauliflower-almond-soup\", \"https://www.bbcgoodfood.com/recipes/moroccan-kofte-spicy-tomato-sauce\", \"https://www.bbcgoodfood.com/recipes/spicy-moroccan-rice\", \"https://www.bbcgoodfood.com/recipes/padron-peppers\", \"https://www.bbcgoodfood.com/recipes/spanish-sardines-toast\", \"https://www.bbcgoodfood.com/recipes/chicken-chorizo-rice-pot\", \"https://www.bbcgoodfood.com/recipes/spanish-chicken\", \"https://www.bbcgoodfood.com/recipes/patatas-bravas-0\", \"https://www.bbcgoodfood.com/recipes/spanish-tomato-bread-jamon-serrano\", \"https://www.bbcgoodfood.com/recipes/easy-pad-thai\", \"https://www.bbcgoodfood.com/recipes/thai-green-chicken-curry-0\", \"https://www.bbcgoodfood.com/recipes/thai-chicken-and-sweet-potato-soup\", \"https://www.bbcgoodfood.com/recipes/thai-beef-stir-fry\", \"https://www.bbcgoodfood.com/recipes/thai-style-steamed-fish\", \"https://www.bbcgoodfood.com/recipes/ultimate-makeover-thai-green-chicken-curry\", \"https://www.bbcgoodfood.com/recipes/turkish-one-pan-eggs-peppers-menemen\", \"https://www.bbcgoodfood.com/recipes/grilled-aubergines-spicy-chickpeas-walnut-sauce\", \"https://www.bbcgoodfood.com/recipes/smoked-aubergine-puree\", \"https://www.bbcgoodfood.com/recipes/slow-roast-lamb-cinnamon-fennel-citrus\", \"https://www.bbcgoodfood.com/recipes/turkish-lamb-pilau\", \"https://www.bbcgoodfood.com/recipes/spicy-falafels\", \"https://www.bbcgoodfood.com/recipes/easy-hummus-recipe\", \"https://www.bbcgoodfood.com/recipes/griddled-flatbreads\", \"https://www.bbcgoodfood.com/recipes/salt-pepper-squid\", \"https://www.bbcgoodfood.com/recipes/tangy-carrot-red-cabbage-onion-salad\"]"
      ],
      "execution_count": null,
      "outputs": []
    },
    {
      "cell_type": "code",
      "metadata": {
        "id": "UXu-caiaOUfl",
        "colab_type": "code",
        "colab": {
          "base_uri": "https://localhost:8080/",
          "height": 35
        },
        "outputId": "38cad99e-e349-47d2-8713-ff5a1c391e78"
      },
      "source": [
        "hahha = '[\"this_has_to_be_a_list\", \"maybe_now_it_will_work\"]'\n",
        "hahha[0]"
      ],
      "execution_count": 30,
      "outputs": [
        {
          "output_type": "execute_result",
          "data": {
            "application/vnd.google.colaboratory.intrinsic": {
              "type": "string"
            },
            "text/plain": [
              "'['"
            ]
          },
          "metadata": {
            "tags": []
          },
          "execution_count": 30
        }
      ]
    },
    {
      "cell_type": "code",
      "metadata": {
        "id": "S_ke9ctOXgb3",
        "colab_type": "code",
        "colab": {}
      },
      "source": [
        "from ast import literal_eval\n",
        "a = literal_eval(hahha)"
      ],
      "execution_count": 31,
      "outputs": []
    },
    {
      "cell_type": "code",
      "metadata": {
        "id": "5a505NcWX-rP",
        "colab_type": "code",
        "colab": {
          "base_uri": "https://localhost:8080/",
          "height": 34
        },
        "outputId": "70ec948d-756c-446b-ff48-97e195187ca4"
      },
      "source": [
        "a"
      ],
      "execution_count": 32,
      "outputs": [
        {
          "output_type": "execute_result",
          "data": {
            "text/plain": [
              "['this_has_to_be_a_list', 'maybe_now_it_will_work']"
            ]
          },
          "metadata": {
            "tags": []
          },
          "execution_count": 32
        }
      ]
    }
  ]
}