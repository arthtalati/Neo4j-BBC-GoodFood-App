{
  "nbformat": 4,
  "nbformat_minor": 0,
  "metadata": {
    "colab": {
      "name": "BBC_goodfood_scraper.ipynb",
      "provenance": [],
      "authorship_tag": "ABX9TyPXD3x2FO+4z7q6qqMMmvvA",
      "include_colab_link": true
    },
    "kernelspec": {
      "name": "python3",
      "display_name": "Python 3"
    }
  },
  "cells": [
    {
      "cell_type": "markdown",
      "metadata": {
        "id": "view-in-github",
        "colab_type": "text"
      },
      "source": [
        "<a href=\"https://colab.research.google.com/github/arthtalati/Neo4j-BBC-GoodFood-App/blob/master/BBC_goodfood_scraper.ipynb\" target=\"_parent\"><img src=\"https://colab.research.google.com/assets/colab-badge.svg\" alt=\"Open In Colab\"/></a>"
      ]
    },
    {
      "cell_type": "code",
      "metadata": {
        "id": "I4t7SMfxIaYA",
        "colab_type": "code",
        "colab": {}
      },
      "source": [
        "# Source - https://github.com/wel-shy/recipes/blob/master/_getrecipe.py"
      ],
      "execution_count": 0,
      "outputs": []
    },
    {
      "cell_type": "code",
      "metadata": {
        "id": "nyQhgnB2K0If",
        "colab_type": "code",
        "colab": {}
      },
      "source": [
        "import unicodedata\n",
        "from bs4 import BeautifulSoup\n",
        "from urllib.request import Request, urlopen\n",
        "\n",
        "site= \"https://www.bbcgoodfood.com/recipes/cinnamon-porridge-banana-berries\"\n",
        "hdr = {'User-Agent': 'Mozilla/5.0'}\n",
        "req = Request(site,headers=hdr)\n",
        "page = urlopen(req)\n",
        "soup = BeautifulSoup(page)\n",
        "# print(soup)"
      ],
      "execution_count": 0,
      "outputs": []
    },
    {
      "cell_type": "code",
      "metadata": {
        "id": "LMsGo1FqlwPJ",
        "colab_type": "code",
        "colab": {
          "base_uri": "https://localhost:8080/",
          "height": 51
        },
        "outputId": "0d21508f-34ae-44f3-9737-428de1c7dd95"
      },
      "source": [
        "# Get title\n",
        "title = soup.find(\"h1\", class_=\"recipe-header__title\")\n",
        "file_name = title.text + \".txt\"\n",
        "file = open(file_name, \"w\")\n",
        "print(title.text)\n",
        "file.write(str(file_name) + '\\n')\n",
        "# file.write(unicodedata.normalize('NFKD', title.get_text()).encode('ascii', 'ignore') + \"\\n\")"
      ],
      "execution_count": 29,
      "outputs": [
        {
          "output_type": "stream",
          "text": [
            "Cinnamon porridge with banana & berries\n"
          ],
          "name": "stdout"
        },
        {
          "output_type": "execute_result",
          "data": {
            "text/plain": [
              "44"
            ]
          },
          "metadata": {
            "tags": []
          },
          "execution_count": 29
        }
      ]
    },
    {
      "cell_type": "code",
      "metadata": {
        "id": "gUnUrqEVmWsp",
        "colab_type": "code",
        "colab": {
          "base_uri": "https://localhost:8080/",
          "height": 51
        },
        "outputId": "2dd8acba-143a-4943-fac8-9a235e468946"
      },
      "source": [
        "\n",
        "# Get meta-data\n",
        "# rating\n",
        "stars = soup.findAll(\"span\", class_=\"rate-fivestar-btn-filled\")\n",
        "temp = \"Rating: \" + str(len(stars))\n",
        "rating = temp.replace(\"\\n\", \"\")\n",
        "print(rating)\n",
        "file.write(rating + \"\\n\")"
      ],
      "execution_count": 30,
      "outputs": [
        {
          "output_type": "stream",
          "text": [
            "Rating: 5\n"
          ],
          "name": "stdout"
        },
        {
          "output_type": "execute_result",
          "data": {
            "text/plain": [
              "10"
            ]
          },
          "metadata": {
            "tags": []
          },
          "execution_count": 30
        }
      ]
    },
    {
      "cell_type": "code",
      "metadata": {
        "id": "sIVtn0X4Be0N",
        "colab_type": "code",
        "colab": {
          "base_uri": "https://localhost:8080/",
          "height": 51
        },
        "outputId": "f802daf9-cad4-4d7d-b1fb-cd0c73c5cc42"
      },
      "source": [
        "\n",
        "# Get chef(Author of recipie)\n",
        "# CHEF\n",
        "stars = soup.find(\"span\", class_=\"author\")\n",
        "temp = \"Author: \" + str(stars.get_text())\n",
        "author = temp.replace(\"\\n\", \"\")\n",
        "print(author)\n",
        "file.write(author + \"\\n\")"
      ],
      "execution_count": 31,
      "outputs": [
        {
          "output_type": "stream",
          "text": [
            "Author: Good Food\n"
          ],
          "name": "stdout"
        },
        {
          "output_type": "execute_result",
          "data": {
            "text/plain": [
              "18"
            ]
          },
          "metadata": {
            "tags": []
          },
          "execution_count": 31
        }
      ]
    },
    {
      "cell_type": "code",
      "metadata": {
        "id": "CZjWQNlIKZzw",
        "colab_type": "code",
        "colab": {
          "base_uri": "https://localhost:8080/",
          "height": 309
        },
        "outputId": "f565ad09-2b29-46d6-c53b-f4c27b5f2a9c"
      },
      "source": [
        "\n",
        "\n",
        "# Skill level\n",
        "skill = soup.find(\"section\", class_=\"recipe-details__item--skill-level\")\n",
        "temp = skill.get_text()\n",
        "level = temp.replace(\"\\n\", \"\").replace(\" \", \"\")\n",
        "print(level)\n",
        "file.write(\"Difficulty: \" + level + \"\\n\")\n",
        "\n",
        "# Serves\n",
        "serve = soup.find(\"section\", class_=\"recipe-details__item--servings\")\n",
        "temp = serve.get_text()\n",
        "serving = temp.replace(\"\\n\", \"\").replace(\" \", \"\").replace(\"Serves\", \"\")\n",
        "print(serving)\n",
        "file.write(\"Serves: \" + serving + \"\\n\")\n",
        "\n",
        "# prep time\n",
        "prep = soup.find(\"span\", class_=\"recipe-details__cooking-time-prep\")\n",
        "temp = prep.get_text()\n",
        "prep_time = temp.replace(\"\\n\", \"\").replace(\" \", \"\")\n",
        "print(prep_time)\n",
        "file.write(prep_time + \"\\n\")\n",
        "\n",
        "# cooking time\n",
        "cook = soup.find(\"span\", class_=\"recipe-details__cooking-time-cook\")\n",
        "temp = cook.get_text()\n",
        "cook_time = temp.replace(\"\\n\", \"\").replace(\" \", \"\")\n",
        "print(cook_time)\n",
        "file.write(cook_time + \"\\n\")\n",
        "\n",
        "# ingredients\n",
        "print(\"\\n\")\n",
        "print(\"Ingredients\")\n",
        "file.write(\"\\n\" + \"Ingredients:\" + \"\\n\")\n",
        "for li in soup.findAll(\"li\", class_=\"ingredients-list__item\"):\n",
        "    a = li.find('a', class_=\"ingredients-list__glossary-link\")\n",
        "    if a:\n",
        "        item = li.get_text()\n",
        "        lines = item.split(\"\\n\")\n",
        "        print(lines[0])\n",
        "        file.write(str(lines[0]) + '\\n')\n",
        "        # file.write(unicodedata.normalize('NFKD', lines[0]).encode('ascii', 'ignore') + \"\\n\")\n",
        "    else:\n",
        "        item = li.get_text()\n",
        "        print(li.get_text())\n",
        "        # file.write(str(file_name) + '\\n')\n",
        "        file.write(str(item) + '\\n')\n",
        "        # file.write(unicodedata.normalize('NFKD', li.get_text()).encode('ascii', 'ignore') + \"\\n\")\n",
        "print(\"\\n\")\n",
        "\n"
      ],
      "execution_count": 32,
      "outputs": [
        {
          "output_type": "stream",
          "text": [
            "Easy\n",
            "4\n",
            "Prep:15mins\n",
            "Cook:5mins\n",
            "\n",
            "\n",
            "Ingredients\n",
            "100g porridge oats\n",
            "½ tsp cinnamon, plus extra to serve Cinnamon sin-ah-munA fragrant spice which comes from the inner bark of a tropical tree. When dried, it curls into… \n",
            "4 tsp demerara sugar\n",
            "450ml skimmed milk\n",
            "3 bananas, sliced Banana bah-nah-nahProbably the best known, most popular tropical fruit, their name probably derives from the… \n",
            "400g punnet strawberries, hulled and halved Strawberry straw-bare-eeOnce available in Britain for just a brief period during the summer, strawberries are now a year… \n",
            "150g pot fat-free natural yogurt\n",
            "\n",
            "\n"
          ],
          "name": "stdout"
        }
      ]
    },
    {
      "cell_type": "code",
      "metadata": {
        "id": "fBl96aYvnN-p",
        "colab_type": "code",
        "colab": {
          "base_uri": "https://localhost:8080/",
          "height": 224
        },
        "outputId": "5de271de-da61-471f-e3fa-7f030b2bc9b5"
      },
      "source": [
        "# method\n",
        "print(\"Method\")\n",
        "file.write(\"\\n\" + \"Method: \")\n",
        "method_counter = 0\n",
        "for li in soup.findAll(\"li\", class_=\"method__item\"):\n",
        "    method_counter += 1\n",
        "    method_item = li.get_text().replace(\"\\n\", \"\")\n",
        "    print(method_item)\n",
        "    file.write(str(method_item) + '\\n')\n",
        "    # file.write(unicodedata.normalize('NFKD', method_item).encode('ascii', 'ignore') + \"\\n\" + \"\\n\")\n",
        "\n",
        "# Nutrition\n",
        "file.write(\"\\n\")\n",
        "file.write(\"Nutrition: \\n\")\n",
        "nutrition = soup.find(\"ul\", class_=\"nutrition\")\n",
        "for li in nutrition.findAll(\"li\"):\n",
        "    label = li.find(\"span\", class_=\"nutrition__label\")\n",
        "    value = li.find(\"span\", class_=\"nutrition__value\")\n",
        "    print(label.get_text() + \": \" + value.get_text())\n",
        "    file.write(label.get_text() + \": \" + value.get_text() + \"\\n\")\n",
        "\n",
        "# write source\n",
        "file.write(\"\\nRecipe taken from site:\\n\")\n",
        "file.write(\"URL: \" + site)\n",
        "\n",
        "# close file\n",
        "file.close()"
      ],
      "execution_count": 33,
      "outputs": [
        {
          "output_type": "stream",
          "text": [
            "Method\n",
            "In a medium-sized saucepan, mix the oats, cinnamon, sugar, milk and half the sliced bananas. Bring to the boil, stirring occasionally. Turn down the heat and cook for 4-5 mins, stirring all the time.\n",
            "Remove and divide between 4 bowls, top with the remaining banana, strawberries, a dollop of yogurt and a sprinkle of cinnamon.\n",
            "kcal: 266\n",
            "fat: 2g\n",
            "saturates: 1g\n",
            "carbs: 53g\n",
            "sugars: 34g\n",
            "fibre: 5g\n",
            "protein: 12g\n",
            "salt: 0.24g\n"
          ],
          "name": "stdout"
        }
      ]
    },
    {
      "cell_type": "code",
      "metadata": {
        "id": "hmt1ECOFFLJg",
        "colab_type": "code",
        "colab": {
          "base_uri": "https://localhost:8080/",
          "height": 232
        },
        "outputId": "c5020b53-29e8-439f-d53c-17e8b9274e51"
      },
      "source": [
        "import json \n",
        "  \n",
        "  \n",
        "# the file to be converted to  \n",
        "# json format \n",
        "filename = '/content/Cinnamon porridge with banana & berries.txt'\n",
        "  \n",
        "# dictionary where the lines from \n",
        "# text will be stored \n",
        "dict1 = {} \n",
        "  \n",
        "# creating dictionary \n",
        "with open(filename) as fh: \n",
        "  \n",
        "    for line in fh: \n",
        "  \n",
        "        # reads each line and trims of extra the spaces  \n",
        "        # and gives only the valid words \n",
        "        command, description = line.strip().split(None, 1) \n",
        "  \n",
        "        dict1[command] = description.strip() \n",
        "  \n",
        "# creating json file \n",
        "# the JSON file is named as test1 \n",
        "out_file = open(\"test1.json\", \"w\") \n",
        "json.dump(dict1, out_file, indent = 4, sort_keys = False) \n",
        "out_file.close() "
      ],
      "execution_count": 39,
      "outputs": [
        {
          "output_type": "error",
          "ename": "ValueError",
          "evalue": "ignored",
          "traceback": [
            "\u001b[0;31m---------------------------------------------------------------------------\u001b[0m",
            "\u001b[0;31mValueError\u001b[0m                                Traceback (most recent call last)",
            "\u001b[0;32m<ipython-input-39-09adff4fe638>\u001b[0m in \u001b[0;36m<module>\u001b[0;34m()\u001b[0m\n\u001b[1;32m     17\u001b[0m         \u001b[0;31m# reads each line and trims of extra the spaces\u001b[0m\u001b[0;34m\u001b[0m\u001b[0;34m\u001b[0m\u001b[0;34m\u001b[0m\u001b[0m\n\u001b[1;32m     18\u001b[0m         \u001b[0;31m# and gives only the valid words\u001b[0m\u001b[0;34m\u001b[0m\u001b[0;34m\u001b[0m\u001b[0;34m\u001b[0m\u001b[0m\n\u001b[0;32m---> 19\u001b[0;31m         \u001b[0mcommand\u001b[0m\u001b[0;34m,\u001b[0m \u001b[0mdescription\u001b[0m \u001b[0;34m=\u001b[0m \u001b[0mline\u001b[0m\u001b[0;34m.\u001b[0m\u001b[0mstrip\u001b[0m\u001b[0;34m(\u001b[0m\u001b[0;34m)\u001b[0m\u001b[0;34m.\u001b[0m\u001b[0msplit\u001b[0m\u001b[0;34m(\u001b[0m\u001b[0;32mNone\u001b[0m\u001b[0;34m,\u001b[0m \u001b[0;36m1\u001b[0m\u001b[0;34m)\u001b[0m\u001b[0;34m\u001b[0m\u001b[0;34m\u001b[0m\u001b[0m\n\u001b[0m\u001b[1;32m     20\u001b[0m \u001b[0;34m\u001b[0m\u001b[0m\n\u001b[1;32m     21\u001b[0m         \u001b[0mdict1\u001b[0m\u001b[0;34m[\u001b[0m\u001b[0mcommand\u001b[0m\u001b[0;34m]\u001b[0m \u001b[0;34m=\u001b[0m \u001b[0mdescription\u001b[0m\u001b[0;34m.\u001b[0m\u001b[0mstrip\u001b[0m\u001b[0;34m(\u001b[0m\u001b[0;34m)\u001b[0m\u001b[0;34m\u001b[0m\u001b[0;34m\u001b[0m\u001b[0m\n",
            "\u001b[0;31mValueError\u001b[0m: not enough values to unpack (expected 2, got 1)"
          ]
        }
      ]
    },
    {
      "cell_type": "code",
      "metadata": {
        "id": "lGAxs9-VoXKK",
        "colab_type": "code",
        "colab": {}
      },
      "source": [
        "from bs4 import BeautifulSoup\n",
        "from urllib.request import Request, urlopen\n",
        "\n",
        "site= \"https://www.bbcgoodfood.com/search/recipes?query=\"\n",
        "\n",
        "hdr = {'User-Agent': 'Mozilla/5.0'}\n",
        "req = Request(site,headers=hdr)\n",
        "page = urlopen(req)\n",
        "soup = BeautifulSoup(page)\n",
        "# print(soup)"
      ],
      "execution_count": 0,
      "outputs": []
    },
    {
      "cell_type": "code",
      "metadata": {
        "id": "JKSpKzqXJK5L",
        "colab_type": "code",
        "colab": {}
      },
      "source": [
        "/html/head/script[53]/text()\n",
        "\n",
        "\n",
        "/html/body/script[12]"
      ],
      "execution_count": 0,
      "outputs": []
    },
    {
      "cell_type": "code",
      "metadata": {
        "id": "k0vrm7lQJYTs",
        "colab_type": "code",
        "colab": {}
      },
      "source": [
        "from lxml import html\n",
        "import requests\n",
        "page = requests.get('https://www.bbcgoodfood.com/recipes/seriously-rich-chocolate-cake')\n",
        "tree = html.fromstring(page.content)"
      ],
      "execution_count": 0,
      "outputs": []
    },
    {
      "cell_type": "code",
      "metadata": {
        "id": "EG7uUCHjJkeU",
        "colab_type": "code",
        "colab": {}
      },
      "source": [
        "buyers = tree.xpath('/html/head/title')"
      ],
      "execution_count": 0,
      "outputs": []
    },
    {
      "cell_type": "code",
      "metadata": {
        "id": "Yz8jGJntJrJs",
        "colab_type": "code",
        "colab": {
          "base_uri": "https://localhost:8080/",
          "height": 34
        },
        "outputId": "471c5868-26fa-4ea6-fe96-09a4fbafde6e"
      },
      "source": [
        "buyers[0]"
      ],
      "execution_count": 72,
      "outputs": [
        {
          "output_type": "execute_result",
          "data": {
            "text/plain": [
              "<Element title at 0x7f7e782b8a48>"
            ]
          },
          "metadata": {
            "tags": []
          },
          "execution_count": 72
        }
      ]
    },
    {
      "cell_type": "code",
      "metadata": {
        "id": "ItpZzRijLz1j",
        "colab_type": "code",
        "colab": {}
      },
      "source": [
        "import json\n",
        "import re\n",
        "from ast import literal_eval\n",
        "\n",
        "from bs4 import BeautifulSoup\n",
        "\n",
        "\n",
        "soup = BeautifulSoup(html, 'html.parser')\n",
        "# this one works too\n",
        "# script = soup.find('script', attrs={'type':'text/javascript'})\n",
        "script = soup.find('script', type='text/javascript')\n",
        "js: str = script.text.replace('\\n', '')\n",
        "raw_json = re.search('var spConfig=newApex.Config\\(({.*})\\);', js, flags=re.MULTILINE).group(1)\n",
        "# if `\"includeCoins\": False,` weren't in the JSON,\n",
        "# you could have used json.loads() but it fails here.\n",
        "# Yet, ast.literal_eval works fine.\n",
        "data = literal_eval(raw_json)\n",
        "labels = [opt['label'] for opt in data['attributes']['199']['options']]\n",
        "print(labels)"
      ],
      "execution_count": 0,
      "outputs": []
    }
  ]
}