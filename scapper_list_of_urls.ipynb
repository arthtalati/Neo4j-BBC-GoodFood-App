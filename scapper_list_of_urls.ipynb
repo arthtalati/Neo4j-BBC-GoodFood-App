{
  "nbformat": 4,
  "nbformat_minor": 0,
  "metadata": {
    "colab": {
      "name": "scapper_list_of_urls.ipynb",
      "provenance": [],
      "collapsed_sections": [],
      "toc_visible": true,
      "authorship_tag": "ABX9TyNYETnI3h20nk6KqZ+wAPqx",
      "include_colab_link": true
    },
    "kernelspec": {
      "name": "python3",
      "display_name": "Python 3"
    }
  },
  "cells": [
    {
      "cell_type": "markdown",
      "metadata": {
        "id": "view-in-github",
        "colab_type": "text"
      },
      "source": [
        "<a href=\"https://colab.research.google.com/github/arthtalati/Neo4j-BBC-GoodFood-App/blob/master/scapper_list_of_urls.ipynb\" target=\"_parent\"><img src=\"https://colab.research.google.com/assets/colab-badge.svg\" alt=\"Open In Colab\"/></a>"
      ]
    },
    {
      "cell_type": "markdown",
      "metadata": {
        "id": "8_CUTkiUfaQq",
        "colab_type": "text"
      },
      "source": [
        "# LIST OF URLS"
      ]
    },
    {
      "cell_type": "code",
      "metadata": {
        "id": "JVgGCx3UfaGA",
        "colab_type": "code",
        "colab": {}
      },
      "source": [
        "url_list = [\"https://www.bbcgoodfood.com/recipes/2853680/moroccan-turkey-salad\", \"https://www.bbcgoodfood.com/recipes/5065/aromatic-lamb-with-dates\", \"https://www.bbcgoodfood.com/recipes/8088/moroccan-spiced-fish-with-ginger-mash\", \"https://www.bbcgoodfood.com/recipes/2998/speedy-moroccan-meatballs\", \"https://www.bbcgoodfood.com/recipes/5967/easy-chicken-tagine\", \"https://www.bbcgoodfood.com/recipes/3095/tabbouleh\", \"https://www.bbcgoodfood.com/recipes/2296/spiced-bulghar-wheat-with-roasted-peppers\", \"https://www.bbcgoodfood.com/recipes/1499/moroccan-chickpea-soup\", \"https://www.bbcgoodfood.com/recipes/5137/moroccan-spiced-carrots\", \"https://www.bbcgoodfood.com/recipes/2041/tangy-couscous-salad\", \"https://www.bbcgoodfood.com/recipes/2640/moroccan-chard-and-lamb-panfry\", \"https://www.bbcgoodfood.com/recipes/1820/versatile-dip\", \"https://www.bbcgoodfood.com/recipes/3148686/moroccan-roast-chicken-with-apricots\", \"https://www.bbcgoodfood.com/recipes/2875669/guinea-fowl-tagine-with-chickpeas-squash-and-apric\", \"https://www.bbcgoodfood.com/recipes/2865693/moroccan-chicken-couscous-with-dates\", \"https://www.bbcgoodfood.com/recipes/2837670/minty-carrot-pistachio-and-feta-salad\", \"https://www.bbcgoodfood.com/recipes/2837666/butternut-and-harissa-houmous\", \"https://www.bbcgoodfood.com/recipes/2468641/moroccan-chicken-onepot\", \"https://www.bbcgoodfood.com/recipes/6664/spiced-tortilla\", \"https://www.bbcgoodfood.com/recipes/2138651/roast-cod-with-paella-and-saffron-olive-oil\", \"https://www.bbcgoodfood.com/recipes/2459641/churros-with-chocolate-dipping-sauce\", \"https://www.bbcgoodfood.com/recipes/2534659/panfried-hake-white-bean-and-chorizo-broth\", \"https://www.bbcgoodfood.com/recipes/1415676/clam-chorizo-and-white-bean-stew\", \"https://www.bbcgoodfood.com/recipes/9974/spanish-chicken-pie\", \"https://www.bbcgoodfood.com/recipes/1508648/chorizo-and-softboiled-egg-salad\", \"https://www.bbcgoodfood.com/recipes/2040646/chorizo-potato-and-cheese-omelette\", \"https://www.bbcgoodfood.com/recipes/1396636/gazpacho\", \"https://www.bbcgoodfood.com/recipes/8271/spanish-fig-and-almond-balls\", \"https://www.bbcgoodfood.com/recipes/10775/chickpea-chorizo-and-spinach-stew\", \"https://www.bbcgoodfood.com/recipes/4021/easiest-ever-paella\", \"https://www.bbcgoodfood.com/recipes/2628/chorizo-and-chickpea-soup\", \"https://www.bbcgoodfood.com/recipes/4501/quick-gazpacho-\", \"https://www.bbcgoodfood.com/recipes/1182/prawns-with-romesco-sauce\", \"https://www.bbcgoodfood.com/recipes/1147/spaghetti-with-spanish-flavours\", \"https://www.bbcgoodfood.com/recipes/5393/crispy-squid-with-capers\", \"https://www.bbcgoodfood.com/recipes/5322/garlicky-prawns-with-sherry\", \"https://www.bbcgoodfood.com/recipes/420625/spanish-beans-with-chicken-and-chorizo\", \"https://www.bbcgoodfood.com/recipes/1916646/tom-yum-hot-and-sour-soup-with-prawns\", \"https://www.bbcgoodfood.com/recipes/next-level-pad-thai\", \"https://www.bbcgoodfood.com/recipes/2838670/thai-pork-and-peanut-curry\", \"https://www.bbcgoodfood.com/recipes/2865686/thai-fried-rice-with-prawns-and-peas\", \"https://www.bbcgoodfood.com/recipes/468653/thai-prawn-ginger-and-spring-onion-stirfry\", \"https://www.bbcgoodfood.com/recipes/559630/thai-shredded-chicken-and-runner-bean-salad\", \"https://www.bbcgoodfood.com/recipes/1424/ken-homs-stirfried-chicken-with-chillies-and-basil\", \"https://www.bbcgoodfood.com/recipes/4753/thai-minced-chicken-salad\", \"https://www.bbcgoodfood.com/recipes/1286/fragrant-thai-prawns\", \"https://www.bbcgoodfood.com/recipes/1541/thai-rice-noodle-salad\", \"https://www.bbcgoodfood.com/recipes/4498/red-curry-chicken-kebabs-\", \"https://www.bbcgoodfood.com/recipes/7418/easy-thai-prawn-curry\", \"https://www.bbcgoodfood.com/recipes/1883/thai-chicken-cakes-with-sweet-chilli-sauce\", \"https://www.bbcgoodfood.com/recipes/1166637/thai-spinach-bites\", \"https://www.bbcgoodfood.com/recipes/1120676/thai-coconut-and-veg-broth\", \"https://www.bbcgoodfood.com/recipes/1112636/spicy-thai-prawn-noodles\", \"https://www.bbcgoodfood.com/recipes/775669/thai-pumpkin-soup\", \"https://www.bbcgoodfood.com/recipes/764635/superfast-pad-thai\", \"https://www.bbcgoodfood.com/recipes/291607/phat-thai\", \"https://www.bbcgoodfood.com/recipes/3158681/spiced-lamb-and-feta-gozleme-with-special-tomato-s\", \"https://www.bbcgoodfood.com/recipes/681666/imam-bayildi-with-bbq-lamb-and-tzatziki\", \"https://www.bbcgoodfood.com/recipes/7736/diy-kofta-burgers\", \"https://www.bbcgoodfood.com/recipes/2320650/hot-cumin-lamb-wrap-with-crunchy-slaw-and-spicy-ma\", \"https://www.bbcgoodfood.com/recipes/634633/chicken-wings-with-cumin-lemon-and-garlic\", \"https://www.bbcgoodfood.com/recipes/2837674/rose-cream-and-raspberry-jellies\", \"https://www.bbcgoodfood.com/recipes/2138653/smoky-chicken-skewers\", \"https://www.bbcgoodfood.com/recipes/2360649/chilli-ginger-lamb-chops\", \"https://www.bbcgoodfood.com/recipes/1108650/almond-and-honey-pastries-with-orange-cream\", \"https://www.bbcgoodfood.com/recipes/5993/aubergine-couscous-salad\", \"https://www.bbcgoodfood.com/recipes/144606/minty-lamb-flatbreads\", \"https://www.bbcgoodfood.com/recipes/164606/roasted-chicken-with-creamy-walnut-sauce\", \"https://www.bbcgoodfood.com/recipes/13096/baked-aubergine-stuffed-with-roast-pumpkin-feta-an\", \"https://www.bbcgoodfood.com/recipes/4410/turkishstyle-lamb\", \"https://www.bbcgoodfood.com/recipes/1323/walnut-date-and-honey-cake\", \"https://www.bbcgoodfood.com/recipes/13147/grilled-lamb-with-wintry-rice-salad\", \"https://www.bbcgoodfood.com/recipes/1758649/hot-and-sour-fish-soup\", \"https://www.bbcgoodfood.com/recipes/vietnamese-chicken-baguettes-bhan-mi\", \"https://www.bbcgoodfood.com/recipes/67613/vietnamese-lamb-shanks-with-sweet-potatoes\", \"https://www.bbcgoodfood.com/recipes/2411641/vietnamese-chicken-salad\", \"https://www.bbcgoodfood.com/recipes/1162659/oriental-duck-salad\", \"https://www.bbcgoodfood.com/recipes/1572650/salmon-noodle-soup\", \"https://www.bbcgoodfood.com/recipes/8823/vietnamese-veggie-hotpot\", \"https://www.bbcgoodfood.com/recipes/1413640/vietnamese-seafood-salad\", \"https://www.bbcgoodfood.com/recipes/3161707/vietnamese-prawn-summer-rolls\", \"https://www.bbcgoodfood.com/recipes/vietnamese-caramel-trout\", \"https://www.bbcgoodfood.com/recipes/1167650/bang-bang-prawn-salad\", \"https://www.bbcgoodfood.com/recipes/531630/vietnamese-prawn-salad\", \"https://www.bbcgoodfood.com/recipes/12142/tofu-greens-and-cashew-stirfry\", \"https://www.bbcgoodfood.com/recipes/8049/prawn-spring-roll-wraps\", \"https://www.bbcgoodfood.com/recipes/1623/vietnamese-veg-parcels\", \"https://www.bbcgoodfood.com/recipes/3362/barbecue-pork-buns\", \"https://www.bbcgoodfood.com/recipes/1553638/vietnamese-prawn-and-noodle-salad-with-crispy-shal\", \"https://www.bbcgoodfood.com/recipes/5095/asian-noodle-and-turkey-soup\", \"https://www.bbcgoodfood.com/recipes/7748/crunchy-prawn-noodle-salad\", \"https://www.bbcgoodfood.com/recipes/2271/noodle-bowl-salad\", \"https://www.bbcgoodfood.com/recipes/12753/asian-prawn-and-pineapple-salad\", \"https://www.bbcgoodfood.com/recipes/11261/asian-chicken-salad\", \"https://www.bbcgoodfood.com/recipes/237611/crunchy-asian-cabbage-and-prawn-salad\", \"https://www.bbcgoodfood.com/recipes/buffalo-chicken\", \"https://www.bbcgoodfood.com/recipes/texas-bbq-medley\", \"https://www.bbcgoodfood.com/recipes/smores-dip\", \"https://www.bbcgoodfood.com/recipes/tomato-avocado-corn-salad-migas-buttermilk-dressing\", \"https://www.bbcgoodfood.com/recipes/sticky-bourbon-bbq-wings-blue-cheese-dip\", \"https://www.bbcgoodfood.com/recipes/spicy-pies-sweet-potato-mash\", \"https://www.bbcgoodfood.com/recipes/cheesesteak-hotdogs\", \"https://www.bbcgoodfood.com/recipes/creamed-corn\", \"https://www.bbcgoodfood.com/recipes/american-pancakes\", \"https://www.bbcgoodfood.com/recipes/baby-back-ribs-carolina-baste\", \"https://www.bbcgoodfood.com/recipes/choc-chip-pecan-pie\", \"https://www.bbcgoodfood.com/recipes/american-burnt-onion-dip\", \"https://www.bbcgoodfood.com/recipes/smoky-braised-brisket\", \"https://www.bbcgoodfood.com/recipes/2248636/stickiestever-bbq-ribs-with-chive-dip\", \"https://www.bbcgoodfood.com/recipes/diner-sloppy-joes\", \"https://www.bbcgoodfood.com/recipes/safe-eat-uncooked-cookie-dough\", \"https://www.bbcgoodfood.com/recipes/all-american-t-bone\", \"https://www.bbcgoodfood.com/recipes/emmas-almost-famous-bourbon-black-cherry-bacon-brownies\", \"https://www.bbcgoodfood.com/recipes/smoky-pork-boston-beans-one-pot\", \"https://www.bbcgoodfood.com/recipes/1263663/john-torodes-big-burger\", \"https://www.bbcgoodfood.com/recipes/2869/new-york-cheesecake\", \"https://www.bbcgoodfood.com/recipes/bbq-pulled-pork\", \"https://www.bbcgoodfood.com/recipes/peanut-butter-jelly-cookies\", \"https://www.bbcgoodfood.com/recipes/2248635/mini-pork-pies-with-piccalilli-\", \"https://www.bbcgoodfood.com/recipes/1758645/herby-toad-in-the-hole\", \"https://www.bbcgoodfood.com/recipes/1958635/crispy-topped-cumberland-pie\", \"https://www.bbcgoodfood.com/recipes/2219676/cherry-and-almond-tarts\", \"https://www.bbcgoodfood.com/recipes/2198657/classic-summer-pudding\", \"https://www.bbcgoodfood.com/recipes/2138667/roast-beef-with-caramelised-onion-gravy\", \"https://www.bbcgoodfood.com/recipes/2063668/roast-lamb-with-spring-herb-crumbs\", \"https://www.bbcgoodfood.com/recipes/2138671/nofail-yorkies\", \"https://www.bbcgoodfood.com/recipes/2063673/st-clements-pie\", \"https://www.bbcgoodfood.com/recipes/2220651/scampi-with-tartare-sauce\", \"https://www.bbcgoodfood.com/recipes/1414645/scotch-eggs\", \"https://www.bbcgoodfood.com/recipes/2063654/rhubarb-pear-and-hazelnut-crumbles\", \"https://www.bbcgoodfood.com/recipes/1826707/marzipan-eccles-tarts\", \"https://www.bbcgoodfood.com/recipes/13015/the-ultimate-makeover-steak-and-kidney-pie\", \"https://www.bbcgoodfood.com/recipes/2848/british-pork-cassoulet\", \"https://www.bbcgoodfood.com/recipes/9644/nofuss-shepherds-pie\", \"https://www.bbcgoodfood.com/recipes/532634/grannys-victoria-sponge\", \"https://www.bbcgoodfood.com/recipes/3439/spiced-parsnip-shepherds-pies\", \"https://www.bbcgoodfood.com/recipes/rum-punch\", \"https://www.bbcgoodfood.com/recipes/caribbean-beef-patties\", \"https://www.bbcgoodfood.com/recipes/sticky-jerk-salmon-mango-slaw\", \"https://www.bbcgoodfood.com/recipes/2369635/jerk-chicken-with-rice-and-peas\", \"https://www.bbcgoodfood.com/recipes/1959654/jerk-beefburger-with-pineapple-relish-and-chips\", \"https://www.bbcgoodfood.com/recipes/235607/spiced-glazed-pineapple-with-cinnamon-fromage-frai\", \"https://www.bbcgoodfood.com/recipes/1413635/jerk-chicken-kebabs-with-mango-salsa\", \"https://www.bbcgoodfood.com/recipes/11745/reggae-reggae-nachos\", \"https://www.bbcgoodfood.com/recipes/11741/simple-coconut-and-bean-soup-\", \"https://www.bbcgoodfood.com/recipes/2022/natalies-trinidadian-fish-stew\", \"https://www.bbcgoodfood.com/recipes/1857/hot-and-spicy-sweet-potatoes\", \"https://www.bbcgoodfood.com/recipes/1856/pippas-perfect-plantains\", \"https://www.bbcgoodfood.com/recipes/1854/sizzling-spare-ribs-with-bbq-sauce\", \"https://www.bbcgoodfood.com/recipes/1855/exotic-avocado-salad\", \"https://www.bbcgoodfood.com/recipes/jerk-pulled-pork-banana-salsa\", \"https://www.bbcgoodfood.com/recipes/3161688/sticky-jerk-and-brown-sugar-ribs-with-pineapple-ri\", \"https://www.bbcgoodfood.com/recipes/3161679/jerk-spice-mix\", \"https://www.bbcgoodfood.com/recipes/2982679/mango-chicken-bean-and-rice-bake\", \"https://www.bbcgoodfood.com/recipes/chinese-beef-aubergine-hotpot\", \"https://www.bbcgoodfood.com/recipes/egg-fried-rice\", \"https://www.bbcgoodfood.com/recipes/sichuan-chicken-wings\", \"https://www.bbcgoodfood.com/recipes/steamed-sea-bass\", \"https://www.bbcgoodfood.com/recipes/asian-greens\", \"https://www.bbcgoodfood.com/recipes/spicy-sichuan-style-prawns\", \"https://www.bbcgoodfood.com/recipes/chow-mein\", \"https://www.bbcgoodfood.com/recipes/cashew-chicken\", \"https://www.bbcgoodfood.com/recipes/stir-fried-beef-oyster-sauce\", \"https://www.bbcgoodfood.com/recipes/2884665/gunpowder-chicken-with-dried-red-chillies-and-pean\", \"https://www.bbcgoodfood.com/recipes/3366/sea-bass-with-sizzled-ginger-chilli-and-spring-oni\", \"https://www.bbcgoodfood.com/recipes/2852672/crispy-chilli-beef\", \"https://www.bbcgoodfood.com/recipes/3207/sticky-chinese-wings-and-cucumber\", \"https://www.bbcgoodfood.com/recipes/5589/chinese-steamed-bass-with-cabbage\", \"https://www.bbcgoodfood.com/recipes/5138/chinesestyle-kale\", \"https://www.bbcgoodfood.com/recipes/2248/chinesestyle-wintery-rolls\", \"https://www.bbcgoodfood.com/recipes/2830/sweet-and-sour-chicken\", \"https://www.bbcgoodfood.com/recipes/3239/oriental-egg-fried-rice\", \"https://www.bbcgoodfood.com/recipes/2274/stirfried-greens-with-oyster-sauce\", \"https://www.bbcgoodfood.com/recipes/2118/steamed-pork-and-prawn-wontons\", \"https://www.bbcgoodfood.com/recipes/blood-orange-dark-chocolate-madeleines\", \"https://www.bbcgoodfood.com/recipes/steak-hache-pommes-frites-cheats-bearnaise-sauce\", \"https://www.bbcgoodfood.com/recipes/sauteed-potatoes-bacon-lardons-persillade\", \"https://www.bbcgoodfood.com/recipes/chinon-apple-tarts\", \"https://www.bbcgoodfood.com/recipes/summer-pistou\", \"https://www.bbcgoodfood.com/recipes/lighter-cassoulet\", \"https://www.bbcgoodfood.com/recipes/honey-roast-confit-duck\", \"https://www.bbcgoodfood.com/recipes/453622/apricot-french-toast\", \"https://www.bbcgoodfood.com/recipes/9079/the-ultimate-makeover-french-onion-soup\", \"https://www.bbcgoodfood.com/recipes/3028701/threecheese-souffls\", \"https://www.bbcgoodfood.com/recipes/518641/frenchstyle-chicken-with-peas-and-bacon\", \"https://www.bbcgoodfood.com/recipes/73609/cheesy-french-toast-with-ham-and-grilled-vine-toma\", \"https://www.bbcgoodfood.com/recipes/2338/chicken-liver-and-pineau-pt\", \"https://www.bbcgoodfood.com/recipes/4778/pear-tarte-tatin\", \"https://www.bbcgoodfood.com/recipes/2540/white-chocolate-crme-brle\", \"https://www.bbcgoodfood.com/recipes/2438/basic-hollandaise\", \"https://www.bbcgoodfood.com/recipes/532640/summer-fish-stew-with-rouille\", \"https://www.bbcgoodfood.com/recipes/fennel-dauphinoise\", \"https://www.bbcgoodfood.com/recipes/lamb-kleftiko\", \"https://www.bbcgoodfood.com/recipes/artichoke-aubergine-lamb-moussaka\", \"https://www.bbcgoodfood.com/recipes/greek-style-roast-fish\", \"https://www.bbcgoodfood.com/recipes/749727/greek-lamb-with-potatoes-and-olives\", \"https://www.bbcgoodfood.com/recipes/3145676/lamb-burgers-with-tzatziki\", \"https://www.bbcgoodfood.com/recipes/2196639/griddled-chicken-with-quinoa-greek-salad\", \"https://www.bbcgoodfood.com/recipes/2196639/griddled-chicken-with-quinoa-greek-salad\", \"https://www.bbcgoodfood.com/recipes/2852670/greek-lamb-and-macaroni-bake\", \"https://www.bbcgoodfood.com/recipes/2536649/greek-beans-with-seared-lamb\", \"https://www.bbcgoodfood.com/recipes/2358665/marinated-feta-in-thyme-and-chilli-oil\", \"https://www.bbcgoodfood.com/recipes/2220672/barbecued-greek-lamb-with-tzatziki\", \"https://www.bbcgoodfood.com/recipes/2220665/lamb-kebabs-and-greek-salad\", \"https://www.bbcgoodfood.com/recipes/12229/gigantes-plaki\", \"https://www.bbcgoodfood.com/recipes/5892/greek-roast-lamb\", \"https://www.bbcgoodfood.com/recipes/2317/greek-pasta-salad\", \"https://www.bbcgoodfood.com/recipes/3301/greek-island-salad-with-chicken-and-avocado\", \"https://www.bbcgoodfood.com/recipes/1120675/greek-lamb-tray-bake\", \"https://www.bbcgoodfood.com/recipes/1938/greek-salad-omelette-\", \"https://www.bbcgoodfood.com/recipes/711651/honey-yogurt-cheesecake\", \"https://www.bbcgoodfood.com/recipes/3027/mustmake-moussaka\", \"https://www.bbcgoodfood.com/recipes/644645/greekstyle-lamb-with-lemon-and-thyme\", \"https://www.bbcgoodfood.com/recipes/12228/stuffed-tomatoes-with-lamb-mince-dill-and-rice\", \"https://www.bbcgoodfood.com/recipes/2610641/creamy-beetroot-curry\", \"https://www.bbcgoodfood.com/recipes/2252645/spiced-roast-side-of-salmon\", \"https://www.bbcgoodfood.com/recipes/2248668/coronation-chicken-naans-with-indian-slaw\", \"https://www.bbcgoodfood.com/recipes/2248651/fried-fish-and-tomato-curry\", \"https://www.bbcgoodfood.com/recipes/2252643/new-potato-and-tamarind-salad\", \"https://www.bbcgoodfood.com/recipes/2220652/cardamom-butter-chicken\", \"https://www.bbcgoodfood.com/recipes/2534661/goan-prawn-and-coconut-curry-with-cumin-rice\", \"https://www.bbcgoodfood.com/recipes/2141640/chicken-tikka-with-spiced-rice\", \"https://www.bbcgoodfood.com/recipes/2360681/curry-coconut-fish-parcels\", \"https://www.bbcgoodfood.com/recipes/2491649/proper-chicken-curry\", \"https://www.bbcgoodfood.com/recipes/2150645/fishermans-curry\", \"https://www.bbcgoodfood.com/recipes/2150644/sambar\", \"https://www.bbcgoodfood.com/recipes/2150647/baked-country-chicken\", \"https://www.bbcgoodfood.com/recipes/2150642/keralan-vegetable-curry\", \"https://www.bbcgoodfood.com/recipes/1993658/homestyle-chicken-curry\", \"https://www.bbcgoodfood.com/recipes/1884/creamy-masala-chicken\", \"https://www.bbcgoodfood.com/recipes/cannoli\", \"https://www.bbcgoodfood.com/recipes/2534648/braised-rabbit-pappardelle\", \"https://www.bbcgoodfood.com/recipes/2534656/affogato-al-caff-vanilla-ice-cream-and-coffee\", \"https://www.bbcgoodfood.com/recipes/2411657/fig-and-prosciutto-pizzettas\", \"https://www.bbcgoodfood.com/recipes/2248649/aubergine-rolls-with-spinach-and-ricotta\", \"https://www.bbcgoodfood.com/recipes/gnocchi-parsley-butter-samphire\", \"https://www.bbcgoodfood.com/recipes/2141638/apricot-and-ratafia-sponge-cake\", \"https://www.bbcgoodfood.com/recipes/2053651/chocolate-pistachio-and-nougat-semifreddo\", \"https://www.bbcgoodfood.com/recipes/3494/roast-red-wine-lamb-with-italian-beans\", \"https://www.bbcgoodfood.com/recipes/taleggio-tart-walnut-pastry\", \"https://www.bbcgoodfood.com/recipes/2411658/plum-and-amaretti-semifreddo\", \"https://www.bbcgoodfood.com/recipes/nettle-gnudi-wild-pesto\", \"https://www.bbcgoodfood.com/recipes/wild-garlic-butter-music-paper-bread\", \"https://www.bbcgoodfood.com/recipes/2196649/lamb-tagliata-with-watercress-and-tomatoes\", \"https://www.bbcgoodfood.com/recipes/new-potato-rosemary-focaccia\", \"https://www.bbcgoodfood.com/recipes/artichoke-olive-calzones\", \"https://www.bbcgoodfood.com/recipes/12235/blackberry-zabaglione\", \"https://www.bbcgoodfood.com/recipes/pappardelle-rabbit-chestnut-ragu\", \"https://www.bbcgoodfood.com/recipes/torta-del-nonna\", \"https://www.bbcgoodfood.com/recipes/acquacotta\", \"https://www.bbcgoodfood.com/recipes/1094667/italian-vegetable-soup\", \"https://www.bbcgoodfood.com/recipes/japanese-style-bento-box\", \"https://www.bbcgoodfood.com/recipes/japanese-rice-gohan\", \"https://www.bbcgoodfood.com/recipes/tonkatsu-pork\", \"https://www.bbcgoodfood.com/recipes/chuka-fu-shredded-cabbage\", \"https://www.bbcgoodfood.com/recipes/quick-sushi-bowl\", \"https://www.bbcgoodfood.com/recipes/japanese-katsudon\", \"https://www.bbcgoodfood.com/recipes/yakitori-chicken\", \"https://www.bbcgoodfood.com/recipes/goma-ae-japanese-greens\", \"https://www.bbcgoodfood.com/recipes/644644/miso-steak\", \"https://www.bbcgoodfood.com/recipes/rice-quinoa-prawn-sushi-bowl\", \"https://www.bbcgoodfood.com/recipes/fluffy-japanese-pancakes\", \"https://www.bbcgoodfood.com/recipes/2875679/katsu-pork-with-sticky-rice\", \"https://www.bbcgoodfood.com/recipes/japanese-okonomiyaki\", \"https://www.bbcgoodfood.com/recipes/miso-caramel-chicken-wings\", \"https://www.bbcgoodfood.com/recipes/sushi-burrito\", \"https://www.bbcgoodfood.com/recipes/chicken-katsu-curry-burger\", \"https://www.bbcgoodfood.com/recipes/japanese-style-brown-rice\", \"https://www.bbcgoodfood.com/recipes/spice-crusted-tofu-kumquat-radish-salad\", \"https://www.bbcgoodfood.com/recipes/seared-sirloin-japanese-dips\", \"https://www.bbcgoodfood.com/recipes/cheats-chicken-ramen\", \"https://www.bbcgoodfood.com/recipes/cheats-katsu-curry\", \"https://www.bbcgoodfood.com/recipes/crispy-japanese-style-chicken-burgers\", \"https://www.bbcgoodfood.com/recipes/2249640/mediterranean-potato-salad\", \"https://www.bbcgoodfood.com/recipes/2248640/courgette-and-quinoastuffed-peppers\", \"https://www.bbcgoodfood.com/recipes/2196641/bacon-and-brie-omelette-wedges-with-summer-salad\", \"https://www.bbcgoodfood.com/recipes/2195654/chorizo-pilaf\", \"https://www.bbcgoodfood.com/recipes/2220656/broad-bean-and-feta-cheese-toasts\", \"https://www.bbcgoodfood.com/recipes/2195651/pancettawrapped-fish-with-lemony-potatoes\", \"https://www.bbcgoodfood.com/recipes/2303678/polenta-roasted-vegetables-and-peppered-parmesan-c\", \"https://www.bbcgoodfood.com/recipes/2040649/spinach-with-chilli-and-lemon-crumbs\", \"https://www.bbcgoodfood.com/recipes/1585636/mussels-with-tomatoes-and-chilli\", \"https://www.bbcgoodfood.com/recipes/12355/roasted-peppers-with-tomatoes-and-anchovies\", \"https://www.bbcgoodfood.com/recipes/7415/mediterranean-slices\", \"https://www.bbcgoodfood.com/recipes/4404/easy-stuffed-peppers\", \"https://www.bbcgoodfood.com/recipes/4551/crunchy-baked-mussels\", \"https://www.bbcgoodfood.com/recipes/aioli\", \"https://www.bbcgoodfood.com/recipes/11600/watermelon-and-feta-salad-with-crispbread\", \"https://www.bbcgoodfood.com/recipes/11025/crispy-squid-with-caponata\", \"https://www.bbcgoodfood.com/recipes/1867/mediterranean-scones\", \"https://www.bbcgoodfood.com/recipes/7996/mediterranean-feta-salad-with-pomegranate-dressing\", \"https://www.bbcgoodfood.com/recipes/huevos-rancheros\", \"https://www.bbcgoodfood.com/recipes/mexican-penne-avocado\", \"https://www.bbcgoodfood.com/recipes/easy-chicken-fajitas\", \"https://www.bbcgoodfood.com/recipes/mexican-tomato-rice\", \"https://www.bbcgoodfood.com/recipes/black-eye-bean-mole-salsa\", \"https://www.bbcgoodfood.com/recipes/2121655/smoky-pork-and-black-bean-tacos\", \"https://www.bbcgoodfood.com/recipes/chargrilled-vegetable-tacos-smoky-salsa\", \"https://www.bbcgoodfood.com/recipes/mexican-corn-salsa\", \"https://www.bbcgoodfood.com/recipes/breakfast-burrito\", \"https://www.bbcgoodfood.com/recipes/725645/refried-bean-quesadillas\", \"https://www.bbcgoodfood.com/recipes/fish-tacos-baja-sauce\", \"https://www.bbcgoodfood.com/recipes/curtido\", \"https://www.bbcgoodfood.com/recipes/burrito-bowl-chipotle-black-beans\", \"https://www.bbcgoodfood.com/recipes/belly-pork-pineapple-burritos\", \"https://www.bbcgoodfood.com/recipes/1940686/mexican-chicken-stew-with-quinoa-and-beans\", \"https://www.bbcgoodfood.com/recipes/brazil-nut-burritos\", \"https://www.bbcgoodfood.com/recipes/mexican-egg-roll\", \"https://www.bbcgoodfood.com/recipes/236609/black-bean-chilli\", \"https://www.bbcgoodfood.com/recipes/tomatillo-salsa\", \"https://www.bbcgoodfood.com/recipes/michelada\", \"https://www.bbcgoodfood.com/recipes/johns-chicken-one-pot\", \"https://www.bbcgoodfood.com/recipes/1841635/cobb-salad-with-buttermilk-ranch-dressing\", \"https://www.bbcgoodfood.com/recipes/fully-loaded-cajun-chicken-burgers\", \"https://www.bbcgoodfood.com/recipes/beef-ale-parsnip-pudding\", \"https://www.bbcgoodfood.com/recipes/easy-treacle-sponge\", \"https://www.bbcgoodfood.com/recipes/lemon-thyme-butter-basted-roast-chicken-gravy\", \"https://www.bbcgoodfood.com/recipes/split-pea-green-pea-smoked-ham-soup\", \"https://www.bbcgoodfood.com/recipes/chicken-mushroom-puff-pie\", \"https://www.bbcgoodfood.com/recipes/fish-pie-four-steps\", \"https://www.bbcgoodfood.com/recipes/beef-wellington\", \"https://www.bbcgoodfood.com/recipes/jerk-sweet-potato-black-bean-curry\", \"https://www.bbcgoodfood.com/recipes/goat-curry\", \"https://www.bbcgoodfood.com/recipes/tropical-breakfast-smoothie\", \"https://www.bbcgoodfood.com/recipes/jerk-pork-rice-beans\", \"https://www.bbcgoodfood.com/recipes/salt-pepper-prawns\", \"https://www.bbcgoodfood.com/recipes/crisp-chinese-pork\", \"https://www.bbcgoodfood.com/recipes/hoisin-wraps\", \"https://www.bbcgoodfood.com/recipes/special-fried-rice-prawns-chorizo\", \"https://www.bbcgoodfood.com/recipes/boulangere-potatoes\", \"https://www.bbcgoodfood.com/recipes/ultimate-french-omelette\", \"https://www.bbcgoodfood.com/recipes/tomato-caramelised-onion-tart-tatin\", \"https://www.bbcgoodfood.com/recipes/raymond-blancs-cassoulet\", \"https://www.bbcgoodfood.com/recipes/hot-chocolate-souffles-chocolate-cream-sauce\", \"https://www.bbcgoodfood.com/recipes/greek-lamb-orzo\", \"https://www.bbcgoodfood.com/recipes/crispy-greek-style-pie\", \"https://www.bbcgoodfood.com/recipes/railway-lamb-curry\", \"https://www.bbcgoodfood.com/recipes/healthier-chicken-balti\", \"https://www.bbcgoodfood.com/recipes/bombay-potatoes\", \"https://www.bbcgoodfood.com/recipes/bengali-scotch-eggs\", \"https://www.bbcgoodfood.com/recipes/channa-bhatura\", \"https://www.bbcgoodfood.com/recipes/malabar-prawns\", \"https://www.bbcgoodfood.com/recipes/family-meals-mild-chicken-curry\", \"https://www.bbcgoodfood.com/recipes/squash-cabbage-sabzi\", \"https://www.bbcgoodfood.com/recipes/tandoori-roast-chicken\", \"https://www.bbcgoodfood.com/recipes/pizza-margherita-4-easy-steps\", \"https://www.bbcgoodfood.com/recipes/arancini-balls\", \"https://www.bbcgoodfood.com/recipes/italian-stuffed-chicken\", \"https://www.bbcgoodfood.com/recipes/italian-butter-beans\", \"https://www.bbcgoodfood.com/recipes/japanese-ramen-noodle-soup\", \"https://www.bbcgoodfood.com/recipes/veggie-okonomiyaki\", \"https://www.bbcgoodfood.com/recipes/smoked-salmon-avocado-sushi\", \"https://www.bbcgoodfood.com/recipes/herbed-lamb-cutlets-roasted-vegetables\", \"https://www.bbcgoodfood.com/recipes/caponata\", \"https://www.bbcgoodfood.com/recipes/mediterranean-fig-mozzarella-salad\", \"https://www.bbcgoodfood.com/recipes/mediterranean-chicken-tray-bake\", \"https://www.bbcgoodfood.com/recipes/mediterranean-chicken-roasted-vegetables\", \"https://www.bbcgoodfood.com/recipes/spiced-baked-figs-ginger-mascarpone\", \"https://www.bbcgoodfood.com/recipes/black-bean-tostadas-avocado-salsa\", \"https://www.bbcgoodfood.com/recipes/bean-enchiladas\", \"https://www.bbcgoodfood.com/recipes/mexican-bean-burgers-lime-yogurt-salsa\", \"https://www.bbcgoodfood.com/recipes/2253642/grilled-salmon-tacos-with-chipotle-lime-yogurt\", \"https://www.bbcgoodfood.com/recipes/moroccan-meatball-tagine-lemon-olives\", \"https://www.bbcgoodfood.com/recipes/pumpkin-cranberry-red-onion-tagine\", \"https://www.bbcgoodfood.com/recipes/moroccan-spiced-pie\", \"https://www.bbcgoodfood.com/recipes/moroccan-spiced-cauliflower-almond-soup\", \"https://www.bbcgoodfood.com/recipes/moroccan-kofte-spicy-tomato-sauce\", \"https://www.bbcgoodfood.com/recipes/spicy-moroccan-rice\", \"https://www.bbcgoodfood.com/recipes/padron-peppers\", \"https://www.bbcgoodfood.com/recipes/spanish-sardines-toast\", \"https://www.bbcgoodfood.com/recipes/chicken-chorizo-rice-pot\", \"https://www.bbcgoodfood.com/recipes/spanish-chicken\", \"https://www.bbcgoodfood.com/recipes/patatas-bravas-0\", \"https://www.bbcgoodfood.com/recipes/spanish-tomato-bread-jamon-serrano\", \"https://www.bbcgoodfood.com/recipes/easy-pad-thai\", \"https://www.bbcgoodfood.com/recipes/thai-green-chicken-curry-0\", \"https://www.bbcgoodfood.com/recipes/thai-chicken-and-sweet-potato-soup\", \"https://www.bbcgoodfood.com/recipes/thai-beef-stir-fry\", \"https://www.bbcgoodfood.com/recipes/thai-style-steamed-fish\", \"https://www.bbcgoodfood.com/recipes/ultimate-makeover-thai-green-chicken-curry\", \"https://www.bbcgoodfood.com/recipes/turkish-one-pan-eggs-peppers-menemen\", \"https://www.bbcgoodfood.com/recipes/grilled-aubergines-spicy-chickpeas-walnut-sauce\", \"https://www.bbcgoodfood.com/recipes/smoked-aubergine-puree\", \"https://www.bbcgoodfood.com/recipes/slow-roast-lamb-cinnamon-fennel-citrus\", \"https://www.bbcgoodfood.com/recipes/turkish-lamb-pilau\", \"https://www.bbcgoodfood.com/recipes/spicy-falafels\", \"https://www.bbcgoodfood.com/recipes/easy-hummus-recipe\", \"https://www.bbcgoodfood.com/recipes/griddled-flatbreads\", \"https://www.bbcgoodfood.com/recipes/salt-pepper-squid\", \"https://www.bbcgoodfood.com/recipes/tangy-carrot-red-cabbage-onion-salad\"]"
      ],
      "execution_count": null,
      "outputs": []
    },
    {
      "cell_type": "code",
      "metadata": {
        "id": "--VB_w6K-GPw",
        "colab_type": "code",
        "colab": {}
      },
      "source": [
        "url_list.reverse()"
      ],
      "execution_count": null,
      "outputs": []
    },
    {
      "cell_type": "code",
      "metadata": {
        "id": "GcR0eS1f-LNw",
        "colab_type": "code",
        "colab": {
          "base_uri": "https://localhost:8080/",
          "height": 1000
        },
        "outputId": "dd4eb3c2-2369-4f67-93e9-f68c3860a11c"
      },
      "source": [
        "url_list"
      ],
      "execution_count": null,
      "outputs": [
        {
          "output_type": "execute_result",
          "data": {
            "text/plain": [
              "['https://www.bbcgoodfood.com/recipes/tangy-carrot-red-cabbage-onion-salad',\n",
              " 'https://www.bbcgoodfood.com/recipes/salt-pepper-squid',\n",
              " 'https://www.bbcgoodfood.com/recipes/griddled-flatbreads',\n",
              " 'https://www.bbcgoodfood.com/recipes/easy-hummus-recipe',\n",
              " 'https://www.bbcgoodfood.com/recipes/spicy-falafels',\n",
              " 'https://www.bbcgoodfood.com/recipes/turkish-lamb-pilau',\n",
              " 'https://www.bbcgoodfood.com/recipes/slow-roast-lamb-cinnamon-fennel-citrus',\n",
              " 'https://www.bbcgoodfood.com/recipes/smoked-aubergine-puree',\n",
              " 'https://www.bbcgoodfood.com/recipes/grilled-aubergines-spicy-chickpeas-walnut-sauce',\n",
              " 'https://www.bbcgoodfood.com/recipes/turkish-one-pan-eggs-peppers-menemen',\n",
              " 'https://www.bbcgoodfood.com/recipes/ultimate-makeover-thai-green-chicken-curry',\n",
              " 'https://www.bbcgoodfood.com/recipes/thai-style-steamed-fish',\n",
              " 'https://www.bbcgoodfood.com/recipes/thai-beef-stir-fry',\n",
              " 'https://www.bbcgoodfood.com/recipes/thai-chicken-and-sweet-potato-soup',\n",
              " 'https://www.bbcgoodfood.com/recipes/thai-green-chicken-curry-0',\n",
              " 'https://www.bbcgoodfood.com/recipes/easy-pad-thai',\n",
              " 'https://www.bbcgoodfood.com/recipes/spanish-tomato-bread-jamon-serrano',\n",
              " 'https://www.bbcgoodfood.com/recipes/patatas-bravas-0',\n",
              " 'https://www.bbcgoodfood.com/recipes/spanish-chicken',\n",
              " 'https://www.bbcgoodfood.com/recipes/chicken-chorizo-rice-pot',\n",
              " 'https://www.bbcgoodfood.com/recipes/spanish-sardines-toast',\n",
              " 'https://www.bbcgoodfood.com/recipes/padron-peppers',\n",
              " 'https://www.bbcgoodfood.com/recipes/spicy-moroccan-rice',\n",
              " 'https://www.bbcgoodfood.com/recipes/moroccan-kofte-spicy-tomato-sauce',\n",
              " 'https://www.bbcgoodfood.com/recipes/moroccan-spiced-cauliflower-almond-soup',\n",
              " 'https://www.bbcgoodfood.com/recipes/moroccan-spiced-pie',\n",
              " 'https://www.bbcgoodfood.com/recipes/pumpkin-cranberry-red-onion-tagine',\n",
              " 'https://www.bbcgoodfood.com/recipes/moroccan-meatball-tagine-lemon-olives',\n",
              " 'https://www.bbcgoodfood.com/recipes/2253642/grilled-salmon-tacos-with-chipotle-lime-yogurt',\n",
              " 'https://www.bbcgoodfood.com/recipes/mexican-bean-burgers-lime-yogurt-salsa',\n",
              " 'https://www.bbcgoodfood.com/recipes/bean-enchiladas',\n",
              " 'https://www.bbcgoodfood.com/recipes/black-bean-tostadas-avocado-salsa',\n",
              " 'https://www.bbcgoodfood.com/recipes/spiced-baked-figs-ginger-mascarpone',\n",
              " 'https://www.bbcgoodfood.com/recipes/mediterranean-chicken-roasted-vegetables',\n",
              " 'https://www.bbcgoodfood.com/recipes/mediterranean-chicken-tray-bake',\n",
              " 'https://www.bbcgoodfood.com/recipes/mediterranean-fig-mozzarella-salad',\n",
              " 'https://www.bbcgoodfood.com/recipes/caponata',\n",
              " 'https://www.bbcgoodfood.com/recipes/herbed-lamb-cutlets-roasted-vegetables',\n",
              " 'https://www.bbcgoodfood.com/recipes/smoked-salmon-avocado-sushi',\n",
              " 'https://www.bbcgoodfood.com/recipes/veggie-okonomiyaki',\n",
              " 'https://www.bbcgoodfood.com/recipes/japanese-ramen-noodle-soup',\n",
              " 'https://www.bbcgoodfood.com/recipes/italian-butter-beans',\n",
              " 'https://www.bbcgoodfood.com/recipes/italian-stuffed-chicken',\n",
              " 'https://www.bbcgoodfood.com/recipes/arancini-balls',\n",
              " 'https://www.bbcgoodfood.com/recipes/pizza-margherita-4-easy-steps',\n",
              " 'https://www.bbcgoodfood.com/recipes/tandoori-roast-chicken',\n",
              " 'https://www.bbcgoodfood.com/recipes/squash-cabbage-sabzi',\n",
              " 'https://www.bbcgoodfood.com/recipes/family-meals-mild-chicken-curry',\n",
              " 'https://www.bbcgoodfood.com/recipes/malabar-prawns',\n",
              " 'https://www.bbcgoodfood.com/recipes/channa-bhatura',\n",
              " 'https://www.bbcgoodfood.com/recipes/bengali-scotch-eggs',\n",
              " 'https://www.bbcgoodfood.com/recipes/bombay-potatoes',\n",
              " 'https://www.bbcgoodfood.com/recipes/healthier-chicken-balti',\n",
              " 'https://www.bbcgoodfood.com/recipes/railway-lamb-curry',\n",
              " 'https://www.bbcgoodfood.com/recipes/crispy-greek-style-pie',\n",
              " 'https://www.bbcgoodfood.com/recipes/greek-lamb-orzo',\n",
              " 'https://www.bbcgoodfood.com/recipes/hot-chocolate-souffles-chocolate-cream-sauce',\n",
              " 'https://www.bbcgoodfood.com/recipes/raymond-blancs-cassoulet',\n",
              " 'https://www.bbcgoodfood.com/recipes/tomato-caramelised-onion-tart-tatin',\n",
              " 'https://www.bbcgoodfood.com/recipes/ultimate-french-omelette',\n",
              " 'https://www.bbcgoodfood.com/recipes/boulangere-potatoes',\n",
              " 'https://www.bbcgoodfood.com/recipes/special-fried-rice-prawns-chorizo',\n",
              " 'https://www.bbcgoodfood.com/recipes/hoisin-wraps',\n",
              " 'https://www.bbcgoodfood.com/recipes/crisp-chinese-pork',\n",
              " 'https://www.bbcgoodfood.com/recipes/salt-pepper-prawns',\n",
              " 'https://www.bbcgoodfood.com/recipes/jerk-pork-rice-beans',\n",
              " 'https://www.bbcgoodfood.com/recipes/tropical-breakfast-smoothie',\n",
              " 'https://www.bbcgoodfood.com/recipes/goat-curry',\n",
              " 'https://www.bbcgoodfood.com/recipes/jerk-sweet-potato-black-bean-curry',\n",
              " 'https://www.bbcgoodfood.com/recipes/beef-wellington',\n",
              " 'https://www.bbcgoodfood.com/recipes/fish-pie-four-steps',\n",
              " 'https://www.bbcgoodfood.com/recipes/chicken-mushroom-puff-pie',\n",
              " 'https://www.bbcgoodfood.com/recipes/split-pea-green-pea-smoked-ham-soup',\n",
              " 'https://www.bbcgoodfood.com/recipes/lemon-thyme-butter-basted-roast-chicken-gravy',\n",
              " 'https://www.bbcgoodfood.com/recipes/easy-treacle-sponge',\n",
              " 'https://www.bbcgoodfood.com/recipes/beef-ale-parsnip-pudding',\n",
              " 'https://www.bbcgoodfood.com/recipes/fully-loaded-cajun-chicken-burgers',\n",
              " 'https://www.bbcgoodfood.com/recipes/1841635/cobb-salad-with-buttermilk-ranch-dressing',\n",
              " 'https://www.bbcgoodfood.com/recipes/johns-chicken-one-pot',\n",
              " 'https://www.bbcgoodfood.com/recipes/michelada',\n",
              " 'https://www.bbcgoodfood.com/recipes/tomatillo-salsa',\n",
              " 'https://www.bbcgoodfood.com/recipes/236609/black-bean-chilli',\n",
              " 'https://www.bbcgoodfood.com/recipes/mexican-egg-roll',\n",
              " 'https://www.bbcgoodfood.com/recipes/brazil-nut-burritos',\n",
              " 'https://www.bbcgoodfood.com/recipes/1940686/mexican-chicken-stew-with-quinoa-and-beans',\n",
              " 'https://www.bbcgoodfood.com/recipes/belly-pork-pineapple-burritos',\n",
              " 'https://www.bbcgoodfood.com/recipes/burrito-bowl-chipotle-black-beans',\n",
              " 'https://www.bbcgoodfood.com/recipes/curtido',\n",
              " 'https://www.bbcgoodfood.com/recipes/fish-tacos-baja-sauce',\n",
              " 'https://www.bbcgoodfood.com/recipes/725645/refried-bean-quesadillas',\n",
              " 'https://www.bbcgoodfood.com/recipes/breakfast-burrito',\n",
              " 'https://www.bbcgoodfood.com/recipes/mexican-corn-salsa',\n",
              " 'https://www.bbcgoodfood.com/recipes/chargrilled-vegetable-tacos-smoky-salsa',\n",
              " 'https://www.bbcgoodfood.com/recipes/2121655/smoky-pork-and-black-bean-tacos',\n",
              " 'https://www.bbcgoodfood.com/recipes/black-eye-bean-mole-salsa',\n",
              " 'https://www.bbcgoodfood.com/recipes/mexican-tomato-rice',\n",
              " 'https://www.bbcgoodfood.com/recipes/easy-chicken-fajitas',\n",
              " 'https://www.bbcgoodfood.com/recipes/mexican-penne-avocado',\n",
              " 'https://www.bbcgoodfood.com/recipes/huevos-rancheros',\n",
              " 'https://www.bbcgoodfood.com/recipes/7996/mediterranean-feta-salad-with-pomegranate-dressing',\n",
              " 'https://www.bbcgoodfood.com/recipes/1867/mediterranean-scones',\n",
              " 'https://www.bbcgoodfood.com/recipes/11025/crispy-squid-with-caponata',\n",
              " 'https://www.bbcgoodfood.com/recipes/11600/watermelon-and-feta-salad-with-crispbread',\n",
              " 'https://www.bbcgoodfood.com/recipes/aioli',\n",
              " 'https://www.bbcgoodfood.com/recipes/4551/crunchy-baked-mussels',\n",
              " 'https://www.bbcgoodfood.com/recipes/4404/easy-stuffed-peppers',\n",
              " 'https://www.bbcgoodfood.com/recipes/7415/mediterranean-slices',\n",
              " 'https://www.bbcgoodfood.com/recipes/12355/roasted-peppers-with-tomatoes-and-anchovies',\n",
              " 'https://www.bbcgoodfood.com/recipes/1585636/mussels-with-tomatoes-and-chilli',\n",
              " 'https://www.bbcgoodfood.com/recipes/2040649/spinach-with-chilli-and-lemon-crumbs',\n",
              " 'https://www.bbcgoodfood.com/recipes/2303678/polenta-roasted-vegetables-and-peppered-parmesan-c',\n",
              " 'https://www.bbcgoodfood.com/recipes/2195651/pancettawrapped-fish-with-lemony-potatoes',\n",
              " 'https://www.bbcgoodfood.com/recipes/2220656/broad-bean-and-feta-cheese-toasts',\n",
              " 'https://www.bbcgoodfood.com/recipes/2195654/chorizo-pilaf',\n",
              " 'https://www.bbcgoodfood.com/recipes/2196641/bacon-and-brie-omelette-wedges-with-summer-salad',\n",
              " 'https://www.bbcgoodfood.com/recipes/2248640/courgette-and-quinoastuffed-peppers',\n",
              " 'https://www.bbcgoodfood.com/recipes/2249640/mediterranean-potato-salad',\n",
              " 'https://www.bbcgoodfood.com/recipes/crispy-japanese-style-chicken-burgers',\n",
              " 'https://www.bbcgoodfood.com/recipes/cheats-katsu-curry',\n",
              " 'https://www.bbcgoodfood.com/recipes/cheats-chicken-ramen',\n",
              " 'https://www.bbcgoodfood.com/recipes/seared-sirloin-japanese-dips',\n",
              " 'https://www.bbcgoodfood.com/recipes/spice-crusted-tofu-kumquat-radish-salad',\n",
              " 'https://www.bbcgoodfood.com/recipes/japanese-style-brown-rice',\n",
              " 'https://www.bbcgoodfood.com/recipes/chicken-katsu-curry-burger',\n",
              " 'https://www.bbcgoodfood.com/recipes/sushi-burrito',\n",
              " 'https://www.bbcgoodfood.com/recipes/miso-caramel-chicken-wings',\n",
              " 'https://www.bbcgoodfood.com/recipes/japanese-okonomiyaki',\n",
              " 'https://www.bbcgoodfood.com/recipes/2875679/katsu-pork-with-sticky-rice',\n",
              " 'https://www.bbcgoodfood.com/recipes/fluffy-japanese-pancakes',\n",
              " 'https://www.bbcgoodfood.com/recipes/rice-quinoa-prawn-sushi-bowl',\n",
              " 'https://www.bbcgoodfood.com/recipes/644644/miso-steak',\n",
              " 'https://www.bbcgoodfood.com/recipes/goma-ae-japanese-greens',\n",
              " 'https://www.bbcgoodfood.com/recipes/yakitori-chicken',\n",
              " 'https://www.bbcgoodfood.com/recipes/japanese-katsudon',\n",
              " 'https://www.bbcgoodfood.com/recipes/quick-sushi-bowl',\n",
              " 'https://www.bbcgoodfood.com/recipes/chuka-fu-shredded-cabbage',\n",
              " 'https://www.bbcgoodfood.com/recipes/tonkatsu-pork',\n",
              " 'https://www.bbcgoodfood.com/recipes/japanese-rice-gohan',\n",
              " 'https://www.bbcgoodfood.com/recipes/japanese-style-bento-box',\n",
              " 'https://www.bbcgoodfood.com/recipes/1094667/italian-vegetable-soup',\n",
              " 'https://www.bbcgoodfood.com/recipes/acquacotta',\n",
              " 'https://www.bbcgoodfood.com/recipes/torta-del-nonna',\n",
              " 'https://www.bbcgoodfood.com/recipes/pappardelle-rabbit-chestnut-ragu',\n",
              " 'https://www.bbcgoodfood.com/recipes/12235/blackberry-zabaglione',\n",
              " 'https://www.bbcgoodfood.com/recipes/artichoke-olive-calzones',\n",
              " 'https://www.bbcgoodfood.com/recipes/new-potato-rosemary-focaccia',\n",
              " 'https://www.bbcgoodfood.com/recipes/2196649/lamb-tagliata-with-watercress-and-tomatoes',\n",
              " 'https://www.bbcgoodfood.com/recipes/wild-garlic-butter-music-paper-bread',\n",
              " 'https://www.bbcgoodfood.com/recipes/nettle-gnudi-wild-pesto',\n",
              " 'https://www.bbcgoodfood.com/recipes/2411658/plum-and-amaretti-semifreddo',\n",
              " 'https://www.bbcgoodfood.com/recipes/taleggio-tart-walnut-pastry',\n",
              " 'https://www.bbcgoodfood.com/recipes/3494/roast-red-wine-lamb-with-italian-beans',\n",
              " 'https://www.bbcgoodfood.com/recipes/2053651/chocolate-pistachio-and-nougat-semifreddo',\n",
              " 'https://www.bbcgoodfood.com/recipes/2141638/apricot-and-ratafia-sponge-cake',\n",
              " 'https://www.bbcgoodfood.com/recipes/gnocchi-parsley-butter-samphire',\n",
              " 'https://www.bbcgoodfood.com/recipes/2248649/aubergine-rolls-with-spinach-and-ricotta',\n",
              " 'https://www.bbcgoodfood.com/recipes/2411657/fig-and-prosciutto-pizzettas',\n",
              " 'https://www.bbcgoodfood.com/recipes/2534656/affogato-al-caff-vanilla-ice-cream-and-coffee',\n",
              " 'https://www.bbcgoodfood.com/recipes/2534648/braised-rabbit-pappardelle',\n",
              " 'https://www.bbcgoodfood.com/recipes/cannoli',\n",
              " 'https://www.bbcgoodfood.com/recipes/1884/creamy-masala-chicken',\n",
              " 'https://www.bbcgoodfood.com/recipes/1993658/homestyle-chicken-curry',\n",
              " 'https://www.bbcgoodfood.com/recipes/2150642/keralan-vegetable-curry',\n",
              " 'https://www.bbcgoodfood.com/recipes/2150647/baked-country-chicken',\n",
              " 'https://www.bbcgoodfood.com/recipes/2150644/sambar',\n",
              " 'https://www.bbcgoodfood.com/recipes/2150645/fishermans-curry',\n",
              " 'https://www.bbcgoodfood.com/recipes/2491649/proper-chicken-curry',\n",
              " 'https://www.bbcgoodfood.com/recipes/2360681/curry-coconut-fish-parcels',\n",
              " 'https://www.bbcgoodfood.com/recipes/2141640/chicken-tikka-with-spiced-rice',\n",
              " 'https://www.bbcgoodfood.com/recipes/2534661/goan-prawn-and-coconut-curry-with-cumin-rice',\n",
              " 'https://www.bbcgoodfood.com/recipes/2220652/cardamom-butter-chicken',\n",
              " 'https://www.bbcgoodfood.com/recipes/2252643/new-potato-and-tamarind-salad',\n",
              " 'https://www.bbcgoodfood.com/recipes/2248651/fried-fish-and-tomato-curry',\n",
              " 'https://www.bbcgoodfood.com/recipes/2248668/coronation-chicken-naans-with-indian-slaw',\n",
              " 'https://www.bbcgoodfood.com/recipes/2252645/spiced-roast-side-of-salmon',\n",
              " 'https://www.bbcgoodfood.com/recipes/2610641/creamy-beetroot-curry',\n",
              " 'https://www.bbcgoodfood.com/recipes/12228/stuffed-tomatoes-with-lamb-mince-dill-and-rice',\n",
              " 'https://www.bbcgoodfood.com/recipes/644645/greekstyle-lamb-with-lemon-and-thyme',\n",
              " 'https://www.bbcgoodfood.com/recipes/3027/mustmake-moussaka',\n",
              " 'https://www.bbcgoodfood.com/recipes/711651/honey-yogurt-cheesecake',\n",
              " 'https://www.bbcgoodfood.com/recipes/1938/greek-salad-omelette-',\n",
              " 'https://www.bbcgoodfood.com/recipes/1120675/greek-lamb-tray-bake',\n",
              " 'https://www.bbcgoodfood.com/recipes/3301/greek-island-salad-with-chicken-and-avocado',\n",
              " 'https://www.bbcgoodfood.com/recipes/2317/greek-pasta-salad',\n",
              " 'https://www.bbcgoodfood.com/recipes/5892/greek-roast-lamb',\n",
              " 'https://www.bbcgoodfood.com/recipes/12229/gigantes-plaki',\n",
              " 'https://www.bbcgoodfood.com/recipes/2220665/lamb-kebabs-and-greek-salad',\n",
              " 'https://www.bbcgoodfood.com/recipes/2220672/barbecued-greek-lamb-with-tzatziki',\n",
              " 'https://www.bbcgoodfood.com/recipes/2358665/marinated-feta-in-thyme-and-chilli-oil',\n",
              " 'https://www.bbcgoodfood.com/recipes/2536649/greek-beans-with-seared-lamb',\n",
              " 'https://www.bbcgoodfood.com/recipes/2852670/greek-lamb-and-macaroni-bake',\n",
              " 'https://www.bbcgoodfood.com/recipes/2196639/griddled-chicken-with-quinoa-greek-salad',\n",
              " 'https://www.bbcgoodfood.com/recipes/2196639/griddled-chicken-with-quinoa-greek-salad',\n",
              " 'https://www.bbcgoodfood.com/recipes/3145676/lamb-burgers-with-tzatziki',\n",
              " 'https://www.bbcgoodfood.com/recipes/749727/greek-lamb-with-potatoes-and-olives',\n",
              " 'https://www.bbcgoodfood.com/recipes/greek-style-roast-fish',\n",
              " 'https://www.bbcgoodfood.com/recipes/artichoke-aubergine-lamb-moussaka',\n",
              " 'https://www.bbcgoodfood.com/recipes/lamb-kleftiko',\n",
              " 'https://www.bbcgoodfood.com/recipes/fennel-dauphinoise',\n",
              " 'https://www.bbcgoodfood.com/recipes/532640/summer-fish-stew-with-rouille',\n",
              " 'https://www.bbcgoodfood.com/recipes/2438/basic-hollandaise',\n",
              " 'https://www.bbcgoodfood.com/recipes/2540/white-chocolate-crme-brle',\n",
              " 'https://www.bbcgoodfood.com/recipes/4778/pear-tarte-tatin',\n",
              " 'https://www.bbcgoodfood.com/recipes/2338/chicken-liver-and-pineau-pt',\n",
              " 'https://www.bbcgoodfood.com/recipes/73609/cheesy-french-toast-with-ham-and-grilled-vine-toma',\n",
              " 'https://www.bbcgoodfood.com/recipes/518641/frenchstyle-chicken-with-peas-and-bacon',\n",
              " 'https://www.bbcgoodfood.com/recipes/3028701/threecheese-souffls',\n",
              " 'https://www.bbcgoodfood.com/recipes/9079/the-ultimate-makeover-french-onion-soup',\n",
              " 'https://www.bbcgoodfood.com/recipes/453622/apricot-french-toast',\n",
              " 'https://www.bbcgoodfood.com/recipes/honey-roast-confit-duck',\n",
              " 'https://www.bbcgoodfood.com/recipes/lighter-cassoulet',\n",
              " 'https://www.bbcgoodfood.com/recipes/summer-pistou',\n",
              " 'https://www.bbcgoodfood.com/recipes/chinon-apple-tarts',\n",
              " 'https://www.bbcgoodfood.com/recipes/sauteed-potatoes-bacon-lardons-persillade',\n",
              " 'https://www.bbcgoodfood.com/recipes/steak-hache-pommes-frites-cheats-bearnaise-sauce',\n",
              " 'https://www.bbcgoodfood.com/recipes/blood-orange-dark-chocolate-madeleines',\n",
              " 'https://www.bbcgoodfood.com/recipes/2118/steamed-pork-and-prawn-wontons',\n",
              " 'https://www.bbcgoodfood.com/recipes/2274/stirfried-greens-with-oyster-sauce',\n",
              " 'https://www.bbcgoodfood.com/recipes/3239/oriental-egg-fried-rice',\n",
              " 'https://www.bbcgoodfood.com/recipes/2830/sweet-and-sour-chicken',\n",
              " 'https://www.bbcgoodfood.com/recipes/2248/chinesestyle-wintery-rolls',\n",
              " 'https://www.bbcgoodfood.com/recipes/5138/chinesestyle-kale',\n",
              " 'https://www.bbcgoodfood.com/recipes/5589/chinese-steamed-bass-with-cabbage',\n",
              " 'https://www.bbcgoodfood.com/recipes/3207/sticky-chinese-wings-and-cucumber',\n",
              " 'https://www.bbcgoodfood.com/recipes/2852672/crispy-chilli-beef',\n",
              " 'https://www.bbcgoodfood.com/recipes/3366/sea-bass-with-sizzled-ginger-chilli-and-spring-oni',\n",
              " 'https://www.bbcgoodfood.com/recipes/2884665/gunpowder-chicken-with-dried-red-chillies-and-pean',\n",
              " 'https://www.bbcgoodfood.com/recipes/stir-fried-beef-oyster-sauce',\n",
              " 'https://www.bbcgoodfood.com/recipes/cashew-chicken',\n",
              " 'https://www.bbcgoodfood.com/recipes/chow-mein',\n",
              " 'https://www.bbcgoodfood.com/recipes/spicy-sichuan-style-prawns',\n",
              " 'https://www.bbcgoodfood.com/recipes/asian-greens',\n",
              " 'https://www.bbcgoodfood.com/recipes/steamed-sea-bass',\n",
              " 'https://www.bbcgoodfood.com/recipes/sichuan-chicken-wings',\n",
              " 'https://www.bbcgoodfood.com/recipes/egg-fried-rice',\n",
              " 'https://www.bbcgoodfood.com/recipes/chinese-beef-aubergine-hotpot',\n",
              " 'https://www.bbcgoodfood.com/recipes/2982679/mango-chicken-bean-and-rice-bake',\n",
              " 'https://www.bbcgoodfood.com/recipes/3161679/jerk-spice-mix',\n",
              " 'https://www.bbcgoodfood.com/recipes/3161688/sticky-jerk-and-brown-sugar-ribs-with-pineapple-ri',\n",
              " 'https://www.bbcgoodfood.com/recipes/jerk-pulled-pork-banana-salsa',\n",
              " 'https://www.bbcgoodfood.com/recipes/1855/exotic-avocado-salad',\n",
              " 'https://www.bbcgoodfood.com/recipes/1854/sizzling-spare-ribs-with-bbq-sauce',\n",
              " 'https://www.bbcgoodfood.com/recipes/1856/pippas-perfect-plantains',\n",
              " 'https://www.bbcgoodfood.com/recipes/1857/hot-and-spicy-sweet-potatoes',\n",
              " 'https://www.bbcgoodfood.com/recipes/2022/natalies-trinidadian-fish-stew',\n",
              " 'https://www.bbcgoodfood.com/recipes/11741/simple-coconut-and-bean-soup-',\n",
              " 'https://www.bbcgoodfood.com/recipes/11745/reggae-reggae-nachos',\n",
              " 'https://www.bbcgoodfood.com/recipes/1413635/jerk-chicken-kebabs-with-mango-salsa',\n",
              " 'https://www.bbcgoodfood.com/recipes/235607/spiced-glazed-pineapple-with-cinnamon-fromage-frai',\n",
              " 'https://www.bbcgoodfood.com/recipes/1959654/jerk-beefburger-with-pineapple-relish-and-chips',\n",
              " 'https://www.bbcgoodfood.com/recipes/2369635/jerk-chicken-with-rice-and-peas',\n",
              " 'https://www.bbcgoodfood.com/recipes/sticky-jerk-salmon-mango-slaw',\n",
              " 'https://www.bbcgoodfood.com/recipes/caribbean-beef-patties',\n",
              " 'https://www.bbcgoodfood.com/recipes/rum-punch',\n",
              " 'https://www.bbcgoodfood.com/recipes/3439/spiced-parsnip-shepherds-pies',\n",
              " 'https://www.bbcgoodfood.com/recipes/532634/grannys-victoria-sponge',\n",
              " 'https://www.bbcgoodfood.com/recipes/9644/nofuss-shepherds-pie',\n",
              " 'https://www.bbcgoodfood.com/recipes/2848/british-pork-cassoulet',\n",
              " 'https://www.bbcgoodfood.com/recipes/13015/the-ultimate-makeover-steak-and-kidney-pie',\n",
              " 'https://www.bbcgoodfood.com/recipes/1826707/marzipan-eccles-tarts',\n",
              " 'https://www.bbcgoodfood.com/recipes/2063654/rhubarb-pear-and-hazelnut-crumbles',\n",
              " 'https://www.bbcgoodfood.com/recipes/1414645/scotch-eggs',\n",
              " 'https://www.bbcgoodfood.com/recipes/2220651/scampi-with-tartare-sauce',\n",
              " 'https://www.bbcgoodfood.com/recipes/2063673/st-clements-pie',\n",
              " 'https://www.bbcgoodfood.com/recipes/2138671/nofail-yorkies',\n",
              " 'https://www.bbcgoodfood.com/recipes/2063668/roast-lamb-with-spring-herb-crumbs',\n",
              " 'https://www.bbcgoodfood.com/recipes/2138667/roast-beef-with-caramelised-onion-gravy',\n",
              " 'https://www.bbcgoodfood.com/recipes/2198657/classic-summer-pudding',\n",
              " 'https://www.bbcgoodfood.com/recipes/2219676/cherry-and-almond-tarts',\n",
              " 'https://www.bbcgoodfood.com/recipes/1958635/crispy-topped-cumberland-pie',\n",
              " 'https://www.bbcgoodfood.com/recipes/1758645/herby-toad-in-the-hole',\n",
              " 'https://www.bbcgoodfood.com/recipes/2248635/mini-pork-pies-with-piccalilli-',\n",
              " 'https://www.bbcgoodfood.com/recipes/peanut-butter-jelly-cookies',\n",
              " 'https://www.bbcgoodfood.com/recipes/bbq-pulled-pork',\n",
              " 'https://www.bbcgoodfood.com/recipes/2869/new-york-cheesecake',\n",
              " 'https://www.bbcgoodfood.com/recipes/1263663/john-torodes-big-burger',\n",
              " 'https://www.bbcgoodfood.com/recipes/smoky-pork-boston-beans-one-pot',\n",
              " 'https://www.bbcgoodfood.com/recipes/emmas-almost-famous-bourbon-black-cherry-bacon-brownies',\n",
              " 'https://www.bbcgoodfood.com/recipes/all-american-t-bone',\n",
              " 'https://www.bbcgoodfood.com/recipes/safe-eat-uncooked-cookie-dough',\n",
              " 'https://www.bbcgoodfood.com/recipes/diner-sloppy-joes',\n",
              " 'https://www.bbcgoodfood.com/recipes/2248636/stickiestever-bbq-ribs-with-chive-dip',\n",
              " 'https://www.bbcgoodfood.com/recipes/smoky-braised-brisket',\n",
              " 'https://www.bbcgoodfood.com/recipes/american-burnt-onion-dip',\n",
              " 'https://www.bbcgoodfood.com/recipes/choc-chip-pecan-pie',\n",
              " 'https://www.bbcgoodfood.com/recipes/baby-back-ribs-carolina-baste',\n",
              " 'https://www.bbcgoodfood.com/recipes/american-pancakes',\n",
              " 'https://www.bbcgoodfood.com/recipes/creamed-corn',\n",
              " 'https://www.bbcgoodfood.com/recipes/cheesesteak-hotdogs',\n",
              " 'https://www.bbcgoodfood.com/recipes/spicy-pies-sweet-potato-mash',\n",
              " 'https://www.bbcgoodfood.com/recipes/sticky-bourbon-bbq-wings-blue-cheese-dip',\n",
              " 'https://www.bbcgoodfood.com/recipes/tomato-avocado-corn-salad-migas-buttermilk-dressing',\n",
              " 'https://www.bbcgoodfood.com/recipes/smores-dip',\n",
              " 'https://www.bbcgoodfood.com/recipes/texas-bbq-medley',\n",
              " 'https://www.bbcgoodfood.com/recipes/buffalo-chicken',\n",
              " 'https://www.bbcgoodfood.com/recipes/237611/crunchy-asian-cabbage-and-prawn-salad',\n",
              " 'https://www.bbcgoodfood.com/recipes/11261/asian-chicken-salad',\n",
              " 'https://www.bbcgoodfood.com/recipes/12753/asian-prawn-and-pineapple-salad',\n",
              " 'https://www.bbcgoodfood.com/recipes/2271/noodle-bowl-salad',\n",
              " 'https://www.bbcgoodfood.com/recipes/7748/crunchy-prawn-noodle-salad',\n",
              " 'https://www.bbcgoodfood.com/recipes/5095/asian-noodle-and-turkey-soup',\n",
              " 'https://www.bbcgoodfood.com/recipes/1553638/vietnamese-prawn-and-noodle-salad-with-crispy-shal',\n",
              " 'https://www.bbcgoodfood.com/recipes/3362/barbecue-pork-buns',\n",
              " 'https://www.bbcgoodfood.com/recipes/1623/vietnamese-veg-parcels',\n",
              " 'https://www.bbcgoodfood.com/recipes/8049/prawn-spring-roll-wraps',\n",
              " 'https://www.bbcgoodfood.com/recipes/12142/tofu-greens-and-cashew-stirfry',\n",
              " 'https://www.bbcgoodfood.com/recipes/531630/vietnamese-prawn-salad',\n",
              " 'https://www.bbcgoodfood.com/recipes/1167650/bang-bang-prawn-salad',\n",
              " 'https://www.bbcgoodfood.com/recipes/vietnamese-caramel-trout',\n",
              " 'https://www.bbcgoodfood.com/recipes/3161707/vietnamese-prawn-summer-rolls',\n",
              " 'https://www.bbcgoodfood.com/recipes/1413640/vietnamese-seafood-salad',\n",
              " 'https://www.bbcgoodfood.com/recipes/8823/vietnamese-veggie-hotpot',\n",
              " 'https://www.bbcgoodfood.com/recipes/1572650/salmon-noodle-soup',\n",
              " 'https://www.bbcgoodfood.com/recipes/1162659/oriental-duck-salad',\n",
              " 'https://www.bbcgoodfood.com/recipes/2411641/vietnamese-chicken-salad',\n",
              " 'https://www.bbcgoodfood.com/recipes/67613/vietnamese-lamb-shanks-with-sweet-potatoes',\n",
              " 'https://www.bbcgoodfood.com/recipes/vietnamese-chicken-baguettes-bhan-mi',\n",
              " 'https://www.bbcgoodfood.com/recipes/1758649/hot-and-sour-fish-soup',\n",
              " 'https://www.bbcgoodfood.com/recipes/13147/grilled-lamb-with-wintry-rice-salad',\n",
              " 'https://www.bbcgoodfood.com/recipes/1323/walnut-date-and-honey-cake',\n",
              " 'https://www.bbcgoodfood.com/recipes/4410/turkishstyle-lamb',\n",
              " 'https://www.bbcgoodfood.com/recipes/13096/baked-aubergine-stuffed-with-roast-pumpkin-feta-an',\n",
              " 'https://www.bbcgoodfood.com/recipes/164606/roasted-chicken-with-creamy-walnut-sauce',\n",
              " 'https://www.bbcgoodfood.com/recipes/144606/minty-lamb-flatbreads',\n",
              " 'https://www.bbcgoodfood.com/recipes/5993/aubergine-couscous-salad',\n",
              " 'https://www.bbcgoodfood.com/recipes/1108650/almond-and-honey-pastries-with-orange-cream',\n",
              " 'https://www.bbcgoodfood.com/recipes/2360649/chilli-ginger-lamb-chops',\n",
              " 'https://www.bbcgoodfood.com/recipes/2138653/smoky-chicken-skewers',\n",
              " 'https://www.bbcgoodfood.com/recipes/2837674/rose-cream-and-raspberry-jellies',\n",
              " 'https://www.bbcgoodfood.com/recipes/634633/chicken-wings-with-cumin-lemon-and-garlic',\n",
              " 'https://www.bbcgoodfood.com/recipes/2320650/hot-cumin-lamb-wrap-with-crunchy-slaw-and-spicy-ma',\n",
              " 'https://www.bbcgoodfood.com/recipes/7736/diy-kofta-burgers',\n",
              " 'https://www.bbcgoodfood.com/recipes/681666/imam-bayildi-with-bbq-lamb-and-tzatziki',\n",
              " 'https://www.bbcgoodfood.com/recipes/3158681/spiced-lamb-and-feta-gozleme-with-special-tomato-s',\n",
              " 'https://www.bbcgoodfood.com/recipes/291607/phat-thai',\n",
              " 'https://www.bbcgoodfood.com/recipes/764635/superfast-pad-thai',\n",
              " 'https://www.bbcgoodfood.com/recipes/775669/thai-pumpkin-soup',\n",
              " 'https://www.bbcgoodfood.com/recipes/1112636/spicy-thai-prawn-noodles',\n",
              " 'https://www.bbcgoodfood.com/recipes/1120676/thai-coconut-and-veg-broth',\n",
              " 'https://www.bbcgoodfood.com/recipes/1166637/thai-spinach-bites',\n",
              " 'https://www.bbcgoodfood.com/recipes/1883/thai-chicken-cakes-with-sweet-chilli-sauce',\n",
              " 'https://www.bbcgoodfood.com/recipes/7418/easy-thai-prawn-curry',\n",
              " 'https://www.bbcgoodfood.com/recipes/4498/red-curry-chicken-kebabs-',\n",
              " 'https://www.bbcgoodfood.com/recipes/1541/thai-rice-noodle-salad',\n",
              " 'https://www.bbcgoodfood.com/recipes/1286/fragrant-thai-prawns',\n",
              " 'https://www.bbcgoodfood.com/recipes/4753/thai-minced-chicken-salad',\n",
              " 'https://www.bbcgoodfood.com/recipes/1424/ken-homs-stirfried-chicken-with-chillies-and-basil',\n",
              " 'https://www.bbcgoodfood.com/recipes/559630/thai-shredded-chicken-and-runner-bean-salad',\n",
              " 'https://www.bbcgoodfood.com/recipes/468653/thai-prawn-ginger-and-spring-onion-stirfry',\n",
              " 'https://www.bbcgoodfood.com/recipes/2865686/thai-fried-rice-with-prawns-and-peas',\n",
              " 'https://www.bbcgoodfood.com/recipes/2838670/thai-pork-and-peanut-curry',\n",
              " 'https://www.bbcgoodfood.com/recipes/next-level-pad-thai',\n",
              " 'https://www.bbcgoodfood.com/recipes/1916646/tom-yum-hot-and-sour-soup-with-prawns',\n",
              " 'https://www.bbcgoodfood.com/recipes/420625/spanish-beans-with-chicken-and-chorizo',\n",
              " 'https://www.bbcgoodfood.com/recipes/5322/garlicky-prawns-with-sherry',\n",
              " 'https://www.bbcgoodfood.com/recipes/5393/crispy-squid-with-capers',\n",
              " 'https://www.bbcgoodfood.com/recipes/1147/spaghetti-with-spanish-flavours',\n",
              " 'https://www.bbcgoodfood.com/recipes/1182/prawns-with-romesco-sauce',\n",
              " 'https://www.bbcgoodfood.com/recipes/4501/quick-gazpacho-',\n",
              " 'https://www.bbcgoodfood.com/recipes/2628/chorizo-and-chickpea-soup',\n",
              " 'https://www.bbcgoodfood.com/recipes/4021/easiest-ever-paella',\n",
              " 'https://www.bbcgoodfood.com/recipes/10775/chickpea-chorizo-and-spinach-stew',\n",
              " 'https://www.bbcgoodfood.com/recipes/8271/spanish-fig-and-almond-balls',\n",
              " 'https://www.bbcgoodfood.com/recipes/1396636/gazpacho',\n",
              " 'https://www.bbcgoodfood.com/recipes/2040646/chorizo-potato-and-cheese-omelette',\n",
              " 'https://www.bbcgoodfood.com/recipes/1508648/chorizo-and-softboiled-egg-salad',\n",
              " 'https://www.bbcgoodfood.com/recipes/9974/spanish-chicken-pie',\n",
              " 'https://www.bbcgoodfood.com/recipes/1415676/clam-chorizo-and-white-bean-stew',\n",
              " 'https://www.bbcgoodfood.com/recipes/2534659/panfried-hake-white-bean-and-chorizo-broth',\n",
              " 'https://www.bbcgoodfood.com/recipes/2459641/churros-with-chocolate-dipping-sauce',\n",
              " 'https://www.bbcgoodfood.com/recipes/2138651/roast-cod-with-paella-and-saffron-olive-oil',\n",
              " 'https://www.bbcgoodfood.com/recipes/6664/spiced-tortilla',\n",
              " 'https://www.bbcgoodfood.com/recipes/2468641/moroccan-chicken-onepot',\n",
              " 'https://www.bbcgoodfood.com/recipes/2837666/butternut-and-harissa-houmous',\n",
              " 'https://www.bbcgoodfood.com/recipes/2837670/minty-carrot-pistachio-and-feta-salad',\n",
              " 'https://www.bbcgoodfood.com/recipes/2865693/moroccan-chicken-couscous-with-dates',\n",
              " 'https://www.bbcgoodfood.com/recipes/2875669/guinea-fowl-tagine-with-chickpeas-squash-and-apric',\n",
              " 'https://www.bbcgoodfood.com/recipes/3148686/moroccan-roast-chicken-with-apricots',\n",
              " 'https://www.bbcgoodfood.com/recipes/1820/versatile-dip',\n",
              " 'https://www.bbcgoodfood.com/recipes/2640/moroccan-chard-and-lamb-panfry',\n",
              " 'https://www.bbcgoodfood.com/recipes/2041/tangy-couscous-salad',\n",
              " 'https://www.bbcgoodfood.com/recipes/5137/moroccan-spiced-carrots',\n",
              " 'https://www.bbcgoodfood.com/recipes/1499/moroccan-chickpea-soup',\n",
              " 'https://www.bbcgoodfood.com/recipes/2296/spiced-bulghar-wheat-with-roasted-peppers',\n",
              " 'https://www.bbcgoodfood.com/recipes/3095/tabbouleh',\n",
              " 'https://www.bbcgoodfood.com/recipes/5967/easy-chicken-tagine',\n",
              " 'https://www.bbcgoodfood.com/recipes/2998/speedy-moroccan-meatballs',\n",
              " 'https://www.bbcgoodfood.com/recipes/8088/moroccan-spiced-fish-with-ginger-mash',\n",
              " 'https://www.bbcgoodfood.com/recipes/5065/aromatic-lamb-with-dates',\n",
              " 'https://www.bbcgoodfood.com/recipes/2853680/moroccan-turkey-salad']"
            ]
          },
          "metadata": {
            "tags": []
          },
          "execution_count": 21
        }
      ]
    },
    {
      "cell_type": "markdown",
      "metadata": {
        "id": "egzVizwKfZ1v",
        "colab_type": "text"
      },
      "source": [
        "# Main Program\n",
        "\n",
        "List is inverted for 2nd try"
      ]
    },
    {
      "cell_type": "code",
      "metadata": {
        "id": "752tyGZxcrge",
        "colab_type": "code",
        "colab": {
          "base_uri": "https://localhost:8080/",
          "height": 1000
        },
        "outputId": "ee487473-629e-4c95-8559-7fb096d7dc2b"
      },
      "source": [
        "!pip install selenium\n",
        "!apt-get update # to update ubuntu to correctly run apt install\n",
        "!apt install chromium-chromedriver\n",
        "!cp /usr/lib/chromium-browser/chromedriver /usr/bin\n",
        "import sys\n",
        "sys.path.insert(0,'/usr/lib/chromium-browser/chromedriver')\n",
        "from selenium import webdriver\n",
        "chrome_options = webdriver.ChromeOptions()\n",
        "chrome_options.add_argument('--headless')\n",
        "chrome_options.add_argument('--no-sandbox')\n",
        "chrome_options.add_argument('--disable-dev-shm-usage')\n",
        "driver = webdriver.Chrome('chromedriver',chrome_options=chrome_options)"
      ],
      "execution_count": null,
      "outputs": [
        {
          "output_type": "stream",
          "text": [
            "Collecting selenium\n",
            "\u001b[?25l  Downloading https://files.pythonhosted.org/packages/80/d6/4294f0b4bce4de0abf13e17190289f9d0613b0a44e5dd6a7f5ca98459853/selenium-3.141.0-py2.py3-none-any.whl (904kB)\n",
            "\u001b[K     |████████████████████████████████| 911kB 4.6MB/s \n",
            "\u001b[?25hRequirement already satisfied: urllib3 in /usr/local/lib/python3.6/dist-packages (from selenium) (1.24.3)\n",
            "Installing collected packages: selenium\n",
            "Successfully installed selenium-3.141.0\n",
            "Get:1 https://cloud.r-project.org/bin/linux/ubuntu bionic-cran35/ InRelease [3,626 B]\n",
            "Ign:2 https://developer.download.nvidia.com/compute/cuda/repos/ubuntu1804/x86_64  InRelease\n",
            "Ign:3 https://developer.download.nvidia.com/compute/machine-learning/repos/ubuntu1804/x86_64  InRelease\n",
            "Get:4 https://developer.download.nvidia.com/compute/cuda/repos/ubuntu1804/x86_64  Release [697 B]\n",
            "Get:5 https://developer.download.nvidia.com/compute/machine-learning/repos/ubuntu1804/x86_64  Release [564 B]\n",
            "Get:6 http://security.ubuntu.com/ubuntu bionic-security InRelease [88.7 kB]\n",
            "Get:7 https://developer.download.nvidia.com/compute/cuda/repos/ubuntu1804/x86_64  Release.gpg [801 B]\n",
            "Get:8 https://developer.download.nvidia.com/compute/machine-learning/repos/ubuntu1804/x86_64  Release.gpg [833 B]\n",
            "Hit:9 http://archive.ubuntu.com/ubuntu bionic InRelease\n",
            "Hit:10 http://ppa.launchpad.net/graphics-drivers/ppa/ubuntu bionic InRelease\n",
            "Get:11 http://archive.ubuntu.com/ubuntu bionic-updates InRelease [88.7 kB]\n",
            "Ign:12 https://developer.download.nvidia.com/compute/cuda/repos/ubuntu1804/x86_64  Packages\n",
            "Get:12 https://developer.download.nvidia.com/compute/cuda/repos/ubuntu1804/x86_64  Packages [151 kB]\n",
            "Get:13 http://ppa.launchpad.net/marutter/c2d4u3.5/ubuntu bionic InRelease [15.4 kB]\n",
            "Get:14 https://developer.download.nvidia.com/compute/machine-learning/repos/ubuntu1804/x86_64  Packages [38.7 kB]\n",
            "Get:15 http://archive.ubuntu.com/ubuntu bionic-backports InRelease [74.6 kB]\n",
            "Get:16 http://ppa.launchpad.net/marutter/c2d4u3.5/ubuntu bionic/main Sources [1,840 kB]\n",
            "Get:17 http://archive.ubuntu.com/ubuntu bionic-updates/main amd64 Packages [1,253 kB]\n",
            "Get:18 http://archive.ubuntu.com/ubuntu bionic-updates/universe amd64 Packages [1,397 kB]\n",
            "Get:19 http://ppa.launchpad.net/marutter/c2d4u3.5/ubuntu bionic/main amd64 Packages [888 kB]\n",
            "Fetched 5,841 kB in 4s (1,519 kB/s)\n",
            "Reading package lists... Done\n",
            "Reading package lists... Done\n",
            "Building dependency tree       \n",
            "Reading state information... Done\n",
            "The following package was automatically installed and is no longer required:\n",
            "  libnvidia-common-440\n",
            "Use 'apt autoremove' to remove it.\n",
            "The following additional packages will be installed:\n",
            "  chromium-browser chromium-browser-l10n chromium-codecs-ffmpeg-extra\n",
            "Suggested packages:\n",
            "  webaccounts-chromium-extension unity-chromium-extension adobe-flashplugin\n",
            "The following NEW packages will be installed:\n",
            "  chromium-browser chromium-browser-l10n chromium-chromedriver\n",
            "  chromium-codecs-ffmpeg-extra\n",
            "0 upgraded, 4 newly installed, 0 to remove and 53 not upgraded.\n",
            "Need to get 75.5 MB of archives.\n",
            "After this operation, 256 MB of additional disk space will be used.\n",
            "Get:1 http://archive.ubuntu.com/ubuntu bionic-updates/universe amd64 chromium-codecs-ffmpeg-extra amd64 83.0.4103.61-0ubuntu0.18.04.1 [1,119 kB]\n",
            "Get:2 http://archive.ubuntu.com/ubuntu bionic-updates/universe amd64 chromium-browser amd64 83.0.4103.61-0ubuntu0.18.04.1 [66.7 MB]\n",
            "Get:3 http://archive.ubuntu.com/ubuntu bionic-updates/universe amd64 chromium-browser-l10n all 83.0.4103.61-0ubuntu0.18.04.1 [3,378 kB]\n",
            "Get:4 http://archive.ubuntu.com/ubuntu bionic-updates/universe amd64 chromium-chromedriver amd64 83.0.4103.61-0ubuntu0.18.04.1 [4,294 kB]\n",
            "Fetched 75.5 MB in 5s (15.0 MB/s)\n",
            "Selecting previously unselected package chromium-codecs-ffmpeg-extra.\n",
            "(Reading database ... 144328 files and directories currently installed.)\n",
            "Preparing to unpack .../chromium-codecs-ffmpeg-extra_83.0.4103.61-0ubuntu0.18.04.1_amd64.deb ...\n",
            "Unpacking chromium-codecs-ffmpeg-extra (83.0.4103.61-0ubuntu0.18.04.1) ...\n",
            "Selecting previously unselected package chromium-browser.\n",
            "Preparing to unpack .../chromium-browser_83.0.4103.61-0ubuntu0.18.04.1_amd64.deb ...\n",
            "Unpacking chromium-browser (83.0.4103.61-0ubuntu0.18.04.1) ...\n",
            "Selecting previously unselected package chromium-browser-l10n.\n",
            "Preparing to unpack .../chromium-browser-l10n_83.0.4103.61-0ubuntu0.18.04.1_all.deb ...\n",
            "Unpacking chromium-browser-l10n (83.0.4103.61-0ubuntu0.18.04.1) ...\n",
            "Selecting previously unselected package chromium-chromedriver.\n",
            "Preparing to unpack .../chromium-chromedriver_83.0.4103.61-0ubuntu0.18.04.1_amd64.deb ...\n",
            "Unpacking chromium-chromedriver (83.0.4103.61-0ubuntu0.18.04.1) ...\n",
            "Setting up chromium-codecs-ffmpeg-extra (83.0.4103.61-0ubuntu0.18.04.1) ...\n",
            "Setting up chromium-browser (83.0.4103.61-0ubuntu0.18.04.1) ...\n",
            "update-alternatives: using /usr/bin/chromium-browser to provide /usr/bin/x-www-browser (x-www-browser) in auto mode\n",
            "update-alternatives: using /usr/bin/chromium-browser to provide /usr/bin/gnome-www-browser (gnome-www-browser) in auto mode\n",
            "Setting up chromium-chromedriver (83.0.4103.61-0ubuntu0.18.04.1) ...\n",
            "Setting up chromium-browser-l10n (83.0.4103.61-0ubuntu0.18.04.1) ...\n",
            "Processing triggers for hicolor-icon-theme (0.17-2) ...\n",
            "Processing triggers for mime-support (3.60ubuntu1) ...\n",
            "Processing triggers for man-db (2.8.3-2ubuntu0.1) ...\n",
            "cp: '/usr/lib/chromium-browser/chromedriver' and '/usr/bin/chromedriver' are the same file\n"
          ],
          "name": "stdout"
        },
        {
          "output_type": "stream",
          "text": [
            "/usr/local/lib/python3.6/dist-packages/ipykernel_launcher.py:12: DeprecationWarning: use options instead of chrome_options\n",
            "  if sys.path[0] == '':\n"
          ],
          "name": "stderr"
        }
      ]
    },
    {
      "cell_type": "code",
      "metadata": {
        "id": "jST5itAam-Do",
        "colab_type": "code",
        "colab": {}
      },
      "source": [
        "# from selenium import webdriver\n",
        "# from selenium.webdriver.chrome.options import Options\n",
        "\n",
        "# options = Options()\n",
        "# options.binary_location = \"C:\\\\path\\\\to\\\\chrome.exe\"    #chrome binary location specified here\n",
        "# options.add_argument(\"--start-maximized\") #open Browser in maximized mode\n",
        "# options.add_argument(\"--no-sandbox\") #bypass OS security model\n",
        "# options.add_argument(\"--disable-dev-shm-usage\") #overcome limited resource problems\n",
        "# options.add_experimental_option(\"excludeSwitches\", [\"enable-automation\"])\n",
        "# options.add_experimental_option('useAutomationExtension', False)\n",
        "# driver = webdriver.Chrome(options=options, executable_path=r'C:\\path\\to\\chromedriver.exe')\n",
        "# driver.get('http://google.com/')"
      ],
      "execution_count": null,
      "outputs": []
    },
    {
      "cell_type": "code",
      "metadata": {
        "id": "Fv7i0RajcwRA",
        "colab_type": "code",
        "colab": {
          "base_uri": "https://localhost:8080/",
          "height": 1000
        },
        "outputId": "3c086849-be1e-42f8-be87-9da64e77aecd"
      },
      "source": [
        "!pip install scrapy\n",
        "import scrapy"
      ],
      "execution_count": null,
      "outputs": [
        {
          "output_type": "stream",
          "text": [
            "Collecting scrapy\n",
            "\u001b[?25l  Downloading https://files.pythonhosted.org/packages/9a/d3/5af102af577f57f706fcb302ea47d40e09355778488de904b3594d4e48d2/Scrapy-2.1.0-py2.py3-none-any.whl (239kB)\n",
            "\r\u001b[K     |█▍                              | 10kB 18.9MB/s eta 0:00:01\r\u001b[K     |██▊                             | 20kB 3.0MB/s eta 0:00:01\r\u001b[K     |████                            | 30kB 3.6MB/s eta 0:00:01\r\u001b[K     |█████▌                          | 40kB 4.1MB/s eta 0:00:01\r\u001b[K     |██████▉                         | 51kB 3.4MB/s eta 0:00:01\r\u001b[K     |████████▏                       | 61kB 3.9MB/s eta 0:00:01\r\u001b[K     |█████████▋                      | 71kB 4.1MB/s eta 0:00:01\r\u001b[K     |███████████                     | 81kB 4.4MB/s eta 0:00:01\r\u001b[K     |████████████▎                   | 92kB 4.8MB/s eta 0:00:01\r\u001b[K     |█████████████▋                  | 102kB 4.6MB/s eta 0:00:01\r\u001b[K     |███████████████                 | 112kB 4.6MB/s eta 0:00:01\r\u001b[K     |████████████████▍               | 122kB 4.6MB/s eta 0:00:01\r\u001b[K     |█████████████████▊              | 133kB 4.6MB/s eta 0:00:01\r\u001b[K     |███████████████████▏            | 143kB 4.6MB/s eta 0:00:01\r\u001b[K     |████████████████████▌           | 153kB 4.6MB/s eta 0:00:01\r\u001b[K     |█████████████████████▉          | 163kB 4.6MB/s eta 0:00:01\r\u001b[K     |███████████████████████▏        | 174kB 4.6MB/s eta 0:00:01\r\u001b[K     |████████████████████████▋       | 184kB 4.6MB/s eta 0:00:01\r\u001b[K     |██████████████████████████      | 194kB 4.6MB/s eta 0:00:01\r\u001b[K     |███████████████████████████▎    | 204kB 4.6MB/s eta 0:00:01\r\u001b[K     |████████████████████████████▊   | 215kB 4.6MB/s eta 0:00:01\r\u001b[K     |██████████████████████████████  | 225kB 4.6MB/s eta 0:00:01\r\u001b[K     |███████████████████████████████▍| 235kB 4.6MB/s eta 0:00:01\r\u001b[K     |████████████████████████████████| 245kB 4.6MB/s \n",
            "\u001b[?25hRequirement already satisfied: lxml>=3.5.0 in /usr/local/lib/python3.6/dist-packages (from scrapy) (4.2.6)\n",
            "Collecting queuelib>=1.4.2\n",
            "  Downloading https://files.pythonhosted.org/packages/4c/85/ae64e9145f39dd6d14f8af3fa809a270ef3729f3b90b3c0cf5aa242ab0d4/queuelib-1.5.0-py2.py3-none-any.whl\n",
            "Collecting parsel>=1.5.0\n",
            "  Downloading https://files.pythonhosted.org/packages/23/1e/9b39d64cbab79d4362cdd7be7f5e9623d45c4a53b3f7522cd8210df52d8e/parsel-1.6.0-py2.py3-none-any.whl\n",
            "Collecting zope.interface>=4.1.3\n",
            "\u001b[?25l  Downloading https://files.pythonhosted.org/packages/57/33/565274c28a11af60b7cfc0519d46bde4125fcd7d32ebc0a81b480d0e8da6/zope.interface-5.1.0-cp36-cp36m-manylinux2010_x86_64.whl (234kB)\n",
            "\u001b[K     |████████████████████████████████| 235kB 11.8MB/s \n",
            "\u001b[?25hCollecting w3lib>=1.17.0\n",
            "  Downloading https://files.pythonhosted.org/packages/a3/59/b6b14521090e7f42669cafdb84b0ab89301a42f1f1a82fcf5856661ea3a7/w3lib-1.22.0-py2.py3-none-any.whl\n",
            "Collecting PyDispatcher>=2.0.5\n",
            "  Downloading https://files.pythonhosted.org/packages/cd/37/39aca520918ce1935bea9c356bcbb7ed7e52ad4e31bff9b943dfc8e7115b/PyDispatcher-2.0.5.tar.gz\n",
            "Collecting cssselect>=0.9.1\n",
            "  Downloading https://files.pythonhosted.org/packages/3b/d4/3b5c17f00cce85b9a1e6f91096e1cc8e8ede2e1be8e96b87ce1ed09e92c5/cssselect-1.1.0-py2.py3-none-any.whl\n",
            "Collecting pyOpenSSL>=16.2.0\n",
            "\u001b[?25l  Downloading https://files.pythonhosted.org/packages/9e/de/f8342b68fa9e981d348039954657bdf681b2ab93de27443be51865ffa310/pyOpenSSL-19.1.0-py2.py3-none-any.whl (53kB)\n",
            "\u001b[K     |████████████████████████████████| 61kB 7.0MB/s \n",
            "\u001b[?25hCollecting protego>=0.1.15\n",
            "\u001b[?25l  Downloading https://files.pythonhosted.org/packages/db/6e/bf6d5e4d7cf233b785719aaec2c38f027b9c2ed980a0015ec1a1cced4893/Protego-0.1.16.tar.gz (3.2MB)\n",
            "\u001b[K     |████████████████████████████████| 3.2MB 15.3MB/s \n",
            "\u001b[?25hCollecting Twisted>=17.9.0\n",
            "\u001b[?25l  Downloading https://files.pythonhosted.org/packages/b7/04/1a664c9e5ec0224a1c1a154ddecaa4dc7b8967521bba225efcc41a03d5f3/Twisted-20.3.0-cp36-cp36m-manylinux1_x86_64.whl (3.1MB)\n",
            "\u001b[K     |████████████████████████████████| 3.1MB 46.2MB/s \n",
            "\u001b[?25hCollecting service-identity>=16.0.0\n",
            "  Downloading https://files.pythonhosted.org/packages/e9/7c/2195b890023e098f9618d43ebc337d83c8b38d414326685339eb024db2f6/service_identity-18.1.0-py2.py3-none-any.whl\n",
            "Collecting cryptography>=2.0\n",
            "\u001b[?25l  Downloading https://files.pythonhosted.org/packages/3c/04/686efee2dcdd25aecf357992e7d9362f443eb182ecd623f882bc9f7a6bba/cryptography-2.9.2-cp35-abi3-manylinux2010_x86_64.whl (2.7MB)\n",
            "\u001b[K     |████████████████████████████████| 2.7MB 47.8MB/s \n",
            "\u001b[?25hRequirement already satisfied: six>=1.6.0 in /usr/local/lib/python3.6/dist-packages (from parsel>=1.5.0->scrapy) (1.12.0)\n",
            "Requirement already satisfied: setuptools in /usr/local/lib/python3.6/dist-packages (from zope.interface>=4.1.3->scrapy) (47.3.1)\n",
            "Collecting incremental>=16.10.1\n",
            "  Downloading https://files.pythonhosted.org/packages/f5/1d/c98a587dc06e107115cf4a58b49de20b19222c83d75335a192052af4c4b7/incremental-17.5.0-py2.py3-none-any.whl\n",
            "Requirement already satisfied: attrs>=19.2.0 in /usr/local/lib/python3.6/dist-packages (from Twisted>=17.9.0->scrapy) (19.3.0)\n",
            "Collecting hyperlink>=17.1.1\n",
            "  Downloading https://files.pythonhosted.org/packages/7f/91/e916ca10a2de1cb7101a9b24da546fb90ee14629e23160086cf3361c4fb8/hyperlink-19.0.0-py2.py3-none-any.whl\n",
            "Collecting Automat>=0.3.0\n",
            "  Downloading https://files.pythonhosted.org/packages/dd/83/5f6f3c1a562674d65efc320257bdc0873ec53147835aeef7762fe7585273/Automat-20.2.0-py2.py3-none-any.whl\n",
            "Collecting PyHamcrest!=1.10.0,>=1.9.0\n",
            "\u001b[?25l  Downloading https://files.pythonhosted.org/packages/40/16/e54cc65891f01cb62893540f44ffd3e8dab0a22443e1b438f1a9f5574bee/PyHamcrest-2.0.2-py3-none-any.whl (52kB)\n",
            "\u001b[K     |████████████████████████████████| 61kB 8.1MB/s \n",
            "\u001b[?25hCollecting constantly>=15.1\n",
            "  Downloading https://files.pythonhosted.org/packages/b9/65/48c1909d0c0aeae6c10213340ce682db01b48ea900a7d9fce7a7910ff318/constantly-15.1.0-py2.py3-none-any.whl\n",
            "Requirement already satisfied: pyasn1-modules in /usr/local/lib/python3.6/dist-packages (from service-identity>=16.0.0->scrapy) (0.2.8)\n",
            "Requirement already satisfied: pyasn1 in /usr/local/lib/python3.6/dist-packages (from service-identity>=16.0.0->scrapy) (0.4.8)\n",
            "Requirement already satisfied: cffi!=1.11.3,>=1.8 in /usr/local/lib/python3.6/dist-packages (from cryptography>=2.0->scrapy) (1.14.0)\n",
            "Requirement already satisfied: idna>=2.5 in /usr/local/lib/python3.6/dist-packages (from hyperlink>=17.1.1->Twisted>=17.9.0->scrapy) (2.9)\n",
            "Requirement already satisfied: pycparser in /usr/local/lib/python3.6/dist-packages (from cffi!=1.11.3,>=1.8->cryptography>=2.0->scrapy) (2.20)\n",
            "Building wheels for collected packages: PyDispatcher, protego\n",
            "  Building wheel for PyDispatcher (setup.py) ... \u001b[?25l\u001b[?25hdone\n",
            "  Created wheel for PyDispatcher: filename=PyDispatcher-2.0.5-cp36-none-any.whl size=11515 sha256=243587a8b1e16e136f61fbc6488f5ae8868a89d01ee663ed4598ff0bf0a26922\n",
            "  Stored in directory: /root/.cache/pip/wheels/88/99/96/cfef6665f9cb1522ee6757ae5955feedf2fe25f1737f91fa7f\n",
            "  Building wheel for protego (setup.py) ... \u001b[?25l\u001b[?25hdone\n",
            "  Created wheel for protego: filename=Protego-0.1.16-cp36-none-any.whl size=7765 sha256=3e6e45a2f4b95ceddf7001ba9c6fd3f84b842f9bf4395cfb22d1cd9920056fb6\n",
            "  Stored in directory: /root/.cache/pip/wheels/51/01/d1/4a2286a976dccd025ba679acacfe37320540df0f2283ecab12\n",
            "Successfully built PyDispatcher protego\n",
            "Installing collected packages: queuelib, w3lib, cssselect, parsel, zope.interface, PyDispatcher, cryptography, pyOpenSSL, protego, incremental, hyperlink, Automat, PyHamcrest, constantly, Twisted, service-identity, scrapy\n",
            "Successfully installed Automat-20.2.0 PyDispatcher-2.0.5 PyHamcrest-2.0.2 Twisted-20.3.0 constantly-15.1.0 cryptography-2.9.2 cssselect-1.1.0 hyperlink-19.0.0 incremental-17.5.0 parsel-1.6.0 protego-0.1.16 pyOpenSSL-19.1.0 queuelib-1.5.0 scrapy-2.1.0 service-identity-18.1.0 w3lib-1.22.0 zope.interface-5.1.0\n"
          ],
          "name": "stdout"
        }
      ]
    },
    {
      "cell_type": "code",
      "metadata": {
        "id": "k6D6aHVp_PHZ",
        "colab_type": "code",
        "colab": {
          "base_uri": "https://localhost:8080/",
          "height": 326
        },
        "outputId": "37633b33-f1f0-4afc-854a-945ad4d5fd3a"
      },
      "source": [
        "# Also try this\n",
        "# But understand why do I get this perticular warning!\n",
        "import warnings\n",
        "warnings.filterwarnings('ignore')\n",
        "warnings.simplefilter('ignore')\n",
        "\n",
        "!pip install js2xml"
      ],
      "execution_count": 3,
      "outputs": [
        {
          "output_type": "stream",
          "text": [
            "Collecting js2xml\n",
            "  Downloading https://files.pythonhosted.org/packages/25/96/3b9554731cd4d6c369c84ce310d9703bdf6983a88b5a7dcb08ad9b5bba92/js2xml-0.3.1-py2.py3-none-any.whl\n",
            "Collecting slimit\n",
            "\u001b[?25l  Downloading https://files.pythonhosted.org/packages/61/cf/0d6598b1ceb463a46b75a716fbb23d2d5ccc5738aba8ddceeec3fa59997f/slimit-0.8.1.zip (88kB)\n",
            "\u001b[K     |████████████████████████████████| 92kB 4.3MB/s \n",
            "\u001b[?25hRequirement already satisfied: lxml in /usr/local/lib/python3.6/dist-packages (from js2xml) (4.2.6)\n",
            "Requirement already satisfied: six in /usr/local/lib/python3.6/dist-packages (from js2xml) (1.12.0)\n",
            "Collecting ply>=3.4\n",
            "\u001b[?25l  Downloading https://files.pythonhosted.org/packages/a3/58/35da89ee790598a0700ea49b2a66594140f44dec458c07e8e3d4979137fc/ply-3.11-py2.py3-none-any.whl (49kB)\n",
            "\u001b[K     |████████████████████████████████| 51kB 4.9MB/s \n",
            "\u001b[?25hBuilding wheels for collected packages: slimit\n",
            "  Building wheel for slimit (setup.py) ... \u001b[?25l\u001b[?25hdone\n",
            "  Created wheel for slimit: filename=slimit-0.8.1-cp36-none-any.whl size=79459 sha256=7449a429bfbe0121fa671e48c9eed2cc15e1cfdb47223a72b5af61526c9e8835\n",
            "  Stored in directory: /root/.cache/pip/wheels/95/1b/fc/053f945a3d786a599d75094983e4f87a44cceedbec3ef654d9\n",
            "Successfully built slimit\n",
            "Installing collected packages: ply, slimit, js2xml\n",
            "Successfully installed js2xml-0.3.1 ply-3.11 slimit-0.8.1\n"
          ],
          "name": "stdout"
        }
      ]
    },
    {
      "cell_type": "code",
      "metadata": {
        "id": "1bqWdMc6cya0",
        "colab_type": "code",
        "colab": {}
      },
      "source": [
        "# try and see if delay will help, worth investigating! \n",
        "from lxml import html\n",
        "from lxml import etree\n",
        "from bs4 import BeautifulSoup\n",
        "from scrapy.selector import Selector\n",
        "from scrapy.http import HtmlResponse\n",
        "from random import randint\n",
        "from time import sleep\n",
        "\n",
        "\n",
        "\n",
        "useful_info = []\n",
        "\n",
        "# for i, url in enumerate(url_list):\n",
        "url = \"https://www.bbcgoodfood.com/recipes/2853680/moroccan-turkey-salad\"\n",
        "driver = webdriver.Chrome('chromedriver',chrome_options=chrome_options)\n",
        "driver.get(url)\n",
        "# may be give delay here!!!\n",
        "sleep(randint(1, 3))\n",
        "soup = BeautifulSoup(driver.page_source, 'html.parser')\n",
        "page = soup.prettify()\n",
        "\n",
        "json_data = Selector(text = page, type=\"html\").xpath('//script/text()')[41].extract()\n",
        "# js = selector.xpath('//script/text()').extract_first()\n",
        "useful_info.append(json_data)\n",
        "# print(i, \"--->\", \"\\n\")\n",
        "# print(useful_info[i])\n",
        "# print(\"\\n\")\n",
        "# print(\"\\n\")\n",
        "driver.quit()"
      ],
      "execution_count": null,
      "outputs": []
    },
    {
      "cell_type": "code",
      "metadata": {
        "id": "X9xf_13pu1-O",
        "colab_type": "code",
        "colab": {}
      },
      "source": [
        ""
      ],
      "execution_count": null,
      "outputs": []
    },
    {
      "cell_type": "code",
      "metadata": {
        "id": "DBfkARPnvTt-",
        "colab_type": "code",
        "colab": {
          "base_uri": "https://localhost:8080/",
          "height": 54
        },
        "outputId": "d4ebc332-62cb-48c5-dccd-0a2c682c4a31"
      },
      "source": [
        "import re\n",
        "s = json_data\n",
        "result = re.search('\"web\",(.*),user', s)\n",
        "use_this = result.group(1)+'}}'\n",
        "print(result.group(1)+'}}')\n"
      ],
      "execution_count": null,
      "outputs": [
        {
          "output_type": "stream",
          "text": [
            "{page:{article:{author:\"Good Food\",description:\"Use up abundant roast meat in a healthy salad with aubergine, tomatoes, pomegranate and mint\",id:\"94563\",},recipe:{collections:[\"Moroccan\",\"Leftovers\",\"Christmas recovery\",\"Leftover Christmas turkey\",\"Low-salt lunch\",\"Dairy-free lunch\",\"Low-calorie Christmas\",\"Healthy Christmas leftovers\"],cooking_time:900,prep_time:1200,serves:4,keywords:[\"Leftovers\",\"Turkey leftovers\",\"Healthy\",\"Low fat\",\"Low calorie\",\"Good for you\",\"2 of 5-a-day\",\"White meat\",\"Christmas\",\"Thrifty\"],ratings:60,nutrition_info:[\"Added sugar 6g\",\"Carbohydrate 22g\",\"Kcal 360 calories\",\"Protein 47g\",\"Salt 0.6g\",\"Saturated fat 2g\",\"Fat 9g\"],ingredients:[\"pitta bread\",\"olive oil\",\"aubergine\",\"harissa\",\"cherry tomato\",\"turkey\",\"rocket\",\"pomegranate\",\"mint\"],courses:[\"Main course\",\"Dinner\"],cusine:\"Moroccan\",diet_types:[\"Low-calorie\",\"Low-salt\",\"Healthy\"],skill_level:\"Easy\",post_dates:\"1356998400\"},channel:\"Recipe\",title:\"Moroccan turkey salad\"}}\n"
          ],
          "name": "stdout"
        }
      ]
    },
    {
      "cell_type": "code",
      "metadata": {
        "id": "Qeab3o7rVvwH",
        "colab_type": "code",
        "colab": {}
      },
      "source": [
        "arth = \"\"\"{page:{\n",
        "\tarticle:{\n",
        "\t\tauthor:\"Good Food\",description:[\"Dark, rich and delicious - the perfect dessert\"],\n",
        "\t\tid:\"97123\",\n",
        "\t\ttags:[]\n",
        "\t},\n",
        "\trecipe:{\n",
        "\t\tcollections:[\"Chocolate cake\",\"Boozy bake\"],\n",
        "\t\tcooking_time:2100,\n",
        "\t\tprep_time:1800,\n",
        "\t\tserves:10,\n",
        "\t\tkeywords:[\"Cocoa powder\",\"Dark chocolate\",\"Dessert\",\"Decadent\",\"Pudding\",\"Afternoon tea\",\"Booze\",\"Alcohol\",\"Ground almond\",\"Ground almonds\",\"Kirsch\"],\n",
        "\t\tratings:81,\n",
        "\t\tnutrition_info:[\"Added sugar 22g\",\"Carbohydrate 24g\",\"Kcal 401 calories\",\"Protein 10g\",\"Salt 0.66g\",\"Saturated fat 11g\",\"Fat 30g\"],\n",
        "\t\tingredients:[\"butter\",\"flour\",\"dark chocolate\",\"egg\",\"ground almond\",\"kirsch\",\"salt\",\"caster sugar\",\"cocoa powder\"],\n",
        "\t\tcourses:[\"Dessert\",\"Treat\",\"Buffet\"],\n",
        "\t\tcusine:\"British\",\n",
        "\t\tdiet_types:[\"Low-salt\"],\n",
        "\t\tskill_level:\"More effort\",\n",
        "\t\tpost_dates:\"1009843200\"\n",
        "\t},\n",
        "\tchannel:\"Recipe\",\n",
        "\ttitle:\"Seriously rich chocolate cake\"\n",
        "\t}\n",
        "}\"\"\""
      ],
      "execution_count": 7,
      "outputs": []
    },
    {
      "cell_type": "code",
      "metadata": {
        "id": "Q8UN68ePuw2h",
        "colab_type": "code",
        "colab": {
          "base_uri": "https://localhost:8080/",
          "height": 116
        },
        "outputId": "eafbc594-2915-4a8a-fc6c-ce6659ba5163"
      },
      "source": [
        "import js2xml\n",
        "jstree = js2xml.parse(arth)\n",
        "jstree"
      ],
      "execution_count": 8,
      "outputs": [
        {
          "output_type": "error",
          "ename": "SyntaxError",
          "evalue": "ignored",
          "traceback": [
            "\u001b[0;36m  File \u001b[0;32m\"<string>\"\u001b[0;36m, line \u001b[0;32munknown\u001b[0m\n\u001b[0;31mSyntaxError\u001b[0m\u001b[0;31m:\u001b[0m Unexpected token (COLON, ':') at 1:51 between LexToken(ID,'description',1,40) and LexToken(LBRACKET,'[',1,52)\n"
          ]
        }
      ]
    },
    {
      "cell_type": "code",
      "metadata": {
        "id": "zfNJsnmztqME",
        "colab_type": "code",
        "colab": {
          "base_uri": "https://localhost:8080/",
          "height": 54
        },
        "outputId": "5b95df45-9851-4e7b-a3f7-2c25f2deb99e"
      },
      "source": [
        "useful_info"
      ],
      "execution_count": null,
      "outputs": [
        {
          "output_type": "execute_result",
          "data": {
            "text/plain": [
              "['\\n   <!--//--><![CDATA[//><!--\\n!function(n,e,o,r,i){if(!e){e=e||{},window.permutive=e,e.q=[],e.config=i||{},e.config.projectId=o,e.config.apiKey=r,e.config.environment=e.config.environment||\"production\";for(var t=[\"addon\",\"identify\",\"track\",\"trigger\",\"query\",\"segment\",\"segments\",\"ready\",\"on\",\"once\",\"user\",\"consent\"],c=0;c<t.length;c++){var f=t[c];e[f]=function(n){return function(){var o=Array.prototype.slice.call(arguments,0);e.q.push({functionName:n,arguments:o})}}(f)}}}(document,window.permutive,\"99db7a95-b06a-4ea9-857c-f73ba0a25c19\",\"db07e0f0-8bb8-46c8-b714-291f2768d746\",{});permutive.addon(\"web\",{page:{article:{author:\"Good Food\",description:\"Use up abundant roast meat in a healthy salad with aubergine, tomatoes, pomegranate and mint\",id:\"94563\",},recipe:{collections:[\"Moroccan\",\"Leftovers\",\"Christmas recovery\",\"Leftover Christmas turkey\",\"Low-salt lunch\",\"Dairy-free lunch\",\"Low-calorie Christmas\",\"Healthy Christmas leftovers\"],cooking_time:900,prep_time:1200,serves:4,keywords:[\"Leftovers\",\"Turkey leftovers\",\"Healthy\",\"Low fat\",\"Low calorie\",\"Good for you\",\"2 of 5-a-day\",\"White meat\",\"Christmas\",\"Thrifty\"],ratings:60,nutrition_info:[\"Added sugar 6g\",\"Carbohydrate 22g\",\"Kcal 360 calories\",\"Protein 47g\",\"Salt 0.6g\",\"Saturated fat 2g\",\"Fat 9g\"],ingredients:[\"pitta bread\",\"olive oil\",\"aubergine\",\"harissa\",\"cherry tomato\",\"turkey\",\"rocket\",\"pomegranate\",\"mint\"],courses:[\"Main course\",\"Dinner\"],cusine:\"Moroccan\",diet_types:[\"Low-calorie\",\"Low-salt\",\"Healthy\"],skill_level:\"Easy\",post_dates:\"1356998400\"},channel:\"Recipe\",title:\"Moroccan turkey salad\",user:{loggedIn:false}}});\\n//--><!]]>\\n  ']"
            ]
          },
          "metadata": {
            "tags": []
          },
          "execution_count": 9
        }
      ]
    },
    {
      "cell_type": "code",
      "metadata": {
        "id": "nu8sP_2of5wE",
        "colab_type": "code",
        "colab": {}
      },
      "source": [
        "# dump the list \n",
        "import pickle\n",
        "with open('day2_recipie_list.data', 'wb') as filehandle:\n",
        "    # store the data as binary data stream\n",
        "    pickle.dump(useful_info, filehandle)"
      ],
      "execution_count": null,
      "outputs": []
    },
    {
      "cell_type": "code",
      "metadata": {
        "id": "FTePhe1QlD69",
        "colab_type": "code",
        "colab": {}
      },
      "source": [
        "\n",
        "\n",
        "with open('day2_recipie_list.data', 'rb') as filehandle:\n",
        "    # read the data as binary data stream\n",
        "    new_info = pickle.load(filehandle)"
      ],
      "execution_count": null,
      "outputs": []
    },
    {
      "cell_type": "code",
      "metadata": {
        "id": "x88W-6o8b5Ti",
        "colab_type": "code",
        "colab": {}
      },
      "source": [
        "substring = ''\n",
        "for i, item in enumerate(new_info):\n",
        "  if strings_with_substring = [string for string in strings if substring in string]\n",
        "\n",
        "  print(item)\n"
      ],
      "execution_count": null,
      "outputs": []
    },
    {
      "cell_type": "code",
      "metadata": {
        "id": "etb8slr1b6PP",
        "colab_type": "code",
        "colab": {}
      },
      "source": [
        "url_list"
      ],
      "execution_count": null,
      "outputs": []
    },
    {
      "cell_type": "code",
      "metadata": {
        "id": "rs-Zj427cR6Q",
        "colab_type": "code",
        "colab": {}
      },
      "source": [
        "import numpy as np\n",
        "strings = new_info\n",
        "srno = [0]*len(strings)\n",
        "substring = \"permutive.addon\"\n",
        "\n",
        "for i, string in enumerate(strings):\n",
        "   if substring in string:\n",
        "    srno[i] = 1"
      ],
      "execution_count": null,
      "outputs": []
    },
    {
      "cell_type": "code",
      "metadata": {
        "id": "a3RjRV-l1og8",
        "colab_type": "code",
        "colab": {}
      },
      "source": [
        "url_list"
      ],
      "execution_count": null,
      "outputs": []
    },
    {
      "cell_type": "code",
      "metadata": {
        "id": "LLe_T5l71ppv",
        "colab_type": "code",
        "colab": {}
      },
      "source": [
        ""
      ],
      "execution_count": null,
      "outputs": []
    }
  ]
}